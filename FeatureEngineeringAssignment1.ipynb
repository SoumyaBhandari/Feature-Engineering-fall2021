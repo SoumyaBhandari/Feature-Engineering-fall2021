{
 "cells": [
  {
   "cell_type": "markdown",
   "metadata": {
    "id": "DO03K07QVP-i"
   },
   "source": [
    "# Team Members: Syed Araib Karim, Amanullah Shareef, Shabbab Algamdi, Soumya Bhandari, Divya Geethanjali Birudharaju"
   ]
  },
  {
   "cell_type": "markdown",
   "metadata": {
    "id": "BLvBvXzhh_DL"
   },
   "source": [
    "# Creating Dataset"
   ]
  },
  {
   "cell_type": "code",
   "execution_count": 3,
   "metadata": {
    "id": "jrQNLlFcf-yA"
   },
   "outputs": [],
   "source": [
    "import urllib.request,sys,time\n",
    "from bs4 import BeautifulSoup\n",
    "import requests\n",
    "import pandas as pd"
   ]
  },
  {
   "cell_type": "code",
   "execution_count": 4,
   "metadata": {
    "id": "TNxURBlxvHis"
   },
   "outputs": [],
   "source": [
    "# This the code for scrapping the data by using the beautifulsoup \n",
    "import bs4\n",
    "import requests\n",
    "\n",
    "#Creating the function to scrap the web page.\n",
    "def scrapWebPage(url, articleType):                  \n",
    "  response = requests.get(url)\n",
    "\n",
    "  if response is not None:\n",
    "    html = bs4.BeautifulSoup(response.text, 'html.parser')\n",
    "\n",
    "    #title = html.select(\"#firstHeading\")[0].text\n",
    "    paragraphs = html.select(\"p\")\n",
    "    articleText = \"\"\n",
    "    for para in paragraphs:\n",
    "        articleText +=  para.text.strip('\\n')\n",
    "        #print (para.text)\n",
    "\n",
    "    # just grab the text up to contents as stated in question\n",
    "    #intro = '\\n'.join([ para.text for para in paragraphs[0:5]])\n",
    "    #print (intro)\n",
    "    data = {'category': articleType, 'content': articleText}\n",
    "    return data\n",
    "\n"
   ]
  },
  {
   "cell_type": "code",
   "execution_count": 5,
   "metadata": {
    "id": "imI5zCy0RAty"
   },
   "outputs": [],
   "source": [
    "# webpages used to extract data\n",
    "alllinks = []\n",
    "alllinks.append(scrapWebPage(\"https://www.forbes.com/sites/bernardmarr/2020/07/17/5-ways-self-driving-cars-could-make-our-world-and-our-lives-better/?sh=17181db742a3\",\"positive\"))\n",
    "alllinks.append(scrapWebPage(\"https://www.startupgrind.com/blog/5-reasons-you-should-embrace-self-driving-cars/\",\"positive\"))\n",
    "alllinks.append(scrapWebPage(\"https://www.vox.com/future-perfect/2020/2/14/21063487/self-driving-cars-autonomous-vehicles-waymo-cruise-uber\",\"negative\"))\n",
    "alllinks.append(scrapWebPage(\"https://www.iotforall.com/dangers-of-autonomous-vehicles-worldwide-adoption\",\"negative\"))\n",
    "alllinks.append(scrapWebPage(\"https://www.theatlantic.com/technology/archive/2018/12/7-arguments-against-the-autonomous-vehicle-utopia/578638/\",\"negative\"))\n",
    "alllinks.append(scrapWebPage(\"https://www.mosaic51.com/featured/11-benefits-of-self-driving-cars-how-will-your-life-improve/\",\"positive\"))\n",
    "\n",
    "alllinks.append(scrapWebPage(\"https://www.theatlantic.com/technology/archive/2018/12/7-arguments-against-the-autonomous-vehicle-utopia/578638/\",\"negative\"))\n",
    "alllinks.append(scrapWebPage(\"https://www.motortrend.com/features/self-driving-cars-digital-divide-mobility/\",\"positive\"))\n",
    "\n",
    "\n"
   ]
  },
  {
   "cell_type": "code",
   "execution_count": 6,
   "metadata": {
    "colab": {
     "base_uri": "https://localhost:8080/"
    },
    "id": "GJ4WBom03hvv",
    "outputId": "937c8985-f60f-4ef0-9a43-906d2f14f221"
   },
   "outputs": [
    {
     "name": "stdout",
     "output_type": "stream",
     "text": [
      "    File_Name                                            Content  Category  \\\n",
      "0  FileName_0  With more than 40 companies actively investing...  positive   \n",
      "1  FileName_1  2016 has been an exciting year so far for tech...  positive   \n",
      "2  FileName_2  In the age of AI advances, self-driving cars t...  negative   \n",
      "3  FileName_3  Autonomous vehicles are one of the most talked...  negative   \n",
      "4  FileName_4  All the ways the self-driving future won’t com...  negative   \n",
      "5  FileName_5  Learn about 11 of the benefits self driving ca...  positive   \n",
      "6  FileName_6  All the ways the self-driving future won’t com...  negative   \n",
      "7  FileName_7  Ask nine futurists what life will be like in 5...  positive   \n",
      "\n",
      "  Complete_Filename  \n",
      "0        FileName_0  \n",
      "1        FileName_1  \n",
      "2        FileName_2  \n",
      "3        FileName_3  \n",
      "4        FileName_4  \n",
      "5        FileName_5  \n",
      "6        FileName_6  \n",
      "7        FileName_7  \n"
     ]
    }
   ],
   "source": [
    "# giving header name\n",
    "import csv  \n",
    "def savingToDataframe(alllinks):\n",
    "  rows = []\n",
    "  fields = [\"File_Name\",\"Content\",\"Category\",\"Complete_Filename\"]\n",
    "  for i in range(0, len(alllinks)):\n",
    "    Content = alllinks[i]\n",
    "    filename = \"FileName_\"+ str(i)\n",
    "    category = Content['category']\n",
    "    Complete_Filename = filename\n",
    "    rows.append([filename, Content['content'],category, Complete_Filename])\n",
    "  df = pd.DataFrame(rows, columns=fields)\n",
    "  print(df)\n",
    "  return df\n",
    "\n",
    "df = savingToDataframe(alllinks)  "
   ]
  },
  {
   "cell_type": "code",
   "execution_count": 7,
   "metadata": {
    "colab": {
     "base_uri": "https://localhost:8080/",
     "height": 206
    },
    "id": "wL8Dr_WP59QD",
    "outputId": "cdc00183-8e29-47c8-8135-fc467612a7b7"
   },
   "outputs": [
    {
     "data": {
      "text/html": [
       "<div>\n",
       "<style scoped>\n",
       "    .dataframe tbody tr th:only-of-type {\n",
       "        vertical-align: middle;\n",
       "    }\n",
       "\n",
       "    .dataframe tbody tr th {\n",
       "        vertical-align: top;\n",
       "    }\n",
       "\n",
       "    .dataframe thead th {\n",
       "        text-align: right;\n",
       "    }\n",
       "</style>\n",
       "<table border=\"1\" class=\"dataframe\">\n",
       "  <thead>\n",
       "    <tr style=\"text-align: right;\">\n",
       "      <th></th>\n",
       "      <th>File_Name</th>\n",
       "      <th>Content</th>\n",
       "      <th>Category</th>\n",
       "      <th>Complete_Filename</th>\n",
       "    </tr>\n",
       "  </thead>\n",
       "  <tbody>\n",
       "    <tr>\n",
       "      <th>0</th>\n",
       "      <td>FileName_0</td>\n",
       "      <td>With more than 40 companies actively investing...</td>\n",
       "      <td>positive</td>\n",
       "      <td>FileName_0</td>\n",
       "    </tr>\n",
       "    <tr>\n",
       "      <th>1</th>\n",
       "      <td>FileName_1</td>\n",
       "      <td>2016 has been an exciting year so far for tech...</td>\n",
       "      <td>positive</td>\n",
       "      <td>FileName_1</td>\n",
       "    </tr>\n",
       "    <tr>\n",
       "      <th>2</th>\n",
       "      <td>FileName_2</td>\n",
       "      <td>In the age of AI advances, self-driving cars t...</td>\n",
       "      <td>negative</td>\n",
       "      <td>FileName_2</td>\n",
       "    </tr>\n",
       "    <tr>\n",
       "      <th>3</th>\n",
       "      <td>FileName_3</td>\n",
       "      <td>Autonomous vehicles are one of the most talked...</td>\n",
       "      <td>negative</td>\n",
       "      <td>FileName_3</td>\n",
       "    </tr>\n",
       "    <tr>\n",
       "      <th>4</th>\n",
       "      <td>FileName_4</td>\n",
       "      <td>All the ways the self-driving future won’t com...</td>\n",
       "      <td>negative</td>\n",
       "      <td>FileName_4</td>\n",
       "    </tr>\n",
       "  </tbody>\n",
       "</table>\n",
       "</div>"
      ],
      "text/plain": [
       "    File_Name                                            Content  Category  \\\n",
       "0  FileName_0  With more than 40 companies actively investing...  positive   \n",
       "1  FileName_1  2016 has been an exciting year so far for tech...  positive   \n",
       "2  FileName_2  In the age of AI advances, self-driving cars t...  negative   \n",
       "3  FileName_3  Autonomous vehicles are one of the most talked...  negative   \n",
       "4  FileName_4  All the ways the self-driving future won’t com...  negative   \n",
       "\n",
       "  Complete_Filename  \n",
       "0        FileName_0  \n",
       "1        FileName_1  \n",
       "2        FileName_2  \n",
       "3        FileName_3  \n",
       "4        FileName_4  "
      ]
     },
     "execution_count": 7,
     "metadata": {},
     "output_type": "execute_result"
    }
   ],
   "source": [
    "df.head()"
   ]
  },
  {
   "cell_type": "code",
   "execution_count": 8,
   "metadata": {
    "id": "DSu3Inuk6NT9"
   },
   "outputs": [],
   "source": [
    "df.to_csv('dataset_file.csv', index=False)"
   ]
  },
  {
   "cell_type": "code",
   "execution_count": 9,
   "metadata": {
    "id": "32F9wa8VK5NB"
   },
   "outputs": [],
   "source": [
    "#!unzip bbc_text.zip"
   ]
  },
  {
   "cell_type": "code",
   "execution_count": 10,
   "metadata": {
    "colab": {
     "base_uri": "https://localhost:8080/",
     "height": 237
    },
    "id": "vifZPlzkN-xZ",
    "outputId": "59714450-1426-472e-8dbf-f19e349e0824"
   },
   "outputs": [
    {
     "data": {
      "text/html": [
       "<div>\n",
       "<style scoped>\n",
       "    .dataframe tbody tr th:only-of-type {\n",
       "        vertical-align: middle;\n",
       "    }\n",
       "\n",
       "    .dataframe tbody tr th {\n",
       "        vertical-align: top;\n",
       "    }\n",
       "\n",
       "    .dataframe thead th {\n",
       "        text-align: right;\n",
       "    }\n",
       "</style>\n",
       "<table border=\"1\" class=\"dataframe\">\n",
       "  <thead>\n",
       "    <tr style=\"text-align: right;\">\n",
       "      <th></th>\n",
       "      <th>File_Name</th>\n",
       "      <th>Content</th>\n",
       "      <th>Category</th>\n",
       "      <th>Complete_Filename</th>\n",
       "    </tr>\n",
       "  </thead>\n",
       "  <tbody>\n",
       "    <tr>\n",
       "      <th>0</th>\n",
       "      <td>FileName_0</td>\n",
       "      <td>With more than 40 companies actively investing...</td>\n",
       "      <td>positive</td>\n",
       "      <td>FileName_0</td>\n",
       "    </tr>\n",
       "    <tr>\n",
       "      <th>1</th>\n",
       "      <td>FileName_1</td>\n",
       "      <td>2016 has been an exciting year so far for tech...</td>\n",
       "      <td>positive</td>\n",
       "      <td>FileName_1</td>\n",
       "    </tr>\n",
       "    <tr>\n",
       "      <th>2</th>\n",
       "      <td>FileName_2</td>\n",
       "      <td>In the age of AI advances, self-driving cars t...</td>\n",
       "      <td>negative</td>\n",
       "      <td>FileName_2</td>\n",
       "    </tr>\n",
       "    <tr>\n",
       "      <th>3</th>\n",
       "      <td>FileName_3</td>\n",
       "      <td>Autonomous vehicles are one of the most talked...</td>\n",
       "      <td>negative</td>\n",
       "      <td>FileName_3</td>\n",
       "    </tr>\n",
       "    <tr>\n",
       "      <th>4</th>\n",
       "      <td>FileName_4</td>\n",
       "      <td>All the ways the self-driving future won’t com...</td>\n",
       "      <td>negative</td>\n",
       "      <td>FileName_4</td>\n",
       "    </tr>\n",
       "    <tr>\n",
       "      <th>5</th>\n",
       "      <td>FileName_5</td>\n",
       "      <td>Learn about 11 of the benefits self driving ca...</td>\n",
       "      <td>positive</td>\n",
       "      <td>FileName_5</td>\n",
       "    </tr>\n",
       "  </tbody>\n",
       "</table>\n",
       "</div>"
      ],
      "text/plain": [
       "    File_Name                                            Content  Category  \\\n",
       "0  FileName_0  With more than 40 companies actively investing...  positive   \n",
       "1  FileName_1  2016 has been an exciting year so far for tech...  positive   \n",
       "2  FileName_2  In the age of AI advances, self-driving cars t...  negative   \n",
       "3  FileName_3  Autonomous vehicles are one of the most talked...  negative   \n",
       "4  FileName_4  All the ways the self-driving future won’t com...  negative   \n",
       "5  FileName_5  Learn about 11 of the benefits self driving ca...  positive   \n",
       "\n",
       "  Complete_Filename  \n",
       "0        FileName_0  \n",
       "1        FileName_1  \n",
       "2        FileName_2  \n",
       "3        FileName_3  \n",
       "4        FileName_4  \n",
       "5        FileName_5  "
      ]
     },
     "execution_count": 10,
     "metadata": {},
     "output_type": "execute_result"
    }
   ],
   "source": [
    "df.head(6)"
   ]
  },
  {
   "cell_type": "code",
   "execution_count": 11,
   "metadata": {
    "colab": {
     "base_uri": "https://localhost:8080/",
     "height": 300
    },
    "id": "pi3yU9KyOrLH",
    "outputId": "0093716a-f0d7-40c2-f015-32797543aaa4"
   },
   "outputs": [
    {
     "data": {
      "text/html": [
       "<div>\n",
       "<style scoped>\n",
       "    .dataframe tbody tr th:only-of-type {\n",
       "        vertical-align: middle;\n",
       "    }\n",
       "\n",
       "    .dataframe tbody tr th {\n",
       "        vertical-align: top;\n",
       "    }\n",
       "\n",
       "    .dataframe thead th {\n",
       "        text-align: right;\n",
       "    }\n",
       "</style>\n",
       "<table border=\"1\" class=\"dataframe\">\n",
       "  <thead>\n",
       "    <tr style=\"text-align: right;\">\n",
       "      <th></th>\n",
       "      <th>File_Name</th>\n",
       "      <th>Content</th>\n",
       "      <th>Category</th>\n",
       "      <th>Complete_Filename</th>\n",
       "    </tr>\n",
       "  </thead>\n",
       "  <tbody>\n",
       "    <tr>\n",
       "      <th>0</th>\n",
       "      <td>FileName_0</td>\n",
       "      <td>With more than 40 companies actively investing...</td>\n",
       "      <td>positive</td>\n",
       "      <td>FileName_0</td>\n",
       "    </tr>\n",
       "    <tr>\n",
       "      <th>1</th>\n",
       "      <td>FileName_1</td>\n",
       "      <td>2016 has been an exciting year so far for tech...</td>\n",
       "      <td>positive</td>\n",
       "      <td>FileName_1</td>\n",
       "    </tr>\n",
       "    <tr>\n",
       "      <th>2</th>\n",
       "      <td>FileName_2</td>\n",
       "      <td>In the age of AI advances, self-driving cars t...</td>\n",
       "      <td>negative</td>\n",
       "      <td>FileName_2</td>\n",
       "    </tr>\n",
       "    <tr>\n",
       "      <th>3</th>\n",
       "      <td>FileName_3</td>\n",
       "      <td>Autonomous vehicles are one of the most talked...</td>\n",
       "      <td>negative</td>\n",
       "      <td>FileName_3</td>\n",
       "    </tr>\n",
       "    <tr>\n",
       "      <th>4</th>\n",
       "      <td>FileName_4</td>\n",
       "      <td>All the ways the self-driving future won’t com...</td>\n",
       "      <td>negative</td>\n",
       "      <td>FileName_4</td>\n",
       "    </tr>\n",
       "    <tr>\n",
       "      <th>5</th>\n",
       "      <td>FileName_5</td>\n",
       "      <td>Learn about 11 of the benefits self driving ca...</td>\n",
       "      <td>positive</td>\n",
       "      <td>FileName_5</td>\n",
       "    </tr>\n",
       "    <tr>\n",
       "      <th>6</th>\n",
       "      <td>FileName_6</td>\n",
       "      <td>All the ways the self-driving future won’t com...</td>\n",
       "      <td>negative</td>\n",
       "      <td>FileName_6</td>\n",
       "    </tr>\n",
       "    <tr>\n",
       "      <th>7</th>\n",
       "      <td>FileName_7</td>\n",
       "      <td>Ask nine futurists what life will be like in 5...</td>\n",
       "      <td>positive</td>\n",
       "      <td>FileName_7</td>\n",
       "    </tr>\n",
       "  </tbody>\n",
       "</table>\n",
       "</div>"
      ],
      "text/plain": [
       "    File_Name                                            Content  Category  \\\n",
       "0  FileName_0  With more than 40 companies actively investing...  positive   \n",
       "1  FileName_1  2016 has been an exciting year so far for tech...  positive   \n",
       "2  FileName_2  In the age of AI advances, self-driving cars t...  negative   \n",
       "3  FileName_3  Autonomous vehicles are one of the most talked...  negative   \n",
       "4  FileName_4  All the ways the self-driving future won’t com...  negative   \n",
       "5  FileName_5  Learn about 11 of the benefits self driving ca...  positive   \n",
       "6  FileName_6  All the ways the self-driving future won’t com...  negative   \n",
       "7  FileName_7  Ask nine futurists what life will be like in 5...  positive   \n",
       "\n",
       "  Complete_Filename  \n",
       "0        FileName_0  \n",
       "1        FileName_1  \n",
       "2        FileName_2  \n",
       "3        FileName_3  \n",
       "4        FileName_4  \n",
       "5        FileName_5  \n",
       "6        FileName_6  \n",
       "7        FileName_7  "
      ]
     },
     "execution_count": 11,
     "metadata": {},
     "output_type": "execute_result"
    }
   ],
   "source": [
    "df.tail(10)"
   ]
  },
  {
   "cell_type": "code",
   "execution_count": 12,
   "metadata": {
    "colab": {
     "base_uri": "https://localhost:8080/"
    },
    "id": "BS8--Au1MQXj",
    "outputId": "bb95692a-6f14-4e4e-a7fc-6a393217d455"
   },
   "outputs": [
    {
     "name": "stdout",
     "output_type": "stream",
     "text": [
      "    File_Name                                            Content  Category  \\\n",
      "0  FileName_0  With more than 40 companies actively investing...  positive   \n",
      "1  FileName_1  2016 has been an exciting year so far for tech...  positive   \n",
      "2  FileName_2  In the age of AI advances, self-driving cars t...  negative   \n",
      "3  FileName_3  Autonomous vehicles are one of the most talked...  negative   \n",
      "4  FileName_4  All the ways the self-driving future won’t com...  negative   \n",
      "5  FileName_5  Learn about 11 of the benefits self driving ca...  positive   \n",
      "6  FileName_6  All the ways the self-driving future won’t com...  negative   \n",
      "7  FileName_7  Ask nine futurists what life will be like in 5...  positive   \n",
      "\n",
      "  Complete_Filename  \n",
      "0        FileName_0  \n",
      "1        FileName_1  \n",
      "2        FileName_2  \n",
      "3        FileName_3  \n",
      "4        FileName_4  \n",
      "5        FileName_5  \n",
      "6        FileName_6  \n",
      "7        FileName_7  \n"
     ]
    }
   ],
   "source": [
    "\n",
    "import pandas as pd\n",
    "fields = [\"File_Name\",\"Content\",\"Category\",\"Complete_Filename\"]\n",
    "\n",
    "df = pd.read_csv('dataset_file.csv', names=fields,header=0)\n",
    "print(df)"
   ]
  },
  {
   "cell_type": "code",
   "execution_count": 13,
   "metadata": {
    "colab": {
     "base_uri": "https://localhost:8080/"
    },
    "id": "C5E8_qBFTHUQ",
    "outputId": "c6e4d2b1-a351-4d4d-fe23-9a101c22ff81"
   },
   "outputs": [
    {
     "name": "stdout",
     "output_type": "stream",
     "text": [
      "Collecting vega==1.3\n",
      "  Downloading vega-1.3.0.tar.gz (1.5 MB)\n",
      "Building wheels for collected packages: vega\n",
      "  Building wheel for vega (setup.py): started\n",
      "  Building wheel for vega (setup.py): finished with status 'done'\n",
      "  Created wheel for vega: filename=vega-1.3.0-py3-none-any.whl size=2873885 sha256=0fdf43f69b3397627774260524df0d321813191542100acd0f958ffc786fd9df\n",
      "  Stored in directory: c:\\users\\soumya\\appdata\\local\\pip\\cache\\wheels\\12\\ee\\e6\\17f6d7e9856cab622fb96881e0411f10ed178be2fa8aa8845b\n",
      "Successfully built vega\n",
      "Installing collected packages: vega\n",
      "  Attempting uninstall: vega\n",
      "    Found existing installation: vega 3.5.0\n",
      "    Uninstalling vega-3.5.0:\n",
      "      Successfully uninstalled vega-3.5.0\n",
      "Successfully installed vega-1.3.0\n",
      "Note: you may need to restart the kernel to use updated packages.\n"
     ]
    }
   ],
   "source": [
    "pip install vega==1.3"
   ]
  },
  {
   "cell_type": "markdown",
   "metadata": {},
   "source": [
    "# EDA"
   ]
  },
  {
   "cell_type": "code",
   "execution_count": 14,
   "metadata": {
    "id": "AONsMOoNSdEk"
   },
   "outputs": [],
   "source": [
    "import pandas as pd\n",
    "import matplotlib.pyplot as plt\n",
    "import pickle\n",
    "import seaborn as sns\n",
    "sns.set_style(\"whitegrid\")\n",
    "import altair as alt\n",
    "\n",
    "# Code for hiding seaborn warnings\n",
    "import warnings\n",
    "warnings.filterwarnings(\"ignore\")"
   ]
  },
  {
   "cell_type": "code",
   "execution_count": 15,
   "metadata": {
    "colab": {
     "base_uri": "https://localhost:8080/",
     "height": 419
    },
    "id": "MtrXpIItS_mB",
    "outputId": "233d4f76-6d37-40b5-bbeb-8c992ab10d4e"
   },
   "outputs": [
    {
     "data": {
      "text/html": [
       "\n",
       "<div id=\"altair-viz-90298635d2504ead91ae18f63dd9703e\"></div>\n",
       "<script type=\"text/javascript\">\n",
       "  (function(spec, embedOpt){\n",
       "    let outputDiv = document.currentScript.previousElementSibling;\n",
       "    if (outputDiv.id !== \"altair-viz-90298635d2504ead91ae18f63dd9703e\") {\n",
       "      outputDiv = document.getElementById(\"altair-viz-90298635d2504ead91ae18f63dd9703e\");\n",
       "    }\n",
       "    const paths = {\n",
       "      \"vega\": \"https://cdn.jsdelivr.net/npm//vega@5?noext\",\n",
       "      \"vega-lib\": \"https://cdn.jsdelivr.net/npm//vega-lib?noext\",\n",
       "      \"vega-lite\": \"https://cdn.jsdelivr.net/npm//vega-lite@4.8.1?noext\",\n",
       "      \"vega-embed\": \"https://cdn.jsdelivr.net/npm//vega-embed@6?noext\",\n",
       "    };\n",
       "\n",
       "    function loadScript(lib) {\n",
       "      return new Promise(function(resolve, reject) {\n",
       "        var s = document.createElement('script');\n",
       "        s.src = paths[lib];\n",
       "        s.async = true;\n",
       "        s.onload = () => resolve(paths[lib]);\n",
       "        s.onerror = () => reject(`Error loading script: ${paths[lib]}`);\n",
       "        document.getElementsByTagName(\"head\")[0].appendChild(s);\n",
       "      });\n",
       "    }\n",
       "\n",
       "    function showError(err) {\n",
       "      outputDiv.innerHTML = `<div class=\"error\" style=\"color:red;\">${err}</div>`;\n",
       "      throw err;\n",
       "    }\n",
       "\n",
       "    function displayChart(vegaEmbed) {\n",
       "      vegaEmbed(outputDiv, spec, embedOpt)\n",
       "        .catch(err => showError(`Javascript Error: ${err.message}<br>This usually means there's a typo in your chart specification. See the javascript console for the full traceback.`));\n",
       "    }\n",
       "\n",
       "    if(typeof define === \"function\" && define.amd) {\n",
       "      requirejs.config({paths});\n",
       "      require([\"vega-embed\"], displayChart, err => showError(`Error loading script: ${err.message}`));\n",
       "    } else if (typeof vegaEmbed === \"function\") {\n",
       "      displayChart(vegaEmbed);\n",
       "    } else {\n",
       "      loadScript(\"vega\")\n",
       "        .then(() => loadScript(\"vega-lite\"))\n",
       "        .then(() => loadScript(\"vega-embed\"))\n",
       "        .catch(showError)\n",
       "        .then(() => displayChart(vegaEmbed));\n",
       "    }\n",
       "  })({\"config\": {\"view\": {\"continuousWidth\": 400, \"continuousHeight\": 300}}, \"layer\": [{\"mark\": {\"type\": \"bar\", \"size\": 50}, \"encoding\": {\"color\": {\"type\": \"nominal\", \"field\": \"Category\"}, \"tooltip\": [{\"type\": \"quantitative\", \"aggregate\": \"count\", \"title\": \"Number of articles\"}, {\"type\": \"nominal\", \"field\": \"Category\"}], \"x\": {\"type\": \"nominal\", \"field\": \"Category\"}, \"y\": {\"type\": \"quantitative\", \"aggregate\": \"count\", \"axis\": {\"title\": \"Number of articles\"}}}, \"selection\": {\"selector001\": {\"type\": \"interval\", \"bind\": \"scales\", \"encodings\": [\"x\", \"y\"]}}}, {\"mark\": {\"type\": \"text\", \"align\": \"center\", \"baseline\": \"bottom\"}, \"encoding\": {\"color\": {\"type\": \"nominal\", \"field\": \"Category\"}, \"text\": {\"type\": \"quantitative\", \"aggregate\": \"count\"}, \"tooltip\": [{\"type\": \"quantitative\", \"aggregate\": \"count\", \"title\": \"Number of articles\"}, {\"type\": \"nominal\", \"field\": \"Category\"}], \"x\": {\"type\": \"nominal\", \"field\": \"Category\"}, \"y\": {\"type\": \"quantitative\", \"aggregate\": \"count\", \"axis\": {\"title\": \"Number of articles\"}}}}], \"data\": {\"name\": \"data-338e1b7a541a3bbfc48e370ac2f523b1\"}, \"height\": 300, \"title\": \"Number of articles in each category\", \"width\": 700, \"$schema\": \"https://vega.github.io/schema/vega-lite/v4.8.1.json\", \"datasets\": {\"data-338e1b7a541a3bbfc48e370ac2f523b1\": [{\"File_Name\": \"FileName_0\", \"Content\": \"With more than 40 companies actively investing in autonomous vehicle technology, it\\u2019s fair to say that most traditional car manufacturers \\u2013 plus the odd tech heavyweight, like Google parent company Alphabet \\u2013 are busy chasing the self-driving car dream.5 Ways Self-Driving Cars Could Make Our World (And Our Lives) BetterAs a result, we\\u2019re likely to see the first truly autonomous, commercially viable driverless cars hit the market in the coming years. If that happens, autonomous vehicles have the potential to improve our world and make everyday life that little bit easier. Here are five ways I think society will benefit from autonomous cars.1. Making our roads saferWhile there have been some high-profile cases of autonomous vehicles being involved in tragic fatal accidents, data suggests that self-driving cars will ultimately make our roads safer. Statistics from the National Highway Traffic Safety Administration (NHTSA) show that driver error is by far the biggest cause of road traffic accidents, due to factors like miscalculations, errors of judgment, speeding, drink-driving, and phone use. In fact, an alarming 94 percent of serious crashes are down to human error. Fully autonomous vehicles would take human error out of the equation, thereby making our roads safer not just for drivers, but also passengers, cyclists, and pedestrians. For that reason, the NHTSA has championed the safety benefits of autonomous vehicles.2. Easing parking woesIt's also hoped that autonomous vehicles will improve parking in congested cities because driverless vehicles could simply drop passengers off and move on. This becomes increasingly realistic if the motorists of the future choose not to purchase their own self-driving vehicle, but instead make use of automated ride-sharing or taxi services. As an added bonus, with fewer people needing to find a parking space, land that is currently used for huge car parks could be repurposed for much-needed housing or attractive public spaces. With this in mind, the city of Chandler in Arizona has already changed its zoning laws to accommodate autonomous vehicles; developers will now be able to build properties with fewer parking spaces, so long as they provide suitable curb-side passenger loading zones. In other words, the buildings of the future may no longer be flanked by huge, ugly car parks, and will instead favor dedicated areas for drop-offs and pick-ups. 3. Making the daily commute more bearableWhen we reach the point where human intervention behind the wheel is no longer needed, autonomous vehicles will drastically improve the daily commute. Imagine, instead of sitting behind the wheel, you\\u2019ll be able to stretch out in the back, get ahead on some work, or simply relax and catch up on your latest Netflix obsession. When you think that Americans spend 19 full working days a year stuck in traffic on their commute, that\\u2019s an awful lot of time commuters will be able to claw back for themselves.4. Reducing emissions (well, in theory)In the future, with the majority of self-driving vehicles being electric or hybrids, and given the fact that autonomous vehicles drive more efficiently than humans, we could see a serious reduction in emissions. That\\u2019s the hope, anyway. One study by the University of California, Davis suggests that automated vehicles could reduce greenhouse gas emissions by as much as 80 percent by 2050 \\u2013 but only if the vehicles are electric and shared. If we don't transition towards more shared vehicles, then the worrying prediction is emissions could actually increase (by as much as 50 percent by 2050, according to the same study). This is because self-driving cars could make car ownership possible for people who cannot drive, potentially increasing the number of vehicles and miles driven. Therefore, this benefit is far from a foregone conclusion. As a society, we\\u2019ll need to rethink our attitude towards car ownership if we\\u2019re to reap the full environmental benefits of autonomous vehicles.5. Cutting domestic air travelVolvo\\u2019s 360c concept car, which was unveiled in 2018, provides a glimpse of a future in which self-driving cars are no longer just cars \\u2013 they're places to work, sleep, and relax. Almost a cross between a hotel room and the first-class cabin of a plane. Volvo\\u2019s vision is one of a luxurious, driverless future in which a car can pick you up and take you wherever you need to go, potentially eliminating the need for short-haul, domestic air travel. With Volvo\\u2019s concept, you would be able to order a car, pre-order food and drink, and then recline and relax in the back while the car transports you to your destination. You then arrive fresh-faced and relaxed, having endured none of the stress and exhaustion of plane travel. Particularly for journeys that could be made overnight, this vision could seriously disrupt the travel industry \\u2013 and cut the carbon footprint associated with travel. This move towards autonomous vehicles is just one of 25 technology trends that I believe will transform our society. Read more about these key trends \\u2013 including plenty of real-world examples \\u2013 in my new book, Tech Trends in Practice: The 25 Technologies That Are Driving The 4th Industrial Revolution.Bernard Marr is an internationally best-selling author, popular keynote speaker, futurist, and a strategic business & technology advisor to governments and companies. He\\u2026Bernard Marr is an internationally best-selling author, popular keynote speaker, futurist, and a strategic business & technology advisor to governments and companies. HeBernard Marr is an internationally best-selling author, popular keynote speaker, futurist, and a strategic business & technology advisor to governments and companies. He helps organisations improve their business performance, use data more intelligently, and understand the implications of new technologies such as artificial intelligence, big data, blockchains, and the Internet of Things. Why don\\u2019t you connect with Bernard on Twitter (@bernardmarr), LinkedIn (https://uk.linkedin.com/in/bernardmarr) or instagram (bernard.marr)?Bernard Marr is an internationally best-selling author, popular keynote speaker, futurist, and a strategic business & technology advisor to governments and companies. He helps organisations improve their business performance, use data more intelligently, and understand the implications of new technologies such as artificial intelligence, big data, blockchains, and the Internet of Things. Why don\\u2019t you connect with Bernard on Twitter (@bernardmarr), LinkedIn (https://uk.linkedin.com/in/bernardmarr) or instagram (bernard.marr)?\", \"Category\": \"positive\", \"Complete_Filename\": \"FileName_0\"}, {\"File_Name\": \"FileName_1\", \"Content\": \"2016 has been an exciting year so far for technologies that, until recently, have been confined to the world of science fiction dreams. Whether it\\u2019s 3D printing revolutionizing the Healthcare industry or the widespread commercial availability of VR technology, we\\u2019re continuing to witness amazing\\u00a0innovations that even just a few years ago seemed like distant possibilities at best.Another technological advancement causing widespread wonder is self-driving cars. We may not have arrived at a Jetsons-like future of flying automated vehicles just yet, but the self-driving car is getting closer and closer to becoming a widespread, viable method of transportation. And, while many are skeptical about the future of driverless and self-driving cars on the road, there\\u2019s actually a good deal of data and research to support the idea that self-driving cars may actually be better for our future.With that in mind, here are five reasons to embrace self-driving cars:It\\u2019s tough at first to wrap our minds around the fact that a car operated by computers could somehow be safer, but think of it this way: how many car accidents have been caused by some sort of human error, be it speeding, driving recklessly, inattentiveness, or worse, impaired driving? Turns out that an overwhelming majority of accidents have been caused by humans. In fact, a study by the National Highway Traffic Safety Administration (NHTSA) revealed that 94% of accidents were caused by the drivers themselves.Self-driving cars, on the other hand, are purely analytical, relying on cameras, radar, and other sensors to navigate. There\\u2019s no emotion involved, and certainly no distractions like cell phones or impairing factors like alcohol to affect driving performance. The computers in a smart car simply react quicker than our minds can and aren\\u2019t susceptible to the many potential mistakes we can make on the road. As a result, a future full of self-driving cars will be a safer one.More and more businesses are operating remotely these days, or are at least allowing people to work from home more often, and for good reasons, not the least of which is increased productivity. On average, Americans spend 26 minutes commuting to work each day. That\\u2019s almost an hour each day, and it largely goes wasted. In 2014, Americans spent an astonishing cumulative total of 29.6 billion hours commuting. Imagine what we could do with all that time back.While many already commute on buses or trains, a whole lot of people still travel to work in their own cars. A self-driving car would allow them to get some work done, knock a few emails out, or even get a little extra sleep if they have to wake up early to get to work. Many people find themselves tempted to look at their phones while driving anyway, so why not at least do it safely in a self-driving car?Cars can be very expensive investments, even if you\\u2019re not in the luxury sports car tax bracket. Indeed, AAA reports that the average annual amount spent on a car in America is close to $9,000. Some of these things you can\\u2019t avoid, like licensing and registration fees, but other costs can be eliminated or at least reduced with the help of self-driving cars.Because self-driving cars are safer, they\\u2019ll cut down on any accident-induced costs, which means insurance premiums won\\u2019t skyrocket either. Additionally, self-driving cars don\\u2019t sustain the same kind of wear and tear as human-piloted vehicles. They don\\u2019t floor the gas pedal or slam the brakes unless an emergency is detected, making for better upkeep, slower depreciation, and even better fuel efficiency. These little things can quickly add up, meaning that self-driving cars, while more expensive up front, can easily put money back in your pocket in the long-term.We\\u2019ve already talked about the benefits self-driving cars will have on the fuel economy of your vehicle, but the improved efficiency of travel thanks to self-driving cars stretches far beyond that benefit. For one, since self-driving cars are connected to the internet, their navigation will use GPS programs like Google Maps to automatically generate the quickest possible route. The deliberative architecture in self-driving cars\\u2019 software means the car is also intelligent enough to detect delays and accidents before you arrive at them, so it can reroute the vehicle\\u2019s path without running into any impediments.Speaking of delays, if we really reach a future where the road is occupied only by self-driving vehicles, even stops at traffic lights and intersections will become a thing of the past. With sensors and scheduling nodes at traffic intersections, along with the ability of cars to communicate back and forth, it\\u2019s possible that in the future we could see a perfectly efficient roadway featuring only autonomous intersections, in which the car would never have to stop until it reached its destination.Self-driving cars could be of huge benefit to the environment. According to the Union of Concerned Scientists, transportation, in general, was responsible for over half of the carbon monoxide and nitrogen oxide air pollution as well as a quarter of the hydrocarbons emitted into our atmosphere. While many self-driving cars might still emit these same materials, their improved efficiency would be a huge step forward toward a cleaner future.Part of the reason cars cause so much air pollution is traffic gridlock in highly congested areas. The efficiency of self-driving cars, in addition to the possibility of a future without any gridlock or traffic stops, will cut down on these emissions. If future manufacturers of self-driving cars follow Google\\u2019s precedent and make electric vehicles, the positive impact on the environment could be even greater. It\\u2019s worth the benefits to the environment alone to embrace the future of self-driving cars.As self-driving cars continue to get closer and closer to being on our roads, what other benefits are you excited about? Leave a comment below!SEO and marketing professional.\", \"Category\": \"positive\", \"Complete_Filename\": \"FileName_1\"}, {\"File_Name\": \"FileName_2\", \"Content\": \"In the age of AI advances, self-driving cars turned out to be harder than people expected.    Finding the best ways to do good. \\n  When it comes to self-driving cars, the future was supposed to be now. In 2020, you\\u2019ll be a \\u201cpermanent backseat driver,\\u201d the Guardian predicted in 2015. \\u201c10 million self-driving cars will be on the road by 2020,\\u201d blared a Business Insider headline from 2016. Those declarations were accompanied by announcements from General Motors, Google\\u2019s Waymo, Toyota, and Honda that they\\u2019d be making self-driving cars by 2020. Elon Musk forecast that Tesla would do it by 2018 \\u2014 and then, when that failed, by 2020. But the year is here \\u2014 and the self-driving cars aren\\u2019t. Despite extraordinary efforts from many of the leading names in tech and in automaking, fully autonomous cars are still out of reach except in special trial programs. You can buy a car that will automatically brake for you when it anticipates a collision, or one that helps keep you in your lane, or even a Tesla Model S (which \\u2014 disclosure \\u2014 my partner and I own) whose Autopilot mostly handles highway driving. But almost every one of the above predictions has been rolled back as the engineering teams at those companies struggle to make self-driving cars work properly. What happened? Here are nine questions you might have had about this long-promised technology, and why the future we were promised still hasn\\u2019t arrived.Engineers have been attempting prototypes of self-driving cars for decades. The idea behind it is really simple: Outfit a car with cameras that can track all the objects around it and have the car react if it\\u2019s about to steer into one. Teach in-car computers the rules of the road and set them loose to navigate to their own destination. This simple description elides a whole lot of complexity. Driving is one of the more complicated activities humans routinely do. Following a list of rules of the road isn\\u2019t enough to drive as well as a human does, because we do things like make eye contact with others to confirm who has the right of way, react to weather conditions, and otherwise make judgment calls that are difficult to encode in hard-and-fast rules.And even the simple parts of driving \\u2014 like tracking the objects around a car on the road \\u2014 are actually much trickier than they sound. Take Google\\u2019s sister company Waymo, the industry leader in self-driving cars. Waymo\\u2019s cars, which are fairly typical of other self-driving cars, use high-resolution cameras and lidar (light detection and ranging), a way of estimating distances to objects by bouncing light and sound off things.The car\\u2019s computers combine all of this to build a picture of where other cars, cyclists, pedestrians, and obstacles are and where they\\u2019re moving. For this part, lots of training data is needed \\u2014 that is, the car has to draw on millions of miles of driving data that Waymo has collected to form expectations about how other objects might move. It\\u2019s hard to get enough training data on the road, so the cars also train based on simulation data \\u2014 but engineers have to be sure that their AI systems will generalize correctly from the simulation data to the real world.That\\u2019s far from a complete description of the systems at work when a self-driving car is on the road. But it illustrates an important principle to keep in mind when wondering where our self-driving cars are: Even the \\u201ceasy\\u201d things turn out to hide surprising complexity.Self-driving cars rely on artificial intelligence to work. And the 2010s were a great decade for AI. We saw big advances in translation, speech generation, computer vision and object recognition, and game-playing. AI used to have a hard time identifying dogs in pictures; now that\\u2019s a trivial task.It\\u2019s this progress in AI that drove the optimistic predictions for self-driving cars in the mid-2010s. Researchers anticipated that we could build on the amazing gains they\\u2019d seen (and are still seeing) in other arenas. But when it came to self-driving cars, the limitations of those gains became very apparent. Even with extraordinary amounts of time, money, and effort invested, no team could figure out how to have AI solve a real-world problem: navigating our roads with the high degree of reliability needed.Much of the problem is the need for lots of training data. The ideal way to train a self-driving car would be to show it billions of hours of footage of real driving, and use that to teach the computer good driving behavior. Modern machine learning systems do really well when they have abundant data, and very poorly when they have only a little bit of it. But collecting data for self-driving cars is expensive. And since some events are rare \\u2014 witnessing a car accident ahead, say, or encountering debris on the road \\u2014 it\\u2019s possible for the car to be out of its depth because it has encountered a situation so infrequently in its training data.Carmakers have tried to get around this in lots of ways. They\\u2019ve driven more miles. They\\u2019ve trained the cars in simulations. They sometimes engineer specific situations so that they can get more training data about those situations for the cars. And they are getting closer. Waymo cars do roam the streets of Arizona with no one behind the wheel (a small pool of specially screened people can call them up like they would an Uber). If all goes well, they may expand to more cities later this year (more on this below). But it\\u2019s a hard problem, and progress has been slow.Companies continue to invest despite the setbacks because self-driving cars, when they happen, will change a lot for the world \\u2014 and make their creators lots of money.Many consumers will want to upgrade. Imagine being able to read or doze off during your morning drive to work or on long car trips. It also seems likely that taxi and ride-hailing companies will offer self-driving cars, rather than paying drivers (in fact, companies like Uber are betting on it). Self-driving cars should also make a huge difference for Americans with disabilities, many of whom can\\u2019t get a driver\\u2019s license and have trouble getting to work, the store, and doctor\\u2019s appointments. Experts disagree on whether self-driving cars will change anything fundamental about car ownership in America. Some argue that people won\\u2019t need to own a car if they can order one on their phone and get a timely robot ride anywhere. Others have pointed out that people generally still own a car even in areas with good ride-share coverage and that self-driving cars might not be any different. Polls suggest that most Americans don\\u2019t want to be driven to work by a self-driving car \\u2014 but that might change fast once such cars actually exist. Gallup polling on this question found a small share (9 percent) of Americans who\\u2019d get such a car right away, with a larger contingent (38 percent) saying they\\u2019d wait a while, and half holding steadfast that they\\u2019d never use one.Over time, our infrastructure will likely change to make it easier for self-driving cars to navigate, and in fact, some researchers have argued that we won\\u2019t have widespread self-driving cars until we\\u2019ve made major changes to our streets to make it easier to communicate information to those cars. That would be expensive and require nationwide coordination, so it seems likely that it would follow the widespread introduction of self-driving cars rather than precede it. Almost every major car manufacturer has at least tested the waters with self-driving car research. But some are much more serious about it than others. There are two core statistics useful for evaluating how advanced a self-driving car program is. One is how many miles it has driven. That\\u2019s a proxy for how much training data the company has, and how much investment it has poured into getting its cars on the road. The other is disengagements \\u2014 moments when a human driver has to take over because the computer couldn\\u2019t handle a situation \\u2014 per mile driven. Most companies don\\u2019t share these statistics, but the state of California requires that they be reported, and so California\\u2019s statistics are the best peek into how various companies are doing. On both fronts, Google\\u2019s sister company Waymo is the clear leader. Waymo just announced 20 million miles driven overall, most of those not in California. In 2018, Waymo drove 1.2 million miles in California, with 0.09 disengagements every 1,000 miles. Coming in second is General Motors\\u2019 Cruise, with about half a million miles and 0.19 disengagements per 1,000 miles. (Cruise argues that since it tests its cars on San Francisco\\u2019s difficult streets, these numbers are even more impressive than they look.) Those two companies are well ahead of everyone else in both miles driven and disengagements in the state of California. While that\\u2019s only a limited snapshot of their efforts, most experts consider them the leading programs in general.March 18, 2018, was the first time a self-driving car ran down a pedestrian. An Uber car with a safety driver behind the wheel hit and killed Elaine Herzberg, a 49-year-old woman walking her bicycle across the street in Tempe, Arizona. The incident was a reminder that self-driving car technology still had a long way to go. Some people were quick to point out that humans frequently kill other humans while driving, and that even if self-driving cars are much safer than humans, there will be some fatal incidents with self-driving cars. That\\u2019s true as far as it goes. But it misses a key point. Human driving produces one fatal accident in every 100 million miles driven. Waymo, the leader in miles driven, just reached 20 million miles driven. It hasn\\u2019t had a fatal accident yet, but given the number of miles its cars have driven, it\\u2019s simply far too soon to prove that they\\u2019re as safe as or safer than a human driver.Uber hasn\\u2019t driven nearly as many miles and has had a fatal incident. The company doesn\\u2019t release specific figures, but its filings for its IPO last year said that it had driven \\u201cmillions\\u201d of miles. It\\u2019s hard to tell without specific numbers, but it\\u2019s fair to wonder if Uber\\u2019s driving record is much worse than a human\\u2019s. Furthermore, a review of Herzberg\\u2019s death suggests that a lot of preventable mistakes were made. The accident report by the National Transportation Safety Board, released in December 2019, found that the near-range cameras and the ultrasonic sensors \\u201cwere not in use at the time of the crash.\\u201d Additionally, the system was having such a problem with false alarms \\u2014 detecting dangerous situations when none existed \\u2014 that it had been programmed with \\u201ca one-second period during which the ADS [automated driving system] suppresses planned braking while the (1) system verifies the nature of the detected hazard and calculates an alternative path, or (2) vehicle operator takes control of the vehicle,\\u201d according to the NTSB report. So even when the car detected the hazard, it didn\\u2019t brake \\u2014 which could have made the collision avoidable or much less deadly \\u2014 but instead continued with exactly what it was doing for a full second. The system was designed to assume that pedestrians would never cross except at a crosswalk, so when one did cross without using one, it failed to identify her. Even worse, when the system was unclear on whether an object was a bicycle (as it was with Herzberg), it was unable to retain any information about how the object was moving. The system sensed her presence six full seconds before the impact \\u2014 and yet did nothing (except possibly braking in the last two-tenths of a second) before colliding with her at deadly speed.Those are avoidable failures.Uber pulled its cars off the road in response, returning to self-driving car trials a year later with a drastically changed program. \\u201cWe\\u2019ve implemented key safety improvements from both safety reviews, shared our learnings with the larger self-driving industry, and accepted the NTSB\\u2019s recommendation to implement a Safety Management System, which is underway today,\\u201d Nat Beuse, Uber\\u2019s self-driving cars head of safety, told Vox in a statement in response to a request for comment. \\u201cAs we look ahead to the future, we\\u2019ll continue to keep safety at the center of every decision we make.\\u201dNonetheless, deadly accidents with self-driving cars will keep happening \\u2014 and it\\u2019s not just Uber. A report from the National Transportation Safety Board implicated Tesla\\u2019s Autopilot system in another lethal 2018 accident; while the driver had his hands off the wheel, the car steered into a concrete divider and crashed, killing him. A full investigation hasn\\u2019t yet been conducted on three more recent deadly Tesla crashes. The problem, according to NTSB chairman Robert Sumwalt, is that drivers assume Autopilot lets them take their attention off the road, when they shouldn\\u2019t. That won\\u2019t be a problem with fully autonomous vehicles, but it\\u2019s a potentially major one now.As I\\u2019ve written before, getting good self-driving cars on the road can save hundreds of thousands of lives. But it takes a lot of engineering work to get the cars good enough to be lifesaving. Some advocates have argued that self-driving cars will be good for the environment. They claim they might reduce car trips by making car ownership unnecessary and transitioning society to a model where most people don\\u2019t own a car and just call for one when they need one.In addition, others have argued that human drivers drive in a wasteful way \\u2014 braking hard, accelerating hard, idling the engine, all of which use up fuel \\u2014 which a computer could avoid.But as self-driving cars have inched closer to reality, most of these claimed benefits have started to look less likely. There\\u2019s not much evidence that computers are dramatically more fuel-efficient drivers than humans. There\\u2019s one small study suggesting adaptive cruise control improves efficiency a little (5 to 7 percent), but there\\u2019s little else beyond that. Furthermore, researchers have examined the effects of more fuel-efficient cars on miles traveled and found that, under many circumstances, people drive more when cars get more fuel-efficient \\u2014 so self-driving cars having higher fuel efficiency might not mean that they produce lower emissions. One study attempting to estimate the effects of self-driving cars on car use behavior simulated a family having a self-driving car by paying for them to have a chauffeur for a week, and telling them to treat the chauffeur service the way they\\u2019d treat having a car that could drive itself. The result? They went on a lot more car trips.It\\u2019s still possible that some big transition to a lower-driving world will happen. A study of one week of driving habits isn\\u2019t enough to settle the question for sure. The researchers who conducted that study are preparing future studies, and it\\u2019s possible those comparisons will turn up more encouraging results. The above few sections might inspire some pessimism, but there\\u2019s plenty of reason to be excited about self-driving cars. They will likely make life easier for older people and those with disabilities who cannot safely drive. They might provide better, safer, and cheaper options for people currently forced to own a car to get anywhere. Additional research and development will make them safer \\u2014 and once the kinks are worked out, there is a likelihood that self-driving cars will be safer than human-driven ones.In a sense, we\\u2019re in an awkward transition moment where we want self-driving cars they aren\\u2019t yet an uncomplicated positive. Research and development is proceeding anyway, mostly because self-driving cars will probably be a gold mine for the first company to get them on the road. They\\u2019ll likely be able to establish themselves in ride-hailing, taxi, and trucking markets while competitors are still struggling to catch up, and then they\\u2019ll benefit from the additional miles traveled to further improve their cars. It\\u2019s not uncommon for a technology to be dangerous and barely worth it when it is first invented, only to eventually be refined into a valuable part of modern life. The first airplanes were dangerous and commercially useless, but we improved things dramatically from there.There is no federal law regarding self-driving cars. Much of the action on policy has largely taken place at the state level. And the laws surrounding self-driving cars vary enormously by state, with 29 states having passed legislation.Self-driving car development mostly happens in the states that have been friendliest to it \\u2014 especially California and Arizona \\u2014 and it\\u2019s easy to envision some states banning self-driving cars long after they become commonplace in other states, especially if the safety case for them isn\\u2019t a slam-dunk.When self-driving cars were first proposed, I heard a lot of worries that regulators would unnecessarily delay their implementation. By 2016, it was obvious that hadn\\u2019t come to pass. Indeed, in some cases regulators may have been too permissive \\u2014 for example, in light of Uber pulling its cars and instituting new safety procedures, it seems the vehicle that killed Elaine Herzberg probably shouldn\\u2019t have been on the road at all.Policy might also shape whether self-driving cars are good or bad for the environment. With high taxes on gasoline, for example, the social costs of carbon emissions could be reflected in the price of using self-driving cars \\u2014 and the money can be spent on climate adaptation and clean energy. But right now, our transportation policy doesn\\u2019t do much of anything about the social costs of driving, and that\\u2019s a problem that will only get worse if self-driving cars put more people on the road. In some senses, we\\u2019ve been \\u201cclose\\u201d on self-driving cars for years now. Waymo is doing test runs with no one behind the wheel in Arizona, which it\\u2019s been doing since 2017. Cruise delayed the 2019 launch of its autonomous taxi service but thinks it might happen in 2020. Earlier this year, the company unveiled a car with no steering wheel ... and no timetable for when it\\u2019ll be available for sale. Tesla\\u2019s periodic software updates make its Autopilot highway self-driving work better, but it remains well short of full self-driving.There are certainly skeptics. Recently, the CEO of Volkswagen said that fully self-driving cars might \\u201cnever happen.\\u201dThat might be an overly harsh forecast, considering the progress that\\u2019s been made. But it is exasperatingly difficult to get a good estimate of how long until self-driving cars happen for real for the typical American, both because no one knows for sure and because companies have incentives to publicize optimistic estimates. The companies boast about their progress but don\\u2019t publish their mishaps. Timelines slip, and the change in plans is often publicly acknowledged only long after it\\u2019s become obvious that the deadline can\\u2019t be met. At the same time, companies hesitate to put their cars on the road when there\\u2019s any chance they aren\\u2019t ready. They are well aware that killing someone, as Uber did, is not only horrible but also probably spells doom for their business. So there\\u2019s ample incentive to say optimistic things and not actually launch.It\\u2019s not hard to imagine their arrival later this year, at least in sufficiently limited contexts; it\\u2019s also not hard to imagine that the deadlines will be pushed out another three or four years.Self-driving cars are on their way. They\\u2019re closer than they were a year ago. When they\\u2019ll actually get here is anyone\\u2019s guess.Sign up for the Future Perfect newsletter and we\\u2019ll send you a roundup of ideas and solutions for tackling the world\\u2019s biggest challenges \\u2014 and how to get better at doing good.Each week, we explore unique solutions to some of the world's biggest problems.Check your inbox for a welcome email.Future Perfect is funded in part by individual contributions, grants, and sponsorships. Learn more here.Will you support Vox\\u2019s explanatory journalism?    Millions turn to Vox to understand what\\u2019s happening in the news. Our mission has never been more vital than it is in this moment: to empower through understanding. Financial contributions from our readers are a critical part of supporting our resource-intensive work and help us keep our journalism free for all. Please consider making a contribution to Vox today from as little as $3.\\n  \", \"Category\": \"negative\", \"Complete_Filename\": \"FileName_2\"}, {\"File_Name\": \"FileName_3\", \"Content\": \"Autonomous vehicles are one of the most talked-about technological breakthroughs of the past decade. But as we approach the end of another year of testing issues and minimal developments within the industry, is it fair to say that the self-driving car\\u2019s rollout is stalling?\\u00a0In October 2020, Tesla grabbed the world\\u2019s attention with the arrival of its \\u2018Full Self Driving\\u2019 software for car owners to allow drivers to park, stay in a lane at cruising speed automatically, and stop at red lights. The unveiling was supposed to represent a significant step towards fully self-driving technology.However, according to Fortune, there are fears that the name \\u2018Full Self Driving\\u2019 may be misleading to some drivers, who could mistakenly assume that their car needs no supervision. Regulators have warned users to monitor the technology closely and \\u201ctake action to protect the public against unreasonable safety risks\\u201d.According to the chart published in Medium in 2018, 2020 was the year in which fully autonomous vehicles began to enter the market. However, by industry standards, even Tesla\\u2019s Full Self Driving software can only be considered an advanced driver assistance system (ADAS).\\u00a0So what\\u2019s holding autonomous vehicles back? Let\\u2019s take a deeper look at some of the more significant issues that self-driving cars need to hurdle before entering the market.One of the biggest issues to overcome is that, despite huge advancements in IoT technology, computers are a long way from possessing humans\\u2019 levels of intelligence.\\u00a0Of course, when it comes to individual tasks like identifying objects in pictures or following simple commands in a static environment, machines can far outperform humans. Still, many of these skills aren\\u2019t applicable in a more general situation.\\u00a0While the act of driving a car and understanding when red lights appear may be achieved by simple machines, the sheer volume of variables that occur during driving means that machines will be required to obtain huge levels of intelligence and adaptability.\\u00a0In a 2017 essay, leading robotics and artificial intelligence researcher, Rodney Brooks, stated that autonomous vehicles were not viable in the short-term due to the number of \\u2018edge cases\\u2019 that present themselves while driving. This refers to how often unusual events occur \\u2013 such as the poor driving of others, obstacles on the road, and misleading road markings.\\u00a0While humans are naturally capable of reacting to unusual events and making swift adjustments, machines can struggle to understand how to adapt their actions to respond in the right way to the road in front of them, for instance.\\u00a0Autonomous vehicles use multiple sensors to interact with the environment around them. This helps to detect objects like pedestrians, other vehicles android signs. Cameras can also help the car view objects and understand the distance between the vehicle and anything in its path. Radars can also chart the speed and direction of other vehicles and objects.\\u00a0These sensors provide feedback to the car\\u2019s control system to advise where to steer or stop. Fully autonomous cars require a wide range of sensors that can detect objects with accuracy while quickly determining their distance and speed in every possible condition to ensure safety at all times.\\u00a0However, factors like bad weather, dense traffic, weathered road signs, or damaged markings can significantly impact sensors\\u2019 capabilities.\\u00a0For truly autonomous vehicles to work, the sensors used need to be highly adaptive and strong enough to understand signals in the worst conditions in a range of environments. Given that accidents have occurred with Tesla models where cars have hit parked vehicles, it shows that there\\u2019s still some way to go in developing reliable autonomous sensors.There may be widespread concerns about the safety of autonomous vehicles in technical understanding and reacting to obstacles. Still, there\\u2019s also a significant danger that the interconnected vehicles could become the victim of cyberattacks.\\u00a0Transportation reporter Christian Wolmar reported that widespread hackings have happened \\u201cin other areas of computing, such as the big-data hacks and security lapses, and it will happen in relation to autonomous cars.\\u201d\\u00a0Given the dangers associated with a vehicle that\\u2019s been compromised by a hacker, any security issues within the firmware of cars will see widespread disruption occur as a result\\u2013\\u2013making it extremely difficult to see the rollout of autonomous vehicles before rigorous tests are conducted.\\u00a0There\\u2019s a whole host of financial issues attached to the rollout of autonomous vehicles. The matter of insurance and where the responsibility lies should accidents occur, a big hurdle to overcome.\\u00a0Traditionally, drivers pay insurance for their cars to cover any accidents taking place. Still, when a vehicle is entirely autonomous, there\\u2019s no reason for an owner to pay out when it\\u2019s likely to be the fault of the vehicle itself.\\u00a0The arrival of self-driving cars will spark a reformation of how owners pay for their cars. If insurance falls on the manufacturer, it could see the costs of vehicles rising further. In a world that\\u2019s become more accustomed to purchasing vehicles on HP or PCP finance, the complexity of ownership could be wholly off-putting for prospective buyers.\\u00a0That said, there\\u2019s little doubting that autonomous vehicles will have a role to play in the future of motoring. Whether the technology and its complicated connotations develop to the point where we could see private vehicles hitting the roads by the end of the decade, or more likely that way see some form of light delivery vehicles rolled out, it\\u2019s a testament to interconnectivity and the potential for innovation in the industry.\", \"Category\": \"negative\", \"Complete_Filename\": \"FileName_3\"}, {\"File_Name\": \"FileName_4\", \"Content\": \"All the ways the self-driving future won\\u2019t come to passSelf-driving cars are coming. Tech giants such as Uber and Alphabet have bet on it, as have old-school car manufacturers such as Ford and General Motors. But even as Google\\u2019s sister company Waymo prepares to launch its self-driving-car service and automakers prototype vehicles with various levels of artificial intelligence, there are some who believe that the autonomous future has been oversold\\u2014that even if driverless cars are coming, it won\\u2019t be as fast, or as smooth, as we\\u2019ve been led to think. The skeptics come from different disciplines inside and out of the technology and automotive industries, and each has a different bear case against self-driving cars. Add them up and you have a guide to all the ways our autonomous future might not materialize.Bear Case 1: They Won\\u2019t Work Until Cars Are as Smart as HumansComputers have nowhere near human intelligence. On individual tasks, such as playing Go or identifying some objects in a picture, they can outperform humans, but that skill does not generalize. Proponents of autonomous cars tend to see driving as more like Go: a task that can be accomplished with a far-lower-than-human understanding of the world. But in a duo of essays in 2017, Rodney Brooks, a legendary roboticist and artificial-intelligence researcher who directed the MIT Computer Science and Artificial Intelligence Laboratory for a decade, argued against the short-term viability of self-driving cars based on the sheer number of \\u201cedge cases,\\u201d i.e., unusual circumstances, they\\u2019d have to handle.Read: The AI that has nothing to learn from humans\\u201cEven with an appropriate set of guiding principles, there are going to be a lot of perceptual challenges \\u2026 that are way beyond those that current developers have solved with deep learning networks, and perhaps a lot more automated reasoning than any AI systems have so far been expected to demonstrate,\\u201d he wrote. \\u201cI suspect that to get this right we will end up wanting our cars to be as intelligent as a human, in order to handle all the edge cases appropriately. \\u201dHe still believes that self-driving cars will one day come to supplant human drivers. \\u201cHuman driving will probably disappear in the lifetimes of many people reading this,\\u201d he wrote. \\u201cBut it is not going to all happen in the blink of an eye.\\u201dBear Case 2: They Won\\u2019t Work, Because They\\u2019ll Get HackedEvery other computer thing occasionally gets hacked, so it\\u2019s a near-certainty that self-driving cars will be hacked, too. The question is whether that intrusion\\u2014or the fear of it\\u2014 will be sufficient to delay or even halt the introduction of autonomous vehicles.Read: The banality of the Equifax breachThe transportation reporter and self-driving car skeptic Christian Wolmar once asked a self-driving-car security specialist named Tim Mackey to lay out the problem. Mackey \\u201cbelieves there will be a seminal event that will stop all the players in the industry in their tracks,\\u201d Wolmar wrote. \\u2018\\u2018We have had it in other areas of computing, such as the big-data hacks and security lapses and it will happen in relation to autonomous cars.\\u201d Cars, even ones that don\\u2019t drive themselves, have already proved vulnerable to hackers.The obvious counterargument is that data lapses, hacking, identity theft, and a whole lot of other things have done basically nothing to slow down the consumer internet. A lot of people see these problems and shrug. However, the physical danger that cars pose is far greater, and maybe the norms developed for robots will be different from those prevalent on the internet, legally and otherwise, as the University of Washington legal scholar Ryan Calo has argued.Bear Case 3: They Won\\u2019t Work as a Transportation ServiceRight now most companies working on self-driving cars are working on them as the prelude to a self-driving-car service. So you wouldn\\u2019t own your car; you\\u2019d just get rides from a fleet of robo-cars maintained by Waymo or Uber or Lyft. One reason for that is the current transportation-service companies can\\u2019t seem to find their way to profitability. In fact, they keep losing insane amounts of money. Take the driver out of the equation and maybe all of that money saved would put them in the black. At the same time, the equipment that\\u2019s mounted on self-driving cars to allow them to adequately convert physical reality into data is extremely expensive. Consumer vehicles with all those lasers and computers on board would be prohibitively expensive. On top of that, the question of calibrating and maintaining all that equipment would be entrusted to people like me, who don\\u2019t wash their car for months at a time.Read: Will Uber and Lyft become different things?Put these factors together and the first step in fully autonomous vehicles that most companies are betting on is to sell robo-car service, not robo-cars.There is a simple rejoinder to why this might not work. George Hotz, who is himself attempting to build a DIY driving device, has a funny line that sums it up. \\u201cThey already have this product, it\\u2019s called Uber, it works pretty good,\\u201d Hotz told The Verge. And what is a robo-car ride if not \\u201ca worse Uber\\u201d?Bear Case 4: They Won\\u2019t Work, Because You Can\\u2019t Prove They\\u2019re Safe Commercial airplanes rely heavily on autopilot, but the autopilot software is considered provably safe because it does not rely on machine-learning algorithms. Such algorithms are harder to test because they rely on statistical techniques that are not deterministic. Several engineers have questioned how self-driving systems based on machine learning could be rigorously screened. \\u201cMost people, when they talk about safety, it\\u2019s \\u2018Try not to hit something,\\u2019\\u201d Phil Koopman, who studies self-driving-car safety at Carnegie Mellon University, told Wired this year. \\u201cIn the software-safety world, that\\u2019s just basic functionality. Real safety is, \\u2018Does it really work?\\u2019 Safety is about the one kid the software might have missed, not about the 99 it didn\\u2019t.\\u201dRegulators will ultimately decide if the evidence that self-driving-car companies such as Waymo have compiled of safe operation on roads and in simulations meets some threshold of safety. More deaths caused by autonomous vehicles, such as an Uber\\u2019s killing of Elaine Herzberg, seem likely to drive that threshold higher.Koopman, for one, thinks that new global standards like the ones we have for aviation are needed before self-driving cars can really get on the road, which one imagines would slow down the adoption of the cars worldwide.Bear Case 5: They\\u2019ll Work, But Not Anytime Soon Last year, Ford announced plans to invest $1 billion in Argo AI, a self-driving-car company. So it was somewhat surprising when Argo\\u2019s CEO, Bryan Salesky, posted a pessimistic note about autonomous vehicles on Medium shortly after. \\u201cWe\\u2019re still very much in the early days of making self-driving cars a reality,\\u201d he wrote. \\u201cThose who think fully self-driving vehicles will be ubiquitous on city streets months from now or even in a few years are not well connected to the state of the art or committed to the safe deployment of the technology.\\u201dIn truth, that\\u2019s the timeline the less aggressive carmakers have put forth. Most companies expect some version of self-driving cars in the 2020s, but when within the decade is where the disagreement lies.Bear Case 6: Self-Driving Cars Will Mostly Mean Computer-Assisted DriversWhile Waymo and a few other companies are committed to fully driverless cars or nothing, most major carmakers plan to offer increasing levels of autonomy, bit by bit. That\\u2019s GM\\u2019s play with the Cadillac Super Cruise. Daimler, Nissan, and Toyota are targeting the early 2020s for incremental autonomy.Read: The most important self-driving car announcement yetWaymo\\u2019s leadership and Aurora\\u2019s Chris Urmson worry that disastrous scenarios lie down this path. A car that advertises itself as self-driving \\u201cshould never require the person in the driver\\u2019s seat to drive. That hand back [from machine to human] is the hard part,\\u201d Urmson told me last year. \\u201cIf you want to drive and enjoy driving, God bless you, go have fun, do it. But if you don\\u2019t want to drive, it\\u2019s not okay for the car to say, \\u2018I really need you in this moment to do that.\\u2019\\u201dBear Case 7: Self-Driving Cars Will Work, But Make Traffic and Emissions WorseAnd finally, what if self-driving works, technically, but the system it creates only \\u201csolve[s] the problem of \\u2018I live in a wealthy suburb but have a horrible car commute and don\\u2019t want to drive anymore but also hate trains and buses,\\u2019\\u201d as the climate advocate Matt Lewis put it. That\\u2019s what University of California at Davis researchers warn could happen if people don\\u2019t use (electric-powered) self-driving services and instead own (gasoline-powered) self-driving cars. \\u201cSprawl would continue to grow as people seek more affordable housing in the suburbs or the countryside, since they\\u2019ll be able to work or sleep in the car on their commute,\\u201d the scenario unfolds. Public transportation could spiral downward as ride-hailing services take share from the common infrastructure.And that\\u2019s not an unlikely scenario based on current technological and market trends. \\u201cLeft to the market and individual choice, the likely outcome is more vehicles, more driving and a slow transition to electric cars,\\u201d wrote Dan Sperling, the director of the UC Davis Institute of Transportation Studies, in his 2018 book, Three Revolutions: Steering Automated, Shared, and Electric Vehicles to a Better Future.It would certainly be a cruel twist if self-driving cars managed to save lives on the road while contributing to climate catastrophe. But if the past few years of internet history have taught us anything, any technology as powerful and society-shaping as autonomous vehicles will certainly have unintended consequences. And skeptics might just have a handle on what those could be.\", \"Category\": \"negative\", \"Complete_Filename\": \"FileName_4\"}, {\"File_Name\": \"FileName_5\", \"Content\": \"Learn about 11 of the benefits self driving cars will offer us in the not-so-distant future.Believe it or not, there are FIVE automation levels or categories.ADAS (advanced driver assistant system) includes such features as cruise control, anti-lock braking system, and traction control system. The driver must remain 100% in control but receives some assistance from the ADAS.The driver still needs to stay engaged while driving but receives even more assistance from the ADAS, such as controlling both accelerating/decelerating and steering at the same time. An example of this is a backup camera. According to some, Tesla\\u2019s Full Self-Driving is a Level 2.The ADS (automated driving system) involves environmental detection capabilities such as pedestrian protection system, lane change assistance, and intersection assistance, allowing the car to react to its environment on its own. However the human driver is still required to remain alert and prepared to step in and take control when necessary. Autopilot is another example of a Level 3 in the automation categorization.The ADS is able to operate and perform all driving functions on its own, including monitoring its environment, in certain circumstances such as within a specified area, which is known as geofencing. The human driver may relinquish their attention to the functions but still has the ability to override if so desired. One of the biggest proposed uses for this level of automation is for ride sharing.Full automation is the driving of the future as we\\u2019ve all seen and been promised for decades in futuristic movies such as Minority Report, Knight Rider, and Time Cop. These cars will require no driver assistance, in fact \\u2018drivers\\u2019 will become \\u2018passengers\\u2019 as they are able to conduct business meetings, work on their latest hobby or take a nap while being chauffeured around by a level 5 automation vehicle.Navigational systems such as GPS and GNSS have already become a well-known and well-utilized technology in many parts of the world. They are standard now for many human drivers each time they get behind the wheel, whether for the commute to and from work to a weekend getaway. However, knowing exactly where one is at all times is even more important for a car without a human driver. Driverless cars need to know, within centimeters, where they are located on the road, within the traffic lane or in a parking spot. It must be possible for extremely reliable coordinates to be continually monitored and evaluated to ensure a safe ride for all passengers.The Mosaic 51 360-degree camera can connect up to 4 GNSS networks simultaneously (GPS, Galileo, Glonass and BeiDou) for precision measured in centimeters. With the use of Dead Reckoning, it can even allow for positioning in tunnels and sub 5-meter accuracy. Nothing can hide from such detection.Another vitally important technology that offers safety to the passengers of a driverless vehicle, is the use of sensors and radar built into the car. These sensors include LiDAR (Light Detection and Ranging), cameras, IMU (inertial measurement unit) and radar. The combination of these sensors enable the vehicle to react accordingly to various changes during the trip.High Definition maps are ultra, highly precise maps, able to measure accurately down to the centimeter. This is crucial for any autonomous vehicle and for any company in the process of creating a self-driving car. HD maps are playing a large role in the testing and design of driverless cars. These vehicles are robots and robots require exceptional precise instructions in order to comprehend and react correctly to their environment.Why would you settle for 8K, 10K or even 11K resolution when you can get an even highest definition camera? Available at 12K resolution, the Mosaic 51 has six 12-megapixel image sensors for the ultimate in HD mapping. And the newly released Mosaic Viking has a combined 22K, or more than 180MP, resolution. In order that self-driving cars are able to accurately respond to any potentially hazardous condition, they must be able to correctly identify objects on the road. An intelligent object detection system is necessary for mobile mapping purposes, which when performed on a regular basis, keeps the map in real-time, so that the driverless car can choose the best option for a driving route. Image recognition is also important for on-the-spot object recognition, allowing the vehicle to react to any sudden risks in the surrounding areas.With an advanced intelligent object detection system, the Mosaic 51 knows what a pothole, a street lamp and a road sign are and can aid self-driving cars in avoiding such dangerous obstacles.Dedicated Short Range Communications (DSRC) is the technology which allows vehicle-to-vehicle or vehicle-to-infrastructure communication, permitting cars to talk with each other or with the surrounding infrastructure. This will aid in the prevention of accidents and collisions on the roadways between cars or between a vehicle and a pedestrian.As we can see, the technology that has been developed in the last several decades has significantly assisted in the ability to create self driving cars and will grant numerous advantages of driverless cars. So let\\u2019s have a look at what these advantages are.Driverless cars of the future will offer a wide array of benefits for their passengers, the economy, the health system and even themselves. Here are 11 benefits of self-driving cars and the changes that are coming our way soon.\\u201cWe\\u2019re only human\\u201d means we make mistakes. No more mistakes on the roads.Self-driving cars will help reduce the number of automobile crashes. The National Highway Traffic Safety Administration of the United States attributes 94% of all accidents to driver errors. In 2018 alone, there were a reported 36,560 deaths due to motor vehicle accidents in the United States.Autonomous cars will reduce the hazards from risky behavior such as impaired, drunk, drugged driving, reckless speeding, and distracted drivers by quite literally, taking the wheel from them.Freedom of movement and dignity restored to millionsAutonomous vehicles will grant those with handicaps and disabilities, such as blindness, paralyzation, and mental disabilities, as well as seniors, more autonomy and independence. Besides the obvious reasons for wanting a car such as to go to and from work and to visit family, self-driving cars will ensure that these members of society won\\u2019t miss a doctor\\u2019s appointment again as is quite common at present time, leading to more and higher medical expenses down the road.The Ruderman Foundation published a Ruderman White Paper in which a study found that self-driving cars could potentially allow 2 million employment opportunities to become available to citizens with disabilities. This technology has the ability to personally affect 1 in 5 Americans who have a disability, not to mention their friends, families and loved ones who will also be affected.Reducing risks and saving time means saving moneyReduced crashes means reduced costs for those involved in the accident \\u2013 in hospital bills, post accident therapy, vehicle repair and sick leave from work. Also, fewer accidents on the road means that car insurance companies will have to lower rates and consumers will save greatly.Reduce fuel economy between 4 and 10 percentDriverless cars will be able to optimize driving conditions This includes utilizing cruise control and gradual and smooth acceleration and deceleration, all of which contribute to a steady flow of traffic rather than the constant bursts of hitting the gas pedal and then the brakes.The ability to communicate with other self-driving cars will allow networked pod car to create a train-like structure which would further increase optimized driving and reduce fuel economy.Use your time in the car for something other than drivingNo more wasted time sitting in traffic, rather gain back nearly an hour each day in which you can do something you\\u2019ve had on your list or just relax and zone out. One study by McKinsey found that commutes could save up to 50 minutes each day by using an autonomous vehicle.For the year 2019, Bogota, Rio de Janeiro and M\\u00e9xico City ranked as the cities with the highest hours lost to congestion in the world at 191 hours, 190 hours and 158 hours respectively. In the United States, the top cities are Boston (149 hours), Chicago (145 hours) and Philadelphia (142 hours). If you want to see how much time is lost in congestion based on your city of residence, check out this handy guide from INRIX.And it\\u2019s not just the driving that is wasting precious time. Looking for parking can take considerable time, so driverless cars will be able to do the tedious work of looking for a parking place at the airport, shopping mall or in the middle of the city, so you don\\u2019t have to.Traffic jams will become a thing of the pastTraffic and congestion happen for two reasons: accidents and too little capacity for the vehicles on the road.By lowering automotive accidents there will be less traffic due to lane closures and the much hater \\u2018rubberneckers.\\u2019 But that\\u2019s not all.One study conducted by various leaders in the field of traffic flow theory and transportation engineering from Rutgers University, Temple University, the University of Arizona and the University of Illinois Urbana-Champaign found that self-driving cars will be able to adapt their speeds based on the normal traffic and reduce build up of traffic, eliminating \\u2018stop and go waves\\u2019 also known as \\u2018phantom traffic jams\\u2019 and thereby reducing total fuel consumption by up to 40%.Research by Rand\\u2019s Autonomous Vehicle Technology guide found evidence that autonomous vehicles could increase lane capacity by up to 500% which means 5 times more vehicles per lane per hour. Higher capacity will lead to lower congestion.A win-win for Mother NatureLess accidents and less congestion means less traffic on the roads, which results in less idling of cars, a huge source of fuel emissions. One study estimates that emissions could potentially be reduced up to 60% according to one source.Many are looking at driverless cars as a solution for commuters who do not have access to public transportation nor their own vehicle. Ride sharing will become a major component in the autonomous vehicle revolution. With more people sharing rides to and from work, once again, there will be fewer cars on the roads and this will in turn reduce fuel consumption and vehicle emissions.All the luxuries of a flight, without leaving the ground.If autonomous vehicles are anything like what we\\u2019ve seen in movies, then they will have incredibly comfortable seats that morph into beds and the window shades go up at night for added privacy or a fully equipped office space.One example of this is the Volvo 360C which is nearly a hotel on wheels. It gives passengers the ability to relax, sleep or work while on the go, much the same as many air-commuters do on a daily or weekly basis, jetting from one meeting in NYC at 9 a.m. to a meeting in D.C. at 4 p.m.Money talks, and it\\u2019s saying, \\u201cget me a self-driving car!\\u201dThe ability for those with debilitating conditions to drive themselves leads to many millions of missed doctors appointments. The U.S. economy on average loses up to $19 billion each year in medical expenses due to missed appointments for patients with handicaps or disabilities, which result in more severe medical attention needed down the road.One study by the UK Economic Opportunity found that the UK economy could recoup \\u00a320 billion for the time saved commuting, while the Ruderman Foundation study concluded that the American economy could recover up to $1.3 trillion from fuel costs, productivity gains and accident prevention.Another study by the Highway Traffic Safety Administration found that in 2010 accidents cost the U.S. $242 billion in economic activity, of which $57.6 billion was lost in workplace productivity, and another $594 billion was lost due to deaths and a reduced quality of life from injuries sustained in accidents. By making the roads safer, the economic benefits of self driving cars will certainly be reaped.Regain prime real estate which had been lost to parkingBoston has been on the forefront of driverless car technology as much testing is done there. The Boston Consulting Group, in collaboration with the World Economic Forum conducted a study and found that driverless vehicles will only require about half of the city\\u2019s current parking. This liberated space could be repurposed for more enjoyable things such as apartment buildings, parks and public plazas.Parking spaces in private homes will also be free up as cars will not be required to park directly at a family\\u2019s home. Cars could park further away from the homes of the owners, reducing the need for a garage or driveway and thereby freeing up space for yards and green spaces.Reshaping our cities and townsCities were once the shining mecca for those wanting to live the high life. But now honking cars, parking lots and traffic jams have made these havens a nightmare and many are starting to flee cities for more peace and quiet in smaller towns. Autonomous vehicles could change all of that and bring people flocking back to the cities.Cars traveling closer together means less road space needed, allowing more room for bike paths and sidewalks which in turn can create a more pedestrian-friendly city and incentivizing people to move back to cities.Despite all of the benefits of self-driving cars, there are of course several disadvantages. But that\\u2019s for a different day. Stay tuned.In the meantime, what benefit of self-driving cars are you most looking forward to? What are you most concerned with? Subscribe and let us know what you think!Product or partnership inquiries? Interested in more info?At Mosaic we are pushing the limits of HD mapping; our mission is to build a better view of the world.\\u00a0\\t\\t\\t\\tThe Company\\t\\t\\t\\t\\t\\t\\tFor Investors\\t\\t\\t\\t\\t\\t\\tPartners\\t\\t\\t\\t\\t\\t\\tCareers\\t\\t\\t\\t\\t\\t\\tManifesto\\t\\t\\t\\t\\t\\t\\tCameras\\t\\t\\t\\t\\t\\t\\tMosaic 51\\t\\t\\t\\t\\t\\t\\tMosaic X\\t\\t\\t\\t\\t\\t\\tMosaic Viking\\t\\t\\t\\t\\t\\t\\tMobile Mapping\\t\\t\\t\\t\\t\\t\\tSmart Cities\\t\\t\\t\\t\\t\\t\\tLocal Governments\\t\\t\\t\\t\\t\\t\\tCentral Governments\\t\\t\\t\\t\\t\\t\\tUtility Companies\\t\\t\\t\\t\\t\\t\\tTelecom Sector\\t\\t\\t\\t\\t\\t\\tTransport and Logistics\\t\\t\\t\\t\\t\\t\\tReal Estate Companies\\t\\t\\t\\t\\t\\t\\tFinancial and Insurance Companies\\t\\t\\t\\t\\t\\t\\tEngineering and Architecture\\t\\t\\t\\t\\t\\t\\tSelf-Driving Vehicles\\t\\t\\t\\t\\t\\t\\tRailway and Trains\\t\\t\\t\\t\\t\\t\\tInfrastructure Surveying\\t\\t\\t\\t\\t\\t\\tPublic Safety\\t\\t\\t\\t\\t\\t\\tMedia and Entertainment\\t\\t\\tJust like our cameras, our insights keep you up-to-date on Mosaic and the 360\\u00ba world. Sign up to stay updated.\\u00a9 2020-2021 Mosaic. All rights reserved.\\u00a0Branding & Design: Brandician\", \"Category\": \"positive\", \"Complete_Filename\": \"FileName_5\"}, {\"File_Name\": \"FileName_6\", \"Content\": \"All the ways the self-driving future won\\u2019t come to passSelf-driving cars are coming. Tech giants such as Uber and Alphabet have bet on it, as have old-school car manufacturers such as Ford and General Motors. But even as Google\\u2019s sister company Waymo prepares to launch its self-driving-car service and automakers prototype vehicles with various levels of artificial intelligence, there are some who believe that the autonomous future has been oversold\\u2014that even if driverless cars are coming, it won\\u2019t be as fast, or as smooth, as we\\u2019ve been led to think. The skeptics come from different disciplines inside and out of the technology and automotive industries, and each has a different bear case against self-driving cars. Add them up and you have a guide to all the ways our autonomous future might not materialize.Bear Case 1: They Won\\u2019t Work Until Cars Are as Smart as HumansComputers have nowhere near human intelligence. On individual tasks, such as playing Go or identifying some objects in a picture, they can outperform humans, but that skill does not generalize. Proponents of autonomous cars tend to see driving as more like Go: a task that can be accomplished with a far-lower-than-human understanding of the world. But in a duo of essays in 2017, Rodney Brooks, a legendary roboticist and artificial-intelligence researcher who directed the MIT Computer Science and Artificial Intelligence Laboratory for a decade, argued against the short-term viability of self-driving cars based on the sheer number of \\u201cedge cases,\\u201d i.e., unusual circumstances, they\\u2019d have to handle.Read: The AI that has nothing to learn from humans\\u201cEven with an appropriate set of guiding principles, there are going to be a lot of perceptual challenges \\u2026 that are way beyond those that current developers have solved with deep learning networks, and perhaps a lot more automated reasoning than any AI systems have so far been expected to demonstrate,\\u201d he wrote. \\u201cI suspect that to get this right we will end up wanting our cars to be as intelligent as a human, in order to handle all the edge cases appropriately. \\u201dHe still believes that self-driving cars will one day come to supplant human drivers. \\u201cHuman driving will probably disappear in the lifetimes of many people reading this,\\u201d he wrote. \\u201cBut it is not going to all happen in the blink of an eye.\\u201dBear Case 2: They Won\\u2019t Work, Because They\\u2019ll Get HackedEvery other computer thing occasionally gets hacked, so it\\u2019s a near-certainty that self-driving cars will be hacked, too. The question is whether that intrusion\\u2014or the fear of it\\u2014 will be sufficient to delay or even halt the introduction of autonomous vehicles.Read: The banality of the Equifax breachThe transportation reporter and self-driving car skeptic Christian Wolmar once asked a self-driving-car security specialist named Tim Mackey to lay out the problem. Mackey \\u201cbelieves there will be a seminal event that will stop all the players in the industry in their tracks,\\u201d Wolmar wrote. \\u2018\\u2018We have had it in other areas of computing, such as the big-data hacks and security lapses and it will happen in relation to autonomous cars.\\u201d Cars, even ones that don\\u2019t drive themselves, have already proved vulnerable to hackers.The obvious counterargument is that data lapses, hacking, identity theft, and a whole lot of other things have done basically nothing to slow down the consumer internet. A lot of people see these problems and shrug. However, the physical danger that cars pose is far greater, and maybe the norms developed for robots will be different from those prevalent on the internet, legally and otherwise, as the University of Washington legal scholar Ryan Calo has argued.Bear Case 3: They Won\\u2019t Work as a Transportation ServiceRight now most companies working on self-driving cars are working on them as the prelude to a self-driving-car service. So you wouldn\\u2019t own your car; you\\u2019d just get rides from a fleet of robo-cars maintained by Waymo or Uber or Lyft. One reason for that is the current transportation-service companies can\\u2019t seem to find their way to profitability. In fact, they keep losing insane amounts of money. Take the driver out of the equation and maybe all of that money saved would put them in the black. At the same time, the equipment that\\u2019s mounted on self-driving cars to allow them to adequately convert physical reality into data is extremely expensive. Consumer vehicles with all those lasers and computers on board would be prohibitively expensive. On top of that, the question of calibrating and maintaining all that equipment would be entrusted to people like me, who don\\u2019t wash their car for months at a time.Read: Will Uber and Lyft become different things?Put these factors together and the first step in fully autonomous vehicles that most companies are betting on is to sell robo-car service, not robo-cars.There is a simple rejoinder to why this might not work. George Hotz, who is himself attempting to build a DIY driving device, has a funny line that sums it up. \\u201cThey already have this product, it\\u2019s called Uber, it works pretty good,\\u201d Hotz told The Verge. And what is a robo-car ride if not \\u201ca worse Uber\\u201d?Bear Case 4: They Won\\u2019t Work, Because You Can\\u2019t Prove They\\u2019re Safe Commercial airplanes rely heavily on autopilot, but the autopilot software is considered provably safe because it does not rely on machine-learning algorithms. Such algorithms are harder to test because they rely on statistical techniques that are not deterministic. Several engineers have questioned how self-driving systems based on machine learning could be rigorously screened. \\u201cMost people, when they talk about safety, it\\u2019s \\u2018Try not to hit something,\\u2019\\u201d Phil Koopman, who studies self-driving-car safety at Carnegie Mellon University, told Wired this year. \\u201cIn the software-safety world, that\\u2019s just basic functionality. Real safety is, \\u2018Does it really work?\\u2019 Safety is about the one kid the software might have missed, not about the 99 it didn\\u2019t.\\u201dRegulators will ultimately decide if the evidence that self-driving-car companies such as Waymo have compiled of safe operation on roads and in simulations meets some threshold of safety. More deaths caused by autonomous vehicles, such as an Uber\\u2019s killing of Elaine Herzberg, seem likely to drive that threshold higher.Koopman, for one, thinks that new global standards like the ones we have for aviation are needed before self-driving cars can really get on the road, which one imagines would slow down the adoption of the cars worldwide.Bear Case 5: They\\u2019ll Work, But Not Anytime Soon Last year, Ford announced plans to invest $1 billion in Argo AI, a self-driving-car company. So it was somewhat surprising when Argo\\u2019s CEO, Bryan Salesky, posted a pessimistic note about autonomous vehicles on Medium shortly after. \\u201cWe\\u2019re still very much in the early days of making self-driving cars a reality,\\u201d he wrote. \\u201cThose who think fully self-driving vehicles will be ubiquitous on city streets months from now or even in a few years are not well connected to the state of the art or committed to the safe deployment of the technology.\\u201dIn truth, that\\u2019s the timeline the less aggressive carmakers have put forth. Most companies expect some version of self-driving cars in the 2020s, but when within the decade is where the disagreement lies.Bear Case 6: Self-Driving Cars Will Mostly Mean Computer-Assisted DriversWhile Waymo and a few other companies are committed to fully driverless cars or nothing, most major carmakers plan to offer increasing levels of autonomy, bit by bit. That\\u2019s GM\\u2019s play with the Cadillac Super Cruise. Daimler, Nissan, and Toyota are targeting the early 2020s for incremental autonomy.Read: The most important self-driving car announcement yetWaymo\\u2019s leadership and Aurora\\u2019s Chris Urmson worry that disastrous scenarios lie down this path. A car that advertises itself as self-driving \\u201cshould never require the person in the driver\\u2019s seat to drive. That hand back [from machine to human] is the hard part,\\u201d Urmson told me last year. \\u201cIf you want to drive and enjoy driving, God bless you, go have fun, do it. But if you don\\u2019t want to drive, it\\u2019s not okay for the car to say, \\u2018I really need you in this moment to do that.\\u2019\\u201dBear Case 7: Self-Driving Cars Will Work, But Make Traffic and Emissions WorseAnd finally, what if self-driving works, technically, but the system it creates only \\u201csolve[s] the problem of \\u2018I live in a wealthy suburb but have a horrible car commute and don\\u2019t want to drive anymore but also hate trains and buses,\\u2019\\u201d as the climate advocate Matt Lewis put it. That\\u2019s what University of California at Davis researchers warn could happen if people don\\u2019t use (electric-powered) self-driving services and instead own (gasoline-powered) self-driving cars. \\u201cSprawl would continue to grow as people seek more affordable housing in the suburbs or the countryside, since they\\u2019ll be able to work or sleep in the car on their commute,\\u201d the scenario unfolds. Public transportation could spiral downward as ride-hailing services take share from the common infrastructure.And that\\u2019s not an unlikely scenario based on current technological and market trends. \\u201cLeft to the market and individual choice, the likely outcome is more vehicles, more driving and a slow transition to electric cars,\\u201d wrote Dan Sperling, the director of the UC Davis Institute of Transportation Studies, in his 2018 book, Three Revolutions: Steering Automated, Shared, and Electric Vehicles to a Better Future.It would certainly be a cruel twist if self-driving cars managed to save lives on the road while contributing to climate catastrophe. But if the past few years of internet history have taught us anything, any technology as powerful and society-shaping as autonomous vehicles will certainly have unintended consequences. And skeptics might just have a handle on what those could be.\", \"Category\": \"negative\", \"Complete_Filename\": \"FileName_6\"}, {\"File_Name\": \"FileName_7\", \"Content\": \"Ask nine futurists what life will be like in 50 years and you're liable to get a dozen answers, but that doesn't mean it isn't worth thinking about. For the car enthusiast, thinking about anything beyond the next 10 years or so means thinking, at least in part, about self-driving cars. And part of thinking about self-driving cars is wondering how they might change the way we live.If you look back 15 years or so, before the smartphone went mainstream, it's easy to see how a small difference\\u2014one small device\\u2014can have a monumental and lasting impact; in the smartphone's case, it was spawning the always-on, social-media-fueled barrage of technology now plaguing pockets and purses everywhere. Looking around today, Tesla Motors is the most valuable carmaker in the world, and it's not because it's wildly profitable, or even profitable at all. It's because investors are betting on the future, and they think the future will be electric and autonomous. They're not alone.MotorTrend's Kim Reynolds wrote an article late last year detailing the promise and pitfalls of self-driving cars. In that article, he recounted a 2016 trip to the ribbon-cutting ceremony for Ford's Research and Innovation Campus in Palo Alto, California, during which Ford's then-CEO Mark Fields said, \\\"The next decade will be defined by automation of the automobile, and we see autonomous vehicles as having as significant an impact on society as Ford's moving assembly line did 100 years ago.\\\"Tesla was one of the first to take serious action on self-driving cars, although it took awhile for the industry to take the upstart company seriously. The public, on the other hand, took to the Roadster and Model S, and later to the Model 3 and Y, like kids take to iPhones. While Tesla appears to still have an edge over the competition, its decade-long head start seems to have been mostly squandered, the company continually moving the always-imminent arrival of full, \\\"sleep in the car\\\" Level 5 self-driving autonomy. Companies like Google parent Alphabet's Waymo, as detailed in Reynolds' article, and General Motors' Super Cruise, have either caught up with or surpassed Tesla, depending who you ask, and other carmakers like Honda, Nissan, Toyota, Ford, and Volkswagen all have self-driving programs in the works, too.But right now, the question of who will end up a winner in the self-driving car race isn't about the companies that will bring it into being. It's about the rest of us\\u2014those who'll have to live with the results.Famed novelist William Gibson probably wasn't the first person in history to notice this phenomenon, but he was the one who put it in an inimitably succinct and clear form, back in the early 1990s: \\\"The future is already here, it's just not very evenly distributed.\\\" Right now, some form of self-driving is available on a lot of cars\\u2014but only new cars, and even then, the best features are reserved for the most expensive models, with self-driving features often costing thousands of dollars on top of the price of an already expensive new car.The high cost of entry to the self-driving world is what's limiting the distribution at present. But as the technology matures and supporting sensor and computing technologies gain more widespread use in other industries, the infrastructure necessary to bring down costs for Level 1 and Level 2 self-driving (similar to Tesla's current Autopilot implementation) is already coming online, promising to put the cost of such systems within the reach of more buyers.But still, that word\\u2014buyers. New cars. If you want to be part of the autonomous revolution, you'd better have some money to spend, because this revolution isn't free, and it's not for everyone. That may be a good thing, however, as most Americans seem to be a little bit scared of self-driving cars, according to surveys conducted by the Pew Research Center.There's already a \\\"digital divide\\\" in America, a phrase that describes the disparate distribution of the future in the present: According to Pew, nearly one-third of American adults with household incomes of less than $30,000 per year don't own a smartphone, and only a little more than half of them own a desktop or laptop computer. Contrast those figures with 97 percent smartphone ownership and 94 percent desktop or laptop ownership among households with $100,000 or more in annual income. As the technology we use to work, live, and move about in our daily lives becomes more and more expensive, that divide only gets broader. Self-driving (or semi-self-driving) cars are among the most expensive of consumer technologies.Don't think this is all just academic drivel; these concepts are alive in the general popular culture. The futuristic sci-fi Amazon Prime series Upload features the digital divide theme throughout its 10-episode first season, but it's the season-opener that ought to strike a blow with car enthusiasts (spoiler alert): Just before the show's protagonist dies in a self-driving car crash (an occurrence which everyone seems to think should be impossible), his fianc\\u00e9e puts his car in \\\"Prioritize Occupant\\\" mode\\u2014a setting that will protect the life of the car's occupant over that of anyone outside. While the irony is unmissable, the real gem here is the fact that it's presumed the hyper-wealthy will continue to accrue power and privilege to the point that they'll literally be able to tell their computer-driven cars to run people over with the flick of a switch. Let's hope it doesn't become a sport.It's easy to get caught up in the fetishized vision we often seem to share of the future: A clean, sparkly place where sleekly clad people glide in and out of silent, pod-like cars that cruise the city like tireless cabbies crossed with faithful robot dogs. But while a few are living the preview of that life now, and more will in the near- and medium-term future, fully autonomous self-driving cars are much further away than most people think, at least for private ownership.Before we get to personal, fully self-driving (Level 5) vehicles, we'll have fleets of automated taxis, or trundling lines of self-driving shuttles on campuses and at sporting events, or you might even ride a self-driving bus from your company's remote parking lot into work. But in doing so, we could see hundreds of thousands of those who drive for a living lose their jobs\\u2014and that's before we look at the freight and delivery industry. (Do note the Bureau of Labor Statistics forecast in the linked data highlighting a \\\"much faster than average\\\" 20 percent rate of growth for the taxi-driving, ride-hailing, and chauffeur fields through 2028\\u2014the BLS clearly doesn't think self-driving cars will be hitting the streets in any significant form before the decade is out.)Moreover, a big part of the problem with cars, and the enjoyment of cars, is not that real people drive them, it's that they're everywhere. Roads, highways, freeways, interstates, parking lots, parking garages, parking decks, driveways, home garages\\u2014everywhere. In the glibly titled \\\"Crowdsourced Quantification and Visualization of Urban Mobility Space Inequality,\\\" by Michael Szell, a mobility and sustainable transport researcher currently at ITU Copenhagen, published in the journal Urban Planning, the \\\"spatial inefficiency\\\" of cars is made clear: even in an extremely car-centric city like Los Angeles, considerably more space is allocated to car use than is actually used, as a percentage of the share of the mode of transport, when compared to other modes like rail or bicycle.In Los Angeles' case, 92 percent of its transportation land area is dedicated to vehicle use versus four percent each allocated to bicycle and rail use. In reality, only 78 percent of L.A. 's transit happens by car, with rail accounting for 11 percent, and bicycles just one percent. In other global cities, the misallocation of resources is even more extreme: Beijing's vehicle share of the transportation space is 68 percent, while only 21 percent of its travel is done by car; conversely, rail and bicycles account for 58 percent of travel, but only 32 percent of the space dedicated to Beijing's transport.As a result, transportation in car-centric cities is less efficient\\u2014and traffic is worse\\u2014than it could be if we relinquished some of the car's dominance in our city planning to make more space for rail, bicycle, and even pedestrian traffic.Instead, our cities have been defined or redefined by the car in their layouts, their suburbs, and their traffic corridors. What the car made possible became the unwritten law of the land, and we've now sunk so much into the automotive infrastructure that we can't see any alternative. By the way we've built and remodeled our cities, we've made driving a miserable experience, so we're looking to hand the misery off to a machine.For those lucky enough to be able to do so, life will surely improve\\u2014imagine all the free time!\\u2014but for the rest of us, as more space gets cordoned off for the use of self-driving cars, life may actually get worse, and not just because we have to watch the future happening all around us, forever just out of reach.By clicking Sign Up, you agree to the \\u00a0Terms of Use. Your information will be collected and used in accordance with our \\u00a0Privacy Policy\\u00a9 2021 MotorTrend | MOTOR TREND GROUP, LLC.\", \"Category\": \"positive\", \"Complete_Filename\": \"FileName_7\"}]}}, {\"mode\": \"vega-lite\"});\n",
       "</script>"
      ],
      "text/plain": [
       "alt.LayerChart(...)"
      ]
     },
     "execution_count": 15,
     "metadata": {},
     "output_type": "execute_result"
    }
   ],
   "source": [
    "# bar graph between different category of the dataset\n",
    "bars = alt.Chart(df).mark_bar(size=50).encode(\n",
    "    x=alt.X(\"Category\"),\n",
    "    y=alt.Y(\"count():Q\", axis=alt.Axis(title='Number of articles')),\n",
    "    tooltip=[alt.Tooltip('count()', title='Number of articles'), 'Category'],\n",
    "    color='Category'\n",
    "\n",
    ")\n",
    "\n",
    "text = bars.mark_text(\n",
    "    align='center',\n",
    "    baseline='bottom',\n",
    ").encode(\n",
    "    text='count()'\n",
    ")\n",
    "\n",
    "(bars + text).interactive().properties(\n",
    "    height=300, \n",
    "    width=700,\n",
    "    title = \"Number of articles in each category\",\n",
    ")"
   ]
  },
  {
   "cell_type": "code",
   "execution_count": 16,
   "metadata": {
    "colab": {
     "base_uri": "https://localhost:8080/",
     "height": 413
    },
    "id": "8xR5G1gATXuq",
    "outputId": "763a610d-0555-4a09-9789-cf527ff910ef"
   },
   "outputs": [
    {
     "data": {
      "text/html": [
       "\n",
       "<div id=\"altair-viz-45cbd7098b034ec58c2e9913851ab380\"></div>\n",
       "<script type=\"text/javascript\">\n",
       "  (function(spec, embedOpt){\n",
       "    let outputDiv = document.currentScript.previousElementSibling;\n",
       "    if (outputDiv.id !== \"altair-viz-45cbd7098b034ec58c2e9913851ab380\") {\n",
       "      outputDiv = document.getElementById(\"altair-viz-45cbd7098b034ec58c2e9913851ab380\");\n",
       "    }\n",
       "    const paths = {\n",
       "      \"vega\": \"https://cdn.jsdelivr.net/npm//vega@5?noext\",\n",
       "      \"vega-lib\": \"https://cdn.jsdelivr.net/npm//vega-lib?noext\",\n",
       "      \"vega-lite\": \"https://cdn.jsdelivr.net/npm//vega-lite@4.8.1?noext\",\n",
       "      \"vega-embed\": \"https://cdn.jsdelivr.net/npm//vega-embed@6?noext\",\n",
       "    };\n",
       "\n",
       "    function loadScript(lib) {\n",
       "      return new Promise(function(resolve, reject) {\n",
       "        var s = document.createElement('script');\n",
       "        s.src = paths[lib];\n",
       "        s.async = true;\n",
       "        s.onload = () => resolve(paths[lib]);\n",
       "        s.onerror = () => reject(`Error loading script: ${paths[lib]}`);\n",
       "        document.getElementsByTagName(\"head\")[0].appendChild(s);\n",
       "      });\n",
       "    }\n",
       "\n",
       "    function showError(err) {\n",
       "      outputDiv.innerHTML = `<div class=\"error\" style=\"color:red;\">${err}</div>`;\n",
       "      throw err;\n",
       "    }\n",
       "\n",
       "    function displayChart(vegaEmbed) {\n",
       "      vegaEmbed(outputDiv, spec, embedOpt)\n",
       "        .catch(err => showError(`Javascript Error: ${err.message}<br>This usually means there's a typo in your chart specification. See the javascript console for the full traceback.`));\n",
       "    }\n",
       "\n",
       "    if(typeof define === \"function\" && define.amd) {\n",
       "      requirejs.config({paths});\n",
       "      require([\"vega-embed\"], displayChart, err => showError(`Error loading script: ${err.message}`));\n",
       "    } else if (typeof vegaEmbed === \"function\") {\n",
       "      displayChart(vegaEmbed);\n",
       "    } else {\n",
       "      loadScript(\"vega\")\n",
       "        .then(() => loadScript(\"vega-lite\"))\n",
       "        .then(() => loadScript(\"vega-embed\"))\n",
       "        .catch(showError)\n",
       "        .then(() => displayChart(vegaEmbed));\n",
       "    }\n",
       "  })({\"config\": {\"view\": {\"continuousWidth\": 400, \"continuousHeight\": 300}}, \"layer\": [{\"mark\": {\"type\": \"bar\", \"size\": 50}, \"encoding\": {\"color\": {\"type\": \"nominal\", \"field\": \"Category\"}, \"x\": {\"type\": \"nominal\", \"field\": \"Category\"}, \"y\": {\"type\": \"quantitative\", \"axis\": {\"format\": \".0%\", \"title\": \"% of Articles\"}, \"field\": \"PercentOfTotal\"}}, \"selection\": {\"selector002\": {\"type\": \"interval\", \"bind\": \"scales\", \"encodings\": [\"x\", \"y\"]}}, \"transform\": [{\"window\": [{\"op\": \"sum\", \"field\": \"id\", \"as\": \"TotalArticles\"}], \"frame\": [null, null]}, {\"calculate\": \"datum.id / datum.TotalArticles\", \"as\": \"PercentOfTotal\"}]}, {\"mark\": {\"type\": \"text\", \"align\": \"center\", \"baseline\": \"bottom\"}, \"encoding\": {\"color\": {\"type\": \"nominal\", \"field\": \"Category\"}, \"text\": {\"type\": \"quantitative\", \"field\": \"PercentOfTotal\", \"format\": \".1%\"}, \"x\": {\"type\": \"nominal\", \"field\": \"Category\"}, \"y\": {\"type\": \"quantitative\", \"axis\": {\"format\": \".0%\", \"title\": \"% of Articles\"}, \"field\": \"PercentOfTotal\"}}, \"transform\": [{\"window\": [{\"op\": \"sum\", \"field\": \"id\", \"as\": \"TotalArticles\"}], \"frame\": [null, null]}, {\"calculate\": \"datum.id / datum.TotalArticles\", \"as\": \"PercentOfTotal\"}]}], \"data\": {\"name\": \"data-d4c574c984042e3f93938b000beba35c\"}, \"height\": 300, \"title\": \"% of articles in each category\", \"width\": 700, \"$schema\": \"https://vega.github.io/schema/vega-lite/v4.8.1.json\", \"datasets\": {\"data-d4c574c984042e3f93938b000beba35c\": [{\"Category\": \"negative\", \"id\": 4}, {\"Category\": \"positive\", \"id\": 4}]}}, {\"mode\": \"vega-lite\"});\n",
       "</script>"
      ],
      "text/plain": [
       "alt.LayerChart(...)"
      ]
     },
     "execution_count": 16,
     "metadata": {},
     "output_type": "execute_result"
    }
   ],
   "source": [
    "df['id'] = 1\n",
    "df2 = pd.DataFrame(df.groupby('Category').count()['id']).reset_index()\n",
    "\n",
    "bars = alt.Chart(df2).mark_bar(size=50).encode(\n",
    "    x=alt.X('Category'),\n",
    "    y=alt.Y('PercentOfTotal:Q', axis=alt.Axis(format='.0%', title='% of Articles')),\n",
    "    color='Category'\n",
    ").transform_window(\n",
    "    TotalArticles='sum(id)',\n",
    "    frame=[None, None]\n",
    ").transform_calculate(\n",
    "    PercentOfTotal=\"datum.id / datum.TotalArticles\"\n",
    ")\n",
    "\n",
    "text = bars.mark_text(\n",
    "    align='center',\n",
    "    baseline='bottom',\n",
    "    #dx=5  # Nudges text to right so it doesn't appear on top of the bar\n",
    ").encode(\n",
    "    text=alt.Text('PercentOfTotal:Q', format='.1%')\n",
    ")\n",
    "\n",
    "(bars + text).interactive().properties(\n",
    "    height=300, \n",
    "    width=700,\n",
    "    title = \"% of articles in each category\",\n",
    ")"
   ]
  },
  {
   "cell_type": "code",
   "execution_count": 17,
   "metadata": {
    "id": "sXbrRybeTgiR"
   },
   "outputs": [],
   "source": [
    "df['News_length'] = df['Content'].str.len()\n"
   ]
  },
  {
   "cell_type": "code",
   "execution_count": 18,
   "metadata": {
    "colab": {
     "base_uri": "https://localhost:8080/",
     "height": 405
    },
    "id": "5LPH94iPTj3a",
    "outputId": "eb42b49a-c824-4ec5-929e-4e7707dba8d5"
   },
   "outputs": [
    {
     "data": {
      "image/png": "[encoded data removed]",
      "text/plain": [
       "<Figure size 921.6x432 with 1 Axes>"
      ]
     },
     "metadata": {},
     "output_type": "display_data"
    }
   ],
   "source": [
    "plt.figure(figsize=(12.8,6))\n",
    "sns.distplot(df['News_length']).set_title('News length distribution');"
   ]
  },
  {
   "cell_type": "code",
   "execution_count": 19,
   "metadata": {
    "colab": {
     "base_uri": "https://localhost:8080/"
    },
    "id": "MSWwvVo_TnYT",
    "outputId": "a1696063-cb5e-4a1e-db48-94bb4a77dbca"
   },
   "outputs": [
    {
     "data": {
      "text/plain": [
       "count        8.000000\n",
       "mean     10285.375000\n",
       "std       4958.568599\n",
       "min       5722.000000\n",
       "25%       6463.500000\n",
       "50%       9593.000000\n",
       "75%      11070.750000\n",
       "max      20234.000000\n",
       "Name: News_length, dtype: float64"
      ]
     },
     "execution_count": 19,
     "metadata": {},
     "output_type": "execute_result"
    }
   ],
   "source": [
    "df['News_length'].describe()"
   ]
  },
  {
   "cell_type": "code",
   "execution_count": 20,
   "metadata": {
    "id": "LFzy94urTqxP"
   },
   "outputs": [],
   "source": [
    "quantile_95 = df['News_length'].quantile(0.95)\n",
    "df_95 = df[df['News_length'] < quantile_95]"
   ]
  },
  {
   "cell_type": "code",
   "execution_count": 21,
   "metadata": {
    "colab": {
     "base_uri": "https://localhost:8080/",
     "height": 405
    },
    "id": "p3TH8gmwTtH7",
    "outputId": "947b4dec-8e8c-46a8-8002-e25a3a7f849b"
   },
   "outputs": [
    {
     "data": {
      "image/png": "[encoded data removed]",
      "text/plain": [
       "<Figure size 921.6x432 with 1 Axes>"
      ]
     },
     "metadata": {},
     "output_type": "display_data"
    }
   ],
   "source": [
    "plt.figure(figsize=(12.8,6))\n",
    "sns.distplot(df_95['News_length']).set_title('News length distribution');"
   ]
  },
  {
   "cell_type": "code",
   "execution_count": 22,
   "metadata": {
    "colab": {
     "base_uri": "https://localhost:8080/"
    },
    "id": "QEjJybIWTumV",
    "outputId": "888957f9-d730-4014-8656-3440e9ec1d63"
   },
   "outputs": [
    {
     "data": {
      "text/plain": [
       "2"
      ]
     },
     "execution_count": 22,
     "metadata": {},
     "output_type": "execute_result"
    }
   ],
   "source": [
    "df_more10k = df[df['News_length'] > 10000]\n",
    "len(df_more10k)"
   ]
  },
  {
   "cell_type": "code",
   "execution_count": 23,
   "metadata": {
    "colab": {
     "base_uri": "https://localhost:8080/",
     "height": 139
    },
    "id": "JLO9-v5eTy8H",
    "outputId": "90718ee3-0385-4dad-fc67-824c9330312f"
   },
   "outputs": [
    {
     "data": {
      "text/plain": [
       "\"In the age of AI advances, self-driving cars turned out to be harder than people expected.    Finding the best ways to do good. \\n  When it comes to self-driving cars, the future was supposed to be now. In 2020, you’ll be a “permanent backseat driver,” the Guardian predicted in 2015. “10 million self-driving cars will be on the road by 2020,” blared a Business Insider headline from 2016. Those declarations were accompanied by announcements from General Motors, Google’s Waymo, Toyota, and Honda that they’d be making self-driving cars by 2020. Elon Musk forecast that Tesla would do it by 2018 — and then, when that failed, by 2020. But the year is here — and the self-driving cars aren’t. Despite extraordinary efforts from many of the leading names in tech and in automaking, fully autonomous cars are still out of reach except in special trial programs. You can buy a car that will automatically brake for you when it anticipates a collision, or one that helps keep you in your lane, or even a Tesla Model S (which — disclosure — my partner and I own) whose Autopilot mostly handles highway driving. But almost every one of the above predictions has been rolled back as the engineering teams at those companies struggle to make self-driving cars work properly. What happened? Here are nine questions you might have had about this long-promised technology, and why the future we were promised still hasn’t arrived.Engineers have been attempting prototypes of self-driving cars for decades. The idea behind it is really simple: Outfit a car with cameras that can track all the objects around it and have the car react if it’s about to steer into one. Teach in-car computers the rules of the road and set them loose to navigate to their own destination. This simple description elides a whole lot of complexity. Driving is one of the more complicated activities humans routinely do. Following a list of rules of the road isn’t enough to drive as well as a human does, because we do things like make eye contact with others to confirm who has the right of way, react to weather conditions, and otherwise make judgment calls that are difficult to encode in hard-and-fast rules.And even the simple parts of driving — like tracking the objects around a car on the road — are actually much trickier than they sound. Take Google’s sister company Waymo, the industry leader in self-driving cars. Waymo’s cars, which are fairly typical of other self-driving cars, use high-resolution cameras and lidar (light detection and ranging), a way of estimating distances to objects by bouncing light and sound off things.The car’s computers combine all of this to build a picture of where other cars, cyclists, pedestrians, and obstacles are and where they’re moving. For this part, lots of training data is needed — that is, the car has to draw on millions of miles of driving data that Waymo has collected to form expectations about how other objects might move. It’s hard to get enough training data on the road, so the cars also train based on simulation data — but engineers have to be sure that their AI systems will generalize correctly from the simulation data to the real world.That’s far from a complete description of the systems at work when a self-driving car is on the road. But it illustrates an important principle to keep in mind when wondering where our self-driving cars are: Even the “easy” things turn out to hide surprising complexity.Self-driving cars rely on artificial intelligence to work. And the 2010s were a great decade for AI. We saw big advances in translation, speech generation, computer vision and object recognition, and game-playing. AI used to have a hard time identifying dogs in pictures; now that’s a trivial task.It’s this progress in AI that drove the optimistic predictions for self-driving cars in the mid-2010s. Researchers anticipated that we could build on the amazing gains they’d seen (and are still seeing) in other arenas. But when it came to self-driving cars, the limitations of those gains became very apparent. Even with extraordinary amounts of time, money, and effort invested, no team could figure out how to have AI solve a real-world problem: navigating our roads with the high degree of reliability needed.Much of the problem is the need for lots of training data. The ideal way to train a self-driving car would be to show it billions of hours of footage of real driving, and use that to teach the computer good driving behavior. Modern machine learning systems do really well when they have abundant data, and very poorly when they have only a little bit of it. But collecting data for self-driving cars is expensive. And since some events are rare — witnessing a car accident ahead, say, or encountering debris on the road — it’s possible for the car to be out of its depth because it has encountered a situation so infrequently in its training data.Carmakers have tried to get around this in lots of ways. They’ve driven more miles. They’ve trained the cars in simulations. They sometimes engineer specific situations so that they can get more training data about those situations for the cars. And they are getting closer. Waymo cars do roam the streets of Arizona with no one behind the wheel (a small pool of specially screened people can call them up like they would an Uber). If all goes well, they may expand to more cities later this year (more on this below). But it’s a hard problem, and progress has been slow.Companies continue to invest despite the setbacks because self-driving cars, when they happen, will change a lot for the world — and make their creators lots of money.Many consumers will want to upgrade. Imagine being able to read or doze off during your morning drive to work or on long car trips. It also seems likely that taxi and ride-hailing companies will offer self-driving cars, rather than paying drivers (in fact, companies like Uber are betting on it). Self-driving cars should also make a huge difference for Americans with disabilities, many of whom can’t get a driver’s license and have trouble getting to work, the store, and doctor’s appointments. Experts disagree on whether self-driving cars will change anything fundamental about car ownership in America. Some argue that people won’t need to own a car if they can order one on their phone and get a timely robot ride anywhere. Others have pointed out that people generally still own a car even in areas with good ride-share coverage and that self-driving cars might not be any different. Polls suggest that most Americans don’t want to be driven to work by a self-driving car — but that might change fast once such cars actually exist. Gallup polling on this question found a small share (9 percent) of Americans who’d get such a car right away, with a larger contingent (38 percent) saying they’d wait a while, and half holding steadfast that they’d never use one.Over time, our infrastructure will likely change to make it easier for self-driving cars to navigate, and in fact, some researchers have argued that we won’t have widespread self-driving cars until we’ve made major changes to our streets to make it easier to communicate information to those cars. That would be expensive and require nationwide coordination, so it seems likely that it would follow the widespread introduction of self-driving cars rather than precede it. Almost every major car manufacturer has at least tested the waters with self-driving car research. But some are much more serious about it than others. There are two core statistics useful for evaluating how advanced a self-driving car program is. One is how many miles it has driven. That’s a proxy for how much training data the company has, and how much investment it has poured into getting its cars on the road. The other is disengagements — moments when a human driver has to take over because the computer couldn’t handle a situation — per mile driven. Most companies don’t share these statistics, but the state of California requires that they be reported, and so California’s statistics are the best peek into how various companies are doing. On both fronts, Google’s sister company Waymo is the clear leader. Waymo just announced 20 million miles driven overall, most of those not in California. In 2018, Waymo drove 1.2 million miles in California, with 0.09 disengagements every 1,000 miles. Coming in second is General Motors’ Cruise, with about half a million miles and 0.19 disengagements per 1,000 miles. (Cruise argues that since it tests its cars on San Francisco’s difficult streets, these numbers are even more impressive than they look.) Those two companies are well ahead of everyone else in both miles driven and disengagements in the state of California. While that’s only a limited snapshot of their efforts, most experts consider them the leading programs in general.March 18, 2018, was the first time a self-driving car ran down a pedestrian. An Uber car with a safety driver behind the wheel hit and killed Elaine Herzberg, a 49-year-old woman walking her bicycle across the street in Tempe, Arizona. The incident was a reminder that self-driving car technology still had a long way to go. Some people were quick to point out that humans frequently kill other humans while driving, and that even if self-driving cars are much safer than humans, there will be some fatal incidents with self-driving cars. That’s true as far as it goes. But it misses a key point. Human driving produces one fatal accident in every 100 million miles driven. Waymo, the leader in miles driven, just reached 20 million miles driven. It hasn’t had a fatal accident yet, but given the number of miles its cars have driven, it’s simply far too soon to prove that they’re as safe as or safer than a human driver.Uber hasn’t driven nearly as many miles and has had a fatal incident. The company doesn’t release specific figures, but its filings for its IPO last year said that it had driven “millions” of miles. It’s hard to tell without specific numbers, but it’s fair to wonder if Uber’s driving record is much worse than a human’s. Furthermore, a review of Herzberg’s death suggests that a lot of preventable mistakes were made. The accident report by the National Transportation Safety Board, released in December 2019, found that the near-range cameras and the ultrasonic sensors “were not in use at the time of the crash.” Additionally, the system was having such a problem with false alarms — detecting dangerous situations when none existed — that it had been programmed with “a one-second period during which the ADS [automated driving system] suppresses planned braking while the (1) system verifies the nature of the detected hazard and calculates an alternative path, or (2) vehicle operator takes control of the vehicle,” according to the NTSB report. So even when the car detected the hazard, it didn’t brake — which could have made the collision avoidable or much less deadly — but instead continued with exactly what it was doing for a full second. The system was designed to assume that pedestrians would never cross except at a crosswalk, so when one did cross without using one, it failed to identify her. Even worse, when the system was unclear on whether an object was a bicycle (as it was with Herzberg), it was unable to retain any information about how the object was moving. The system sensed her presence six full seconds before the impact — and yet did nothing (except possibly braking in the last two-tenths of a second) before colliding with her at deadly speed.Those are avoidable failures.Uber pulled its cars off the road in response, returning to self-driving car trials a year later with a drastically changed program. “We’ve implemented key safety improvements from both safety reviews, shared our learnings with the larger self-driving industry, and accepted the NTSB’s recommendation to implement a Safety Management System, which is underway today,” Nat Beuse, Uber’s self-driving cars head of safety, told Vox in a statement in response to a request for comment. “As we look ahead to the future, we’ll continue to keep safety at the center of every decision we make.”Nonetheless, deadly accidents with self-driving cars will keep happening — and it’s not just Uber. A report from the National Transportation Safety Board implicated Tesla’s Autopilot system in another lethal 2018 accident; while the driver had his hands off the wheel, the car steered into a concrete divider and crashed, killing him. A full investigation hasn’t yet been conducted on three more recent deadly Tesla crashes. The problem, according to NTSB chairman Robert Sumwalt, is that drivers assume Autopilot lets them take their attention off the road, when they shouldn’t. That won’t be a problem with fully autonomous vehicles, but it’s a potentially major one now.As I’ve written before, getting good self-driving cars on the road can save hundreds of thousands of lives. But it takes a lot of engineering work to get the cars good enough to be lifesaving. Some advocates have argued that self-driving cars will be good for the environment. They claim they might reduce car trips by making car ownership unnecessary and transitioning society to a model where most people don’t own a car and just call for one when they need one.In addition, others have argued that human drivers drive in a wasteful way — braking hard, accelerating hard, idling the engine, all of which use up fuel — which a computer could avoid.But as self-driving cars have inched closer to reality, most of these claimed benefits have started to look less likely. There’s not much evidence that computers are dramatically more fuel-efficient drivers than humans. There’s one small study suggesting adaptive cruise control improves efficiency a little (5 to 7 percent), but there’s little else beyond that. Furthermore, researchers have examined the effects of more fuel-efficient cars on miles traveled and found that, under many circumstances, people drive more when cars get more fuel-efficient — so self-driving cars having higher fuel efficiency might not mean that they produce lower emissions. One study attempting to estimate the effects of self-driving cars on car use behavior simulated a family having a self-driving car by paying for them to have a chauffeur for a week, and telling them to treat the chauffeur service the way they’d treat having a car that could drive itself. The result? They went on a lot more car trips.It’s still possible that some big transition to a lower-driving world will happen. A study of one week of driving habits isn’t enough to settle the question for sure. The researchers who conducted that study are preparing future studies, and it’s possible those comparisons will turn up more encouraging results. The above few sections might inspire some pessimism, but there’s plenty of reason to be excited about self-driving cars. They will likely make life easier for older people and those with disabilities who cannot safely drive. They might provide better, safer, and cheaper options for people currently forced to own a car to get anywhere. Additional research and development will make them safer — and once the kinks are worked out, there is a likelihood that self-driving cars will be safer than human-driven ones.In a sense, we’re in an awkward transition moment where we want self-driving cars they aren’t yet an uncomplicated positive. Research and development is proceeding anyway, mostly because self-driving cars will probably be a gold mine for the first company to get them on the road. They’ll likely be able to establish themselves in ride-hailing, taxi, and trucking markets while competitors are still struggling to catch up, and then they’ll benefit from the additional miles traveled to further improve their cars. It’s not uncommon for a technology to be dangerous and barely worth it when it is first invented, only to eventually be refined into a valuable part of modern life. The first airplanes were dangerous and commercially useless, but we improved things dramatically from there.There is no federal law regarding self-driving cars. Much of the action on policy has largely taken place at the state level. And the laws surrounding self-driving cars vary enormously by state, with 29 states having passed legislation.Self-driving car development mostly happens in the states that have been friendliest to it — especially California and Arizona — and it’s easy to envision some states banning self-driving cars long after they become commonplace in other states, especially if the safety case for them isn’t a slam-dunk.When self-driving cars were first proposed, I heard a lot of worries that regulators would unnecessarily delay their implementation. By 2016, it was obvious that hadn’t come to pass. Indeed, in some cases regulators may have been too permissive — for example, in light of Uber pulling its cars and instituting new safety procedures, it seems the vehicle that killed Elaine Herzberg probably shouldn’t have been on the road at all.Policy might also shape whether self-driving cars are good or bad for the environment. With high taxes on gasoline, for example, the social costs of carbon emissions could be reflected in the price of using self-driving cars — and the money can be spent on climate adaptation and clean energy. But right now, our transportation policy doesn’t do much of anything about the social costs of driving, and that’s a problem that will only get worse if self-driving cars put more people on the road. In some senses, we’ve been “close” on self-driving cars for years now. Waymo is doing test runs with no one behind the wheel in Arizona, which it’s been doing since 2017. Cruise delayed the 2019 launch of its autonomous taxi service but thinks it might happen in 2020. Earlier this year, the company unveiled a car with no steering wheel ... and no timetable for when it’ll be available for sale. Tesla’s periodic software updates make its Autopilot highway self-driving work better, but it remains well short of full self-driving.There are certainly skeptics. Recently, the CEO of Volkswagen said that fully self-driving cars might “never happen.”That might be an overly harsh forecast, considering the progress that’s been made. But it is exasperatingly difficult to get a good estimate of how long until self-driving cars happen for real for the typical American, both because no one knows for sure and because companies have incentives to publicize optimistic estimates. The companies boast about their progress but don’t publish their mishaps. Timelines slip, and the change in plans is often publicly acknowledged only long after it’s become obvious that the deadline can’t be met. At the same time, companies hesitate to put their cars on the road when there’s any chance they aren’t ready. They are well aware that killing someone, as Uber did, is not only horrible but also probably spells doom for their business. So there’s ample incentive to say optimistic things and not actually launch.It’s not hard to imagine their arrival later this year, at least in sufficiently limited contexts; it’s also not hard to imagine that the deadlines will be pushed out another three or four years.Self-driving cars are on their way. They’re closer than they were a year ago. When they’ll actually get here is anyone’s guess.Sign up for the Future Perfect newsletter and we’ll send you a roundup of ideas and solutions for tackling the world’s biggest challenges — and how to get better at doing good.Each week, we explore unique solutions to some of the world's biggest problems.Check your inbox for a welcome email.Future Perfect is funded in part by individual contributions, grants, and sponsorships. Learn more here.Will you support Vox’s explanatory journalism?    Millions turn to Vox to understand what’s happening in the news. Our mission has never been more vital than it is in this moment: to empower through understanding. Financial contributions from our readers are a critical part of supporting our resource-intensive work and help us keep our journalism free for all. Please consider making a contribution to Vox today from as little as $3.\\n  \""
      ]
     },
     "execution_count": 23,
     "metadata": {},
     "output_type": "execute_result"
    }
   ],
   "source": [
    "df_more10k['Content'].iloc[0]"
   ]
  },
  {
   "cell_type": "code",
   "execution_count": 24,
   "metadata": {
    "colab": {
     "base_uri": "https://localhost:8080/",
     "height": 388
    },
    "id": "opMMjGAHT1Uy",
    "outputId": "29d766a6-efe1-45b8-fb45-b49f9e007a3b"
   },
   "outputs": [
    {
     "data": {
      "image/png": "[encoded data removed]",
      "text/plain": [
       "<Figure size 921.6x432 with 1 Axes>"
      ]
     },
     "metadata": {},
     "output_type": "display_data"
    }
   ],
   "source": [
    "# box plot between category of dataset\n",
    "plt.figure(figsize=(12.8,6))\n",
    "sns.boxplot(data=df, x='Category', y='News_length', width=.5);"
   ]
  },
  {
   "cell_type": "code",
   "execution_count": 25,
   "metadata": {
    "colab": {
     "base_uri": "https://localhost:8080/",
     "height": 388
    },
    "id": "9ULrM1NIT6Q8",
    "outputId": "bd51096f-53ef-4ed6-d4ca-004389374261"
   },
   "outputs": [
    {
     "data": {
      "image/png": "[encoded data removed]",
      "text/plain": [
       "<Figure size 921.6x432 with 1 Axes>"
      ]
     },
     "metadata": {},
     "output_type": "display_data"
    }
   ],
   "source": [
    "plt.figure(figsize=(12.8,6))\n",
    "sns.boxplot(data=df_95, x='Category', y='News_length');\n"
   ]
  },
  {
   "cell_type": "code",
   "execution_count": 26,
   "metadata": {
    "id": "66Tn5NVNT9PK"
   },
   "outputs": [],
   "source": [
    "with open('News_dataset.pickle', 'wb') as output:\n",
    "    pickle.dump(df, output)"
   ]
  },
  {
   "cell_type": "code",
   "execution_count": 27,
   "metadata": {
    "id": "VBN0ZOQBbbP7"
   },
   "outputs": [],
   "source": [
    "\n",
    "with open('News_dataset.pickle', 'rb') as data:\n",
    "    df = pickle.load(data)"
   ]
  },
  {
   "cell_type": "code",
   "execution_count": 28,
   "metadata": {
    "colab": {
     "base_uri": "https://localhost:8080/",
     "height": 206
    },
    "id": "co21Ls5LbejT",
    "outputId": "397e0afb-9ac9-406d-e73c-2c14466baace"
   },
   "outputs": [
    {
     "data": {
      "text/html": [
       "<div>\n",
       "<style scoped>\n",
       "    .dataframe tbody tr th:only-of-type {\n",
       "        vertical-align: middle;\n",
       "    }\n",
       "\n",
       "    .dataframe tbody tr th {\n",
       "        vertical-align: top;\n",
       "    }\n",
       "\n",
       "    .dataframe thead th {\n",
       "        text-align: right;\n",
       "    }\n",
       "</style>\n",
       "<table border=\"1\" class=\"dataframe\">\n",
       "  <thead>\n",
       "    <tr style=\"text-align: right;\">\n",
       "      <th></th>\n",
       "      <th>File_Name</th>\n",
       "      <th>Content</th>\n",
       "      <th>Category</th>\n",
       "      <th>Complete_Filename</th>\n",
       "      <th>id</th>\n",
       "      <th>News_length</th>\n",
       "    </tr>\n",
       "  </thead>\n",
       "  <tbody>\n",
       "    <tr>\n",
       "      <th>0</th>\n",
       "      <td>FileName_0</td>\n",
       "      <td>With more than 40 companies actively investing...</td>\n",
       "      <td>positive</td>\n",
       "      <td>FileName_0</td>\n",
       "      <td>1</td>\n",
       "      <td>6623</td>\n",
       "    </tr>\n",
       "    <tr>\n",
       "      <th>1</th>\n",
       "      <td>FileName_1</td>\n",
       "      <td>2016 has been an exciting year so far for tech...</td>\n",
       "      <td>positive</td>\n",
       "      <td>FileName_1</td>\n",
       "      <td>1</td>\n",
       "      <td>5985</td>\n",
       "    </tr>\n",
       "    <tr>\n",
       "      <th>2</th>\n",
       "      <td>FileName_2</td>\n",
       "      <td>In the age of AI advances, self-driving cars t...</td>\n",
       "      <td>negative</td>\n",
       "      <td>FileName_2</td>\n",
       "      <td>1</td>\n",
       "      <td>20234</td>\n",
       "    </tr>\n",
       "    <tr>\n",
       "      <th>3</th>\n",
       "      <td>FileName_3</td>\n",
       "      <td>Autonomous vehicles are one of the most talked...</td>\n",
       "      <td>negative</td>\n",
       "      <td>FileName_3</td>\n",
       "      <td>1</td>\n",
       "      <td>5722</td>\n",
       "    </tr>\n",
       "    <tr>\n",
       "      <th>4</th>\n",
       "      <td>FileName_4</td>\n",
       "      <td>All the ways the self-driving future won’t com...</td>\n",
       "      <td>negative</td>\n",
       "      <td>FileName_4</td>\n",
       "      <td>1</td>\n",
       "      <td>9875</td>\n",
       "    </tr>\n",
       "  </tbody>\n",
       "</table>\n",
       "</div>"
      ],
      "text/plain": [
       "    File_Name                                            Content  Category  \\\n",
       "0  FileName_0  With more than 40 companies actively investing...  positive   \n",
       "1  FileName_1  2016 has been an exciting year so far for tech...  positive   \n",
       "2  FileName_2  In the age of AI advances, self-driving cars t...  negative   \n",
       "3  FileName_3  Autonomous vehicles are one of the most talked...  negative   \n",
       "4  FileName_4  All the ways the self-driving future won’t com...  negative   \n",
       "\n",
       "  Complete_Filename  id  News_length  \n",
       "0        FileName_0   1         6623  \n",
       "1        FileName_1   1         5985  \n",
       "2        FileName_2   1        20234  \n",
       "3        FileName_3   1         5722  \n",
       "4        FileName_4   1         9875  "
      ]
     },
     "execution_count": 28,
     "metadata": {},
     "output_type": "execute_result"
    }
   ],
   "source": [
    "df.head()"
   ]
  },
  {
   "cell_type": "markdown",
   "metadata": {
    "id": "ZdfKDVJu_sv5"
   },
   "source": [
    "# Feature Engineering\n"
   ]
  },
  {
   "cell_type": "code",
   "execution_count": 29,
   "metadata": {
    "id": "r6dOsMGxbfzb"
   },
   "outputs": [],
   "source": [
    "\n",
    "import pickle\n",
    "import pandas as pd\n",
    "import re\n",
    "import nltk\n",
    "from nltk.corpus import stopwords\n",
    "from nltk.stem import WordNetLemmatizer\n",
    "from sklearn.feature_extraction.text import TfidfVectorizer\n",
    "from sklearn.model_selection import train_test_split\n",
    "from sklearn.feature_selection import chi2\n",
    "import numpy as np\n",
    "\n",
    "with open('News_dataset.pickle', 'rb') as data:\n",
    "    df = pickle.load(data)"
   ]
  },
  {
   "cell_type": "code",
   "execution_count": 30,
   "metadata": {
    "colab": {
     "base_uri": "https://localhost:8080/",
     "height": 206
    },
    "id": "IMcTiEKOBHH9",
    "outputId": "7e8f4b28-ed2a-4f05-c53e-5d56e7cd3796"
   },
   "outputs": [
    {
     "data": {
      "text/html": [
       "<div>\n",
       "<style scoped>\n",
       "    .dataframe tbody tr th:only-of-type {\n",
       "        vertical-align: middle;\n",
       "    }\n",
       "\n",
       "    .dataframe tbody tr th {\n",
       "        vertical-align: top;\n",
       "    }\n",
       "\n",
       "    .dataframe thead th {\n",
       "        text-align: right;\n",
       "    }\n",
       "</style>\n",
       "<table border=\"1\" class=\"dataframe\">\n",
       "  <thead>\n",
       "    <tr style=\"text-align: right;\">\n",
       "      <th></th>\n",
       "      <th>File_Name</th>\n",
       "      <th>Content</th>\n",
       "      <th>Category</th>\n",
       "      <th>Complete_Filename</th>\n",
       "      <th>id</th>\n",
       "      <th>News_length</th>\n",
       "    </tr>\n",
       "  </thead>\n",
       "  <tbody>\n",
       "    <tr>\n",
       "      <th>0</th>\n",
       "      <td>FileName_0</td>\n",
       "      <td>With more than 40 companies actively investing...</td>\n",
       "      <td>positive</td>\n",
       "      <td>FileName_0</td>\n",
       "      <td>1</td>\n",
       "      <td>6623</td>\n",
       "    </tr>\n",
       "    <tr>\n",
       "      <th>1</th>\n",
       "      <td>FileName_1</td>\n",
       "      <td>2016 has been an exciting year so far for tech...</td>\n",
       "      <td>positive</td>\n",
       "      <td>FileName_1</td>\n",
       "      <td>1</td>\n",
       "      <td>5985</td>\n",
       "    </tr>\n",
       "    <tr>\n",
       "      <th>2</th>\n",
       "      <td>FileName_2</td>\n",
       "      <td>In the age of AI advances, self-driving cars t...</td>\n",
       "      <td>negative</td>\n",
       "      <td>FileName_2</td>\n",
       "      <td>1</td>\n",
       "      <td>20234</td>\n",
       "    </tr>\n",
       "    <tr>\n",
       "      <th>3</th>\n",
       "      <td>FileName_3</td>\n",
       "      <td>Autonomous vehicles are one of the most talked...</td>\n",
       "      <td>negative</td>\n",
       "      <td>FileName_3</td>\n",
       "      <td>1</td>\n",
       "      <td>5722</td>\n",
       "    </tr>\n",
       "    <tr>\n",
       "      <th>4</th>\n",
       "      <td>FileName_4</td>\n",
       "      <td>All the ways the self-driving future won’t com...</td>\n",
       "      <td>negative</td>\n",
       "      <td>FileName_4</td>\n",
       "      <td>1</td>\n",
       "      <td>9875</td>\n",
       "    </tr>\n",
       "  </tbody>\n",
       "</table>\n",
       "</div>"
      ],
      "text/plain": [
       "    File_Name                                            Content  Category  \\\n",
       "0  FileName_0  With more than 40 companies actively investing...  positive   \n",
       "1  FileName_1  2016 has been an exciting year so far for tech...  positive   \n",
       "2  FileName_2  In the age of AI advances, self-driving cars t...  negative   \n",
       "3  FileName_3  Autonomous vehicles are one of the most talked...  negative   \n",
       "4  FileName_4  All the ways the self-driving future won’t com...  negative   \n",
       "\n",
       "  Complete_Filename  id  News_length  \n",
       "0        FileName_0   1         6623  \n",
       "1        FileName_1   1         5985  \n",
       "2        FileName_2   1        20234  \n",
       "3        FileName_3   1         5722  \n",
       "4        FileName_4   1         9875  "
      ]
     },
     "execution_count": 30,
     "metadata": {},
     "output_type": "execute_result"
    }
   ],
   "source": [
    "df.head()"
   ]
  },
  {
   "cell_type": "code",
   "execution_count": 31,
   "metadata": {
    "colab": {
     "base_uri": "https://localhost:8080/",
     "height": 139
    },
    "id": "rOeRhw8iBKeM",
    "outputId": "92948f5c-cea5-4c3c-84e2-e7c14e8ffa52"
   },
   "outputs": [
    {
     "data": {
      "text/plain": [
       "'2016 has been an exciting year so far for technologies that, until recently, have been confined to the world of science fiction dreams. Whether it’s 3D printing revolutionizing the Healthcare industry or the widespread commercial availability of VR technology, we’re continuing to witness amazing\\xa0innovations that even just a few years ago seemed like distant possibilities at best.Another technological advancement causing widespread wonder is self-driving cars. We may not have arrived at a Jetsons-like future of flying automated vehicles just yet, but the self-driving car is getting closer and closer to becoming a widespread, viable method of transportation. And, while many are skeptical about the future of driverless and self-driving cars on the road, there’s actually a good deal of data and research to support the idea that self-driving cars may actually be better for our future.With that in mind, here are five reasons to embrace self-driving cars:It’s tough at first to wrap our minds around the fact that a car operated by computers could somehow be safer, but think of it this way: how many car accidents have been caused by some sort of human error, be it speeding, driving recklessly, inattentiveness, or worse, impaired driving? Turns out that an overwhelming majority of accidents have been caused by humans. In fact, a study by the National Highway Traffic Safety Administration (NHTSA) revealed that 94% of accidents were caused by the drivers themselves.Self-driving cars, on the other hand, are purely analytical, relying on cameras, radar, and other sensors to navigate. There’s no emotion involved, and certainly no distractions like cell phones or impairing factors like alcohol to affect driving performance. The computers in a smart car simply react quicker than our minds can and aren’t susceptible to the many potential mistakes we can make on the road. As a result, a future full of self-driving cars will be a safer one.More and more businesses are operating remotely these days, or are at least allowing people to work from home more often, and for good reasons, not the least of which is increased productivity. On average, Americans spend 26 minutes commuting to work each day. That’s almost an hour each day, and it largely goes wasted. In 2014, Americans spent an astonishing cumulative total of 29.6 billion hours commuting. Imagine what we could do with all that time back.While many already commute on buses or trains, a whole lot of people still travel to work in their own cars. A self-driving car would allow them to get some work done, knock a few emails out, or even get a little extra sleep if they have to wake up early to get to work. Many people find themselves tempted to look at their phones while driving anyway, so why not at least do it safely in a self-driving car?Cars can be very expensive investments, even if you’re not in the luxury sports car tax bracket. Indeed, AAA reports that the average annual amount spent on a car in America is close to $9,000. Some of these things you can’t avoid, like licensing and registration fees, but other costs can be eliminated or at least reduced with the help of self-driving cars.Because self-driving cars are safer, they’ll cut down on any accident-induced costs, which means insurance premiums won’t skyrocket either. Additionally, self-driving cars don’t sustain the same kind of wear and tear as human-piloted vehicles. They don’t floor the gas pedal or slam the brakes unless an emergency is detected, making for better upkeep, slower depreciation, and even better fuel efficiency. These little things can quickly add up, meaning that self-driving cars, while more expensive up front, can easily put money back in your pocket in the long-term.We’ve already talked about the benefits self-driving cars will have on the fuel economy of your vehicle, but the improved efficiency of travel thanks to self-driving cars stretches far beyond that benefit. For one, since self-driving cars are connected to the internet, their navigation will use GPS programs like Google Maps to automatically generate the quickest possible route. The deliberative architecture in self-driving cars’ software means the car is also intelligent enough to detect delays and accidents before you arrive at them, so it can reroute the vehicle’s path without running into any impediments.Speaking of delays, if we really reach a future where the road is occupied only by self-driving vehicles, even stops at traffic lights and intersections will become a thing of the past. With sensors and scheduling nodes at traffic intersections, along with the ability of cars to communicate back and forth, it’s possible that in the future we could see a perfectly efficient roadway featuring only autonomous intersections, in which the car would never have to stop until it reached its destination.Self-driving cars could be of huge benefit to the environment. According to the Union of Concerned Scientists, transportation, in general, was responsible for over half of the carbon monoxide and nitrogen oxide air pollution as well as a quarter of the hydrocarbons emitted into our atmosphere. While many self-driving cars might still emit these same materials, their improved efficiency would be a huge step forward toward a cleaner future.Part of the reason cars cause so much air pollution is traffic gridlock in highly congested areas. The efficiency of self-driving cars, in addition to the possibility of a future without any gridlock or traffic stops, will cut down on these emissions. If future manufacturers of self-driving cars follow Google’s precedent and make electric vehicles, the positive impact on the environment could be even greater. It’s worth the benefits to the environment alone to embrace the future of self-driving cars.As self-driving cars continue to get closer and closer to being on our roads, what other benefits are you excited about? Leave a comment below!SEO and marketing professional.'"
      ]
     },
     "execution_count": 31,
     "metadata": {},
     "output_type": "execute_result"
    }
   ],
   "source": [
    "df.loc[1]['Content']"
   ]
  },
  {
   "cell_type": "code",
   "execution_count": 32,
   "metadata": {
    "id": "_oeCSKIDBNvv"
   },
   "outputs": [],
   "source": [
    "\n",
    "# \\r and \\n\n",
    "df['Content_Parsed_1'] = df['Content'].str.replace(\"\\r\", \" \")\n",
    "df['Content_Parsed_1'] = df['Content_Parsed_1'].str.replace(\"\\n\", \" \")\n",
    "df['Content_Parsed_1'] = df['Content_Parsed_1'].str.replace(\"    \", \" \")"
   ]
  },
  {
   "cell_type": "code",
   "execution_count": 33,
   "metadata": {
    "id": "IwbP2N1pBSZD"
   },
   "outputs": [],
   "source": [
    "df['Content_Parsed_1'] = df['Content_Parsed_1'].str.replace('\"', '')"
   ]
  },
  {
   "cell_type": "code",
   "execution_count": 34,
   "metadata": {
    "id": "aPMi9e8UBUdt"
   },
   "outputs": [],
   "source": [
    "\n",
    "# Lowercasing the text\n",
    "df['Content_Parsed_2'] = df['Content_Parsed_1'].str.lower()"
   ]
  },
  {
   "cell_type": "code",
   "execution_count": 35,
   "metadata": {
    "id": "pUE6RellBWl7"
   },
   "outputs": [],
   "source": [
    "\n",
    "punctuation_signs = list(\"?:!.,;\")\n",
    "df['Content_Parsed_3'] = df['Content_Parsed_2']\n",
    "\n",
    "for punct_sign in punctuation_signs:\n",
    "    df['Content_Parsed_3'] = df['Content_Parsed_3'].str.replace(punct_sign, '')"
   ]
  },
  {
   "cell_type": "code",
   "execution_count": 36,
   "metadata": {
    "id": "K2OCh26IBYq3"
   },
   "outputs": [],
   "source": [
    "df['Content_Parsed_4'] = df['Content_Parsed_3'].str.replace(\"'s\", \"\")"
   ]
  },
  {
   "cell_type": "code",
   "execution_count": 37,
   "metadata": {
    "colab": {
     "base_uri": "https://localhost:8080/"
    },
    "id": "LbIF-aJRBarr",
    "outputId": "1ddae3ab-5747-4c33-e92d-18ebed997242"
   },
   "outputs": [
    {
     "name": "stderr",
     "output_type": "stream",
     "text": [
      "[nltk_data] Downloading package punkt to\n",
      "[nltk_data]     C:\\Users\\Soumya\\AppData\\Roaming\\nltk_data...\n",
      "[nltk_data]   Unzipping tokenizers\\punkt.zip.\n"
     ]
    },
    {
     "name": "stdout",
     "output_type": "stream",
     "text": [
      "------------------------------------------------------------\n"
     ]
    },
    {
     "name": "stderr",
     "output_type": "stream",
     "text": [
      "[nltk_data] Downloading package wordnet to\n",
      "[nltk_data]     C:\\Users\\Soumya\\AppData\\Roaming\\nltk_data...\n",
      "[nltk_data]   Unzipping corpora\\wordnet.zip.\n"
     ]
    },
    {
     "data": {
      "text/plain": [
       "True"
      ]
     },
     "execution_count": 37,
     "metadata": {},
     "output_type": "execute_result"
    }
   ],
   "source": [
    "# Downloading punkt and wordnet from NLTK\n",
    "nltk.download('punkt')\n",
    "print(\"------------------------------------------------------------\")\n",
    "nltk.download('wordnet')"
   ]
  },
  {
   "cell_type": "code",
   "execution_count": 38,
   "metadata": {
    "id": "TJ1z7sngBdnW"
   },
   "outputs": [],
   "source": [
    "# Saving the lemmatizer into an object\n",
    "wordnet_lemmatizer = WordNetLemmatizer()"
   ]
  },
  {
   "cell_type": "code",
   "execution_count": 39,
   "metadata": {
    "id": "8z61_-QsBhBx"
   },
   "outputs": [],
   "source": [
    "nrows = len(df)\n",
    "lemmatized_text_list = []\n",
    "\n",
    "for row in range(0, nrows):\n",
    "    \n",
    "    # Create an empty list containing lemmatized words\n",
    "    lemmatized_list = []\n",
    "    \n",
    "    # Save the text and its words into an object\n",
    "    text = df.loc[row]['Content_Parsed_4']\n",
    "    text_words = text.split(\" \")\n",
    "\n",
    "    # Iterate through every word to lemmatize\n",
    "    for word in text_words:\n",
    "        lemmatized_list.append(wordnet_lemmatizer.lemmatize(word, pos=\"v\"))\n",
    "        \n",
    "    # Join the list\n",
    "    lemmatized_text = \" \".join(lemmatized_list)\n",
    "    \n",
    "    # Append to the list containing the texts\n",
    "    lemmatized_text_list.append(lemmatized_text)"
   ]
  },
  {
   "cell_type": "code",
   "execution_count": 40,
   "metadata": {
    "id": "GGAvAVRlBtgc"
   },
   "outputs": [],
   "source": [
    "df['Content_Parsed_5'] = lemmatized_text_list"
   ]
  },
  {
   "cell_type": "code",
   "execution_count": 41,
   "metadata": {
    "colab": {
     "base_uri": "https://localhost:8080/"
    },
    "id": "4d7ov4DIBwj4",
    "outputId": "9a70018a-2167-4a7e-d18a-dec5ece0d7ba"
   },
   "outputs": [
    {
     "name": "stderr",
     "output_type": "stream",
     "text": [
      "[nltk_data] Downloading package stopwords to\n",
      "[nltk_data]     C:\\Users\\Soumya\\AppData\\Roaming\\nltk_data...\n",
      "[nltk_data]   Package stopwords is already up-to-date!\n"
     ]
    },
    {
     "data": {
      "text/plain": [
       "True"
      ]
     },
     "execution_count": 41,
     "metadata": {},
     "output_type": "execute_result"
    }
   ],
   "source": [
    "\n",
    "# Downloading the stop words list\n",
    "nltk.download('stopwords')"
   ]
  },
  {
   "cell_type": "code",
   "execution_count": 42,
   "metadata": {
    "id": "XkOkHIRmBzBu"
   },
   "outputs": [],
   "source": [
    "\n",
    "# Loading the stop words in english\n",
    "stop_words = list(stopwords.words('english'))"
   ]
  },
  {
   "cell_type": "code",
   "execution_count": 43,
   "metadata": {
    "colab": {
     "base_uri": "https://localhost:8080/"
    },
    "id": "AncN0tErB2M-",
    "outputId": "3df035ec-62b0-495c-8b31-27a865dbb089"
   },
   "outputs": [
    {
     "data": {
      "text/plain": [
       "['i', 'me', 'my', 'myself', 'we', 'our', 'ours', 'ourselves', 'you', \"you're\"]"
      ]
     },
     "execution_count": 43,
     "metadata": {},
     "output_type": "execute_result"
    }
   ],
   "source": [
    "stop_words[0:10]"
   ]
  },
  {
   "cell_type": "code",
   "execution_count": 44,
   "metadata": {
    "id": "ymg_cF9tB60Q"
   },
   "outputs": [],
   "source": [
    "df['Content_Parsed_6'] = df['Content_Parsed_5']\n",
    "\n",
    "for stop_word in stop_words:\n",
    "\n",
    "    regex_stopword = r\"\\b\" + stop_word + r\"\\b\"\n",
    "    df['Content_Parsed_6'] = df['Content_Parsed_6'].str.replace(regex_stopword, '')"
   ]
  },
  {
   "cell_type": "code",
   "execution_count": 45,
   "metadata": {
    "colab": {
     "base_uri": "https://localhost:8080/",
     "height": 139
    },
    "id": "53inVXQmB8-m",
    "outputId": "2f55a27d-e6cc-4247-8cde-0e26f453ee75"
   },
   "outputs": [
    {
     "data": {
      "text/plain": [
       "\"In the age of AI advances, self-driving cars turned out to be harder than people expected.    Finding the best ways to do good. \\n  When it comes to self-driving cars, the future was supposed to be now. In 2020, you’ll be a “permanent backseat driver,” the Guardian predicted in 2015. “10 million self-driving cars will be on the road by 2020,” blared a Business Insider headline from 2016. Those declarations were accompanied by announcements from General Motors, Google’s Waymo, Toyota, and Honda that they’d be making self-driving cars by 2020. Elon Musk forecast that Tesla would do it by 2018 — and then, when that failed, by 2020. But the year is here — and the self-driving cars aren’t. Despite extraordinary efforts from many of the leading names in tech and in automaking, fully autonomous cars are still out of reach except in special trial programs. You can buy a car that will automatically brake for you when it anticipates a collision, or one that helps keep you in your lane, or even a Tesla Model S (which — disclosure — my partner and I own) whose Autopilot mostly handles highway driving. But almost every one of the above predictions has been rolled back as the engineering teams at those companies struggle to make self-driving cars work properly. What happened? Here are nine questions you might have had about this long-promised technology, and why the future we were promised still hasn’t arrived.Engineers have been attempting prototypes of self-driving cars for decades. The idea behind it is really simple: Outfit a car with cameras that can track all the objects around it and have the car react if it’s about to steer into one. Teach in-car computers the rules of the road and set them loose to navigate to their own destination. This simple description elides a whole lot of complexity. Driving is one of the more complicated activities humans routinely do. Following a list of rules of the road isn’t enough to drive as well as a human does, because we do things like make eye contact with others to confirm who has the right of way, react to weather conditions, and otherwise make judgment calls that are difficult to encode in hard-and-fast rules.And even the simple parts of driving — like tracking the objects around a car on the road — are actually much trickier than they sound. Take Google’s sister company Waymo, the industry leader in self-driving cars. Waymo’s cars, which are fairly typical of other self-driving cars, use high-resolution cameras and lidar (light detection and ranging), a way of estimating distances to objects by bouncing light and sound off things.The car’s computers combine all of this to build a picture of where other cars, cyclists, pedestrians, and obstacles are and where they’re moving. For this part, lots of training data is needed — that is, the car has to draw on millions of miles of driving data that Waymo has collected to form expectations about how other objects might move. It’s hard to get enough training data on the road, so the cars also train based on simulation data — but engineers have to be sure that their AI systems will generalize correctly from the simulation data to the real world.That’s far from a complete description of the systems at work when a self-driving car is on the road. But it illustrates an important principle to keep in mind when wondering where our self-driving cars are: Even the “easy” things turn out to hide surprising complexity.Self-driving cars rely on artificial intelligence to work. And the 2010s were a great decade for AI. We saw big advances in translation, speech generation, computer vision and object recognition, and game-playing. AI used to have a hard time identifying dogs in pictures; now that’s a trivial task.It’s this progress in AI that drove the optimistic predictions for self-driving cars in the mid-2010s. Researchers anticipated that we could build on the amazing gains they’d seen (and are still seeing) in other arenas. But when it came to self-driving cars, the limitations of those gains became very apparent. Even with extraordinary amounts of time, money, and effort invested, no team could figure out how to have AI solve a real-world problem: navigating our roads with the high degree of reliability needed.Much of the problem is the need for lots of training data. The ideal way to train a self-driving car would be to show it billions of hours of footage of real driving, and use that to teach the computer good driving behavior. Modern machine learning systems do really well when they have abundant data, and very poorly when they have only a little bit of it. But collecting data for self-driving cars is expensive. And since some events are rare — witnessing a car accident ahead, say, or encountering debris on the road — it’s possible for the car to be out of its depth because it has encountered a situation so infrequently in its training data.Carmakers have tried to get around this in lots of ways. They’ve driven more miles. They’ve trained the cars in simulations. They sometimes engineer specific situations so that they can get more training data about those situations for the cars. And they are getting closer. Waymo cars do roam the streets of Arizona with no one behind the wheel (a small pool of specially screened people can call them up like they would an Uber). If all goes well, they may expand to more cities later this year (more on this below). But it’s a hard problem, and progress has been slow.Companies continue to invest despite the setbacks because self-driving cars, when they happen, will change a lot for the world — and make their creators lots of money.Many consumers will want to upgrade. Imagine being able to read or doze off during your morning drive to work or on long car trips. It also seems likely that taxi and ride-hailing companies will offer self-driving cars, rather than paying drivers (in fact, companies like Uber are betting on it). Self-driving cars should also make a huge difference for Americans with disabilities, many of whom can’t get a driver’s license and have trouble getting to work, the store, and doctor’s appointments. Experts disagree on whether self-driving cars will change anything fundamental about car ownership in America. Some argue that people won’t need to own a car if they can order one on their phone and get a timely robot ride anywhere. Others have pointed out that people generally still own a car even in areas with good ride-share coverage and that self-driving cars might not be any different. Polls suggest that most Americans don’t want to be driven to work by a self-driving car — but that might change fast once such cars actually exist. Gallup polling on this question found a small share (9 percent) of Americans who’d get such a car right away, with a larger contingent (38 percent) saying they’d wait a while, and half holding steadfast that they’d never use one.Over time, our infrastructure will likely change to make it easier for self-driving cars to navigate, and in fact, some researchers have argued that we won’t have widespread self-driving cars until we’ve made major changes to our streets to make it easier to communicate information to those cars. That would be expensive and require nationwide coordination, so it seems likely that it would follow the widespread introduction of self-driving cars rather than precede it. Almost every major car manufacturer has at least tested the waters with self-driving car research. But some are much more serious about it than others. There are two core statistics useful for evaluating how advanced a self-driving car program is. One is how many miles it has driven. That’s a proxy for how much training data the company has, and how much investment it has poured into getting its cars on the road. The other is disengagements — moments when a human driver has to take over because the computer couldn’t handle a situation — per mile driven. Most companies don’t share these statistics, but the state of California requires that they be reported, and so California’s statistics are the best peek into how various companies are doing. On both fronts, Google’s sister company Waymo is the clear leader. Waymo just announced 20 million miles driven overall, most of those not in California. In 2018, Waymo drove 1.2 million miles in California, with 0.09 disengagements every 1,000 miles. Coming in second is General Motors’ Cruise, with about half a million miles and 0.19 disengagements per 1,000 miles. (Cruise argues that since it tests its cars on San Francisco’s difficult streets, these numbers are even more impressive than they look.) Those two companies are well ahead of everyone else in both miles driven and disengagements in the state of California. While that’s only a limited snapshot of their efforts, most experts consider them the leading programs in general.March 18, 2018, was the first time a self-driving car ran down a pedestrian. An Uber car with a safety driver behind the wheel hit and killed Elaine Herzberg, a 49-year-old woman walking her bicycle across the street in Tempe, Arizona. The incident was a reminder that self-driving car technology still had a long way to go. Some people were quick to point out that humans frequently kill other humans while driving, and that even if self-driving cars are much safer than humans, there will be some fatal incidents with self-driving cars. That’s true as far as it goes. But it misses a key point. Human driving produces one fatal accident in every 100 million miles driven. Waymo, the leader in miles driven, just reached 20 million miles driven. It hasn’t had a fatal accident yet, but given the number of miles its cars have driven, it’s simply far too soon to prove that they’re as safe as or safer than a human driver.Uber hasn’t driven nearly as many miles and has had a fatal incident. The company doesn’t release specific figures, but its filings for its IPO last year said that it had driven “millions” of miles. It’s hard to tell without specific numbers, but it’s fair to wonder if Uber’s driving record is much worse than a human’s. Furthermore, a review of Herzberg’s death suggests that a lot of preventable mistakes were made. The accident report by the National Transportation Safety Board, released in December 2019, found that the near-range cameras and the ultrasonic sensors “were not in use at the time of the crash.” Additionally, the system was having such a problem with false alarms — detecting dangerous situations when none existed — that it had been programmed with “a one-second period during which the ADS [automated driving system] suppresses planned braking while the (1) system verifies the nature of the detected hazard and calculates an alternative path, or (2) vehicle operator takes control of the vehicle,” according to the NTSB report. So even when the car detected the hazard, it didn’t brake — which could have made the collision avoidable or much less deadly — but instead continued with exactly what it was doing for a full second. The system was designed to assume that pedestrians would never cross except at a crosswalk, so when one did cross without using one, it failed to identify her. Even worse, when the system was unclear on whether an object was a bicycle (as it was with Herzberg), it was unable to retain any information about how the object was moving. The system sensed her presence six full seconds before the impact — and yet did nothing (except possibly braking in the last two-tenths of a second) before colliding with her at deadly speed.Those are avoidable failures.Uber pulled its cars off the road in response, returning to self-driving car trials a year later with a drastically changed program. “We’ve implemented key safety improvements from both safety reviews, shared our learnings with the larger self-driving industry, and accepted the NTSB’s recommendation to implement a Safety Management System, which is underway today,” Nat Beuse, Uber’s self-driving cars head of safety, told Vox in a statement in response to a request for comment. “As we look ahead to the future, we’ll continue to keep safety at the center of every decision we make.”Nonetheless, deadly accidents with self-driving cars will keep happening — and it’s not just Uber. A report from the National Transportation Safety Board implicated Tesla’s Autopilot system in another lethal 2018 accident; while the driver had his hands off the wheel, the car steered into a concrete divider and crashed, killing him. A full investigation hasn’t yet been conducted on three more recent deadly Tesla crashes. The problem, according to NTSB chairman Robert Sumwalt, is that drivers assume Autopilot lets them take their attention off the road, when they shouldn’t. That won’t be a problem with fully autonomous vehicles, but it’s a potentially major one now.As I’ve written before, getting good self-driving cars on the road can save hundreds of thousands of lives. But it takes a lot of engineering work to get the cars good enough to be lifesaving. Some advocates have argued that self-driving cars will be good for the environment. They claim they might reduce car trips by making car ownership unnecessary and transitioning society to a model where most people don’t own a car and just call for one when they need one.In addition, others have argued that human drivers drive in a wasteful way — braking hard, accelerating hard, idling the engine, all of which use up fuel — which a computer could avoid.But as self-driving cars have inched closer to reality, most of these claimed benefits have started to look less likely. There’s not much evidence that computers are dramatically more fuel-efficient drivers than humans. There’s one small study suggesting adaptive cruise control improves efficiency a little (5 to 7 percent), but there’s little else beyond that. Furthermore, researchers have examined the effects of more fuel-efficient cars on miles traveled and found that, under many circumstances, people drive more when cars get more fuel-efficient — so self-driving cars having higher fuel efficiency might not mean that they produce lower emissions. One study attempting to estimate the effects of self-driving cars on car use behavior simulated a family having a self-driving car by paying for them to have a chauffeur for a week, and telling them to treat the chauffeur service the way they’d treat having a car that could drive itself. The result? They went on a lot more car trips.It’s still possible that some big transition to a lower-driving world will happen. A study of one week of driving habits isn’t enough to settle the question for sure. The researchers who conducted that study are preparing future studies, and it’s possible those comparisons will turn up more encouraging results. The above few sections might inspire some pessimism, but there’s plenty of reason to be excited about self-driving cars. They will likely make life easier for older people and those with disabilities who cannot safely drive. They might provide better, safer, and cheaper options for people currently forced to own a car to get anywhere. Additional research and development will make them safer — and once the kinks are worked out, there is a likelihood that self-driving cars will be safer than human-driven ones.In a sense, we’re in an awkward transition moment where we want self-driving cars they aren’t yet an uncomplicated positive. Research and development is proceeding anyway, mostly because self-driving cars will probably be a gold mine for the first company to get them on the road. They’ll likely be able to establish themselves in ride-hailing, taxi, and trucking markets while competitors are still struggling to catch up, and then they’ll benefit from the additional miles traveled to further improve their cars. It’s not uncommon for a technology to be dangerous and barely worth it when it is first invented, only to eventually be refined into a valuable part of modern life. The first airplanes were dangerous and commercially useless, but we improved things dramatically from there.There is no federal law regarding self-driving cars. Much of the action on policy has largely taken place at the state level. And the laws surrounding self-driving cars vary enormously by state, with 29 states having passed legislation.Self-driving car development mostly happens in the states that have been friendliest to it — especially California and Arizona — and it’s easy to envision some states banning self-driving cars long after they become commonplace in other states, especially if the safety case for them isn’t a slam-dunk.When self-driving cars were first proposed, I heard a lot of worries that regulators would unnecessarily delay their implementation. By 2016, it was obvious that hadn’t come to pass. Indeed, in some cases regulators may have been too permissive — for example, in light of Uber pulling its cars and instituting new safety procedures, it seems the vehicle that killed Elaine Herzberg probably shouldn’t have been on the road at all.Policy might also shape whether self-driving cars are good or bad for the environment. With high taxes on gasoline, for example, the social costs of carbon emissions could be reflected in the price of using self-driving cars — and the money can be spent on climate adaptation and clean energy. But right now, our transportation policy doesn’t do much of anything about the social costs of driving, and that’s a problem that will only get worse if self-driving cars put more people on the road. In some senses, we’ve been “close” on self-driving cars for years now. Waymo is doing test runs with no one behind the wheel in Arizona, which it’s been doing since 2017. Cruise delayed the 2019 launch of its autonomous taxi service but thinks it might happen in 2020. Earlier this year, the company unveiled a car with no steering wheel ... and no timetable for when it’ll be available for sale. Tesla’s periodic software updates make its Autopilot highway self-driving work better, but it remains well short of full self-driving.There are certainly skeptics. Recently, the CEO of Volkswagen said that fully self-driving cars might “never happen.”That might be an overly harsh forecast, considering the progress that’s been made. But it is exasperatingly difficult to get a good estimate of how long until self-driving cars happen for real for the typical American, both because no one knows for sure and because companies have incentives to publicize optimistic estimates. The companies boast about their progress but don’t publish their mishaps. Timelines slip, and the change in plans is often publicly acknowledged only long after it’s become obvious that the deadline can’t be met. At the same time, companies hesitate to put their cars on the road when there’s any chance they aren’t ready. They are well aware that killing someone, as Uber did, is not only horrible but also probably spells doom for their business. So there’s ample incentive to say optimistic things and not actually launch.It’s not hard to imagine their arrival later this year, at least in sufficiently limited contexts; it’s also not hard to imagine that the deadlines will be pushed out another three or four years.Self-driving cars are on their way. They’re closer than they were a year ago. When they’ll actually get here is anyone’s guess.Sign up for the Future Perfect newsletter and we’ll send you a roundup of ideas and solutions for tackling the world’s biggest challenges — and how to get better at doing good.Each week, we explore unique solutions to some of the world's biggest problems.Check your inbox for a welcome email.Future Perfect is funded in part by individual contributions, grants, and sponsorships. Learn more here.Will you support Vox’s explanatory journalism?    Millions turn to Vox to understand what’s happening in the news. Our mission has never been more vital than it is in this moment: to empower through understanding. Financial contributions from our readers are a critical part of supporting our resource-intensive work and help us keep our journalism free for all. Please consider making a contribution to Vox today from as little as $3.\\n  \""
      ]
     },
     "execution_count": 45,
     "metadata": {},
     "output_type": "execute_result"
    }
   ],
   "source": [
    "\n",
    "df.loc[2]['Content']"
   ]
  },
  {
   "cell_type": "code",
   "execution_count": 46,
   "metadata": {
    "colab": {
     "base_uri": "https://localhost:8080/",
     "height": 139
    },
    "id": "TmkFTPA9CC8Z",
    "outputId": "a1eacff0-145e-40d9-e911-d2302108a7aa"
   },
   "outputs": [
    {
     "data": {
      "text/plain": [
       "\"In the age of AI advances, self-driving cars turned out to be harder than people expected. Finding the best ways to do good. When it comes to self-driving cars, the future was supposed to be now. In 2020, you’ll be a “permanent backseat driver,” the Guardian predicted in 2015. “10 million self-driving cars will be on the road by 2020,” blared a Business Insider headline from 2016. Those declarations were accompanied by announcements from General Motors, Google’s Waymo, Toyota, and Honda that they’d be making self-driving cars by 2020. Elon Musk forecast that Tesla would do it by 2018 — and then, when that failed, by 2020. But the year is here — and the self-driving cars aren’t. Despite extraordinary efforts from many of the leading names in tech and in automaking, fully autonomous cars are still out of reach except in special trial programs. You can buy a car that will automatically brake for you when it anticipates a collision, or one that helps keep you in your lane, or even a Tesla Model S (which — disclosure — my partner and I own) whose Autopilot mostly handles highway driving. But almost every one of the above predictions has been rolled back as the engineering teams at those companies struggle to make self-driving cars work properly. What happened? Here are nine questions you might have had about this long-promised technology, and why the future we were promised still hasn’t arrived.Engineers have been attempting prototypes of self-driving cars for decades. The idea behind it is really simple: Outfit a car with cameras that can track all the objects around it and have the car react if it’s about to steer into one. Teach in-car computers the rules of the road and set them loose to navigate to their own destination. This simple description elides a whole lot of complexity. Driving is one of the more complicated activities humans routinely do. Following a list of rules of the road isn’t enough to drive as well as a human does, because we do things like make eye contact with others to confirm who has the right of way, react to weather conditions, and otherwise make judgment calls that are difficult to encode in hard-and-fast rules.And even the simple parts of driving — like tracking the objects around a car on the road — are actually much trickier than they sound. Take Google’s sister company Waymo, the industry leader in self-driving cars. Waymo’s cars, which are fairly typical of other self-driving cars, use high-resolution cameras and lidar (light detection and ranging), a way of estimating distances to objects by bouncing light and sound off things.The car’s computers combine all of this to build a picture of where other cars, cyclists, pedestrians, and obstacles are and where they’re moving. For this part, lots of training data is needed — that is, the car has to draw on millions of miles of driving data that Waymo has collected to form expectations about how other objects might move. It’s hard to get enough training data on the road, so the cars also train based on simulation data — but engineers have to be sure that their AI systems will generalize correctly from the simulation data to the real world.That’s far from a complete description of the systems at work when a self-driving car is on the road. But it illustrates an important principle to keep in mind when wondering where our self-driving cars are: Even the “easy” things turn out to hide surprising complexity.Self-driving cars rely on artificial intelligence to work. And the 2010s were a great decade for AI. We saw big advances in translation, speech generation, computer vision and object recognition, and game-playing. AI used to have a hard time identifying dogs in pictures; now that’s a trivial task.It’s this progress in AI that drove the optimistic predictions for self-driving cars in the mid-2010s. Researchers anticipated that we could build on the amazing gains they’d seen (and are still seeing) in other arenas. But when it came to self-driving cars, the limitations of those gains became very apparent. Even with extraordinary amounts of time, money, and effort invested, no team could figure out how to have AI solve a real-world problem: navigating our roads with the high degree of reliability needed.Much of the problem is the need for lots of training data. The ideal way to train a self-driving car would be to show it billions of hours of footage of real driving, and use that to teach the computer good driving behavior. Modern machine learning systems do really well when they have abundant data, and very poorly when they have only a little bit of it. But collecting data for self-driving cars is expensive. And since some events are rare — witnessing a car accident ahead, say, or encountering debris on the road — it’s possible for the car to be out of its depth because it has encountered a situation so infrequently in its training data.Carmakers have tried to get around this in lots of ways. They’ve driven more miles. They’ve trained the cars in simulations. They sometimes engineer specific situations so that they can get more training data about those situations for the cars. And they are getting closer. Waymo cars do roam the streets of Arizona with no one behind the wheel (a small pool of specially screened people can call them up like they would an Uber). If all goes well, they may expand to more cities later this year (more on this below). But it’s a hard problem, and progress has been slow.Companies continue to invest despite the setbacks because self-driving cars, when they happen, will change a lot for the world — and make their creators lots of money.Many consumers will want to upgrade. Imagine being able to read or doze off during your morning drive to work or on long car trips. It also seems likely that taxi and ride-hailing companies will offer self-driving cars, rather than paying drivers (in fact, companies like Uber are betting on it). Self-driving cars should also make a huge difference for Americans with disabilities, many of whom can’t get a driver’s license and have trouble getting to work, the store, and doctor’s appointments. Experts disagree on whether self-driving cars will change anything fundamental about car ownership in America. Some argue that people won’t need to own a car if they can order one on their phone and get a timely robot ride anywhere. Others have pointed out that people generally still own a car even in areas with good ride-share coverage and that self-driving cars might not be any different. Polls suggest that most Americans don’t want to be driven to work by a self-driving car — but that might change fast once such cars actually exist. Gallup polling on this question found a small share (9 percent) of Americans who’d get such a car right away, with a larger contingent (38 percent) saying they’d wait a while, and half holding steadfast that they’d never use one.Over time, our infrastructure will likely change to make it easier for self-driving cars to navigate, and in fact, some researchers have argued that we won’t have widespread self-driving cars until we’ve made major changes to our streets to make it easier to communicate information to those cars. That would be expensive and require nationwide coordination, so it seems likely that it would follow the widespread introduction of self-driving cars rather than precede it. Almost every major car manufacturer has at least tested the waters with self-driving car research. But some are much more serious about it than others. There are two core statistics useful for evaluating how advanced a self-driving car program is. One is how many miles it has driven. That’s a proxy for how much training data the company has, and how much investment it has poured into getting its cars on the road. The other is disengagements — moments when a human driver has to take over because the computer couldn’t handle a situation — per mile driven. Most companies don’t share these statistics, but the state of California requires that they be reported, and so California’s statistics are the best peek into how various companies are doing. On both fronts, Google’s sister company Waymo is the clear leader. Waymo just announced 20 million miles driven overall, most of those not in California. In 2018, Waymo drove 1.2 million miles in California, with 0.09 disengagements every 1,000 miles. Coming in second is General Motors’ Cruise, with about half a million miles and 0.19 disengagements per 1,000 miles. (Cruise argues that since it tests its cars on San Francisco’s difficult streets, these numbers are even more impressive than they look.) Those two companies are well ahead of everyone else in both miles driven and disengagements in the state of California. While that’s only a limited snapshot of their efforts, most experts consider them the leading programs in general.March 18, 2018, was the first time a self-driving car ran down a pedestrian. An Uber car with a safety driver behind the wheel hit and killed Elaine Herzberg, a 49-year-old woman walking her bicycle across the street in Tempe, Arizona. The incident was a reminder that self-driving car technology still had a long way to go. Some people were quick to point out that humans frequently kill other humans while driving, and that even if self-driving cars are much safer than humans, there will be some fatal incidents with self-driving cars. That’s true as far as it goes. But it misses a key point. Human driving produces one fatal accident in every 100 million miles driven. Waymo, the leader in miles driven, just reached 20 million miles driven. It hasn’t had a fatal accident yet, but given the number of miles its cars have driven, it’s simply far too soon to prove that they’re as safe as or safer than a human driver.Uber hasn’t driven nearly as many miles and has had a fatal incident. The company doesn’t release specific figures, but its filings for its IPO last year said that it had driven “millions” of miles. It’s hard to tell without specific numbers, but it’s fair to wonder if Uber’s driving record is much worse than a human’s. Furthermore, a review of Herzberg’s death suggests that a lot of preventable mistakes were made. The accident report by the National Transportation Safety Board, released in December 2019, found that the near-range cameras and the ultrasonic sensors “were not in use at the time of the crash.” Additionally, the system was having such a problem with false alarms — detecting dangerous situations when none existed — that it had been programmed with “a one-second period during which the ADS [automated driving system] suppresses planned braking while the (1) system verifies the nature of the detected hazard and calculates an alternative path, or (2) vehicle operator takes control of the vehicle,” according to the NTSB report. So even when the car detected the hazard, it didn’t brake — which could have made the collision avoidable or much less deadly — but instead continued with exactly what it was doing for a full second. The system was designed to assume that pedestrians would never cross except at a crosswalk, so when one did cross without using one, it failed to identify her. Even worse, when the system was unclear on whether an object was a bicycle (as it was with Herzberg), it was unable to retain any information about how the object was moving. The system sensed her presence six full seconds before the impact — and yet did nothing (except possibly braking in the last two-tenths of a second) before colliding with her at deadly speed.Those are avoidable failures.Uber pulled its cars off the road in response, returning to self-driving car trials a year later with a drastically changed program. “We’ve implemented key safety improvements from both safety reviews, shared our learnings with the larger self-driving industry, and accepted the NTSB’s recommendation to implement a Safety Management System, which is underway today,” Nat Beuse, Uber’s self-driving cars head of safety, told Vox in a statement in response to a request for comment. “As we look ahead to the future, we’ll continue to keep safety at the center of every decision we make.”Nonetheless, deadly accidents with self-driving cars will keep happening — and it’s not just Uber. A report from the National Transportation Safety Board implicated Tesla’s Autopilot system in another lethal 2018 accident; while the driver had his hands off the wheel, the car steered into a concrete divider and crashed, killing him. A full investigation hasn’t yet been conducted on three more recent deadly Tesla crashes. The problem, according to NTSB chairman Robert Sumwalt, is that drivers assume Autopilot lets them take their attention off the road, when they shouldn’t. That won’t be a problem with fully autonomous vehicles, but it’s a potentially major one now.As I’ve written before, getting good self-driving cars on the road can save hundreds of thousands of lives. But it takes a lot of engineering work to get the cars good enough to be lifesaving. Some advocates have argued that self-driving cars will be good for the environment. They claim they might reduce car trips by making car ownership unnecessary and transitioning society to a model where most people don’t own a car and just call for one when they need one.In addition, others have argued that human drivers drive in a wasteful way — braking hard, accelerating hard, idling the engine, all of which use up fuel — which a computer could avoid.But as self-driving cars have inched closer to reality, most of these claimed benefits have started to look less likely. There’s not much evidence that computers are dramatically more fuel-efficient drivers than humans. There’s one small study suggesting adaptive cruise control improves efficiency a little (5 to 7 percent), but there’s little else beyond that. Furthermore, researchers have examined the effects of more fuel-efficient cars on miles traveled and found that, under many circumstances, people drive more when cars get more fuel-efficient — so self-driving cars having higher fuel efficiency might not mean that they produce lower emissions. One study attempting to estimate the effects of self-driving cars on car use behavior simulated a family having a self-driving car by paying for them to have a chauffeur for a week, and telling them to treat the chauffeur service the way they’d treat having a car that could drive itself. The result? They went on a lot more car trips.It’s still possible that some big transition to a lower-driving world will happen. A study of one week of driving habits isn’t enough to settle the question for sure. The researchers who conducted that study are preparing future studies, and it’s possible those comparisons will turn up more encouraging results. The above few sections might inspire some pessimism, but there’s plenty of reason to be excited about self-driving cars. They will likely make life easier for older people and those with disabilities who cannot safely drive. They might provide better, safer, and cheaper options for people currently forced to own a car to get anywhere. Additional research and development will make them safer — and once the kinks are worked out, there is a likelihood that self-driving cars will be safer than human-driven ones.In a sense, we’re in an awkward transition moment where we want self-driving cars they aren’t yet an uncomplicated positive. Research and development is proceeding anyway, mostly because self-driving cars will probably be a gold mine for the first company to get them on the road. They’ll likely be able to establish themselves in ride-hailing, taxi, and trucking markets while competitors are still struggling to catch up, and then they’ll benefit from the additional miles traveled to further improve their cars. It’s not uncommon for a technology to be dangerous and barely worth it when it is first invented, only to eventually be refined into a valuable part of modern life. The first airplanes were dangerous and commercially useless, but we improved things dramatically from there.There is no federal law regarding self-driving cars. Much of the action on policy has largely taken place at the state level. And the laws surrounding self-driving cars vary enormously by state, with 29 states having passed legislation.Self-driving car development mostly happens in the states that have been friendliest to it — especially California and Arizona — and it’s easy to envision some states banning self-driving cars long after they become commonplace in other states, especially if the safety case for them isn’t a slam-dunk.When self-driving cars were first proposed, I heard a lot of worries that regulators would unnecessarily delay their implementation. By 2016, it was obvious that hadn’t come to pass. Indeed, in some cases regulators may have been too permissive — for example, in light of Uber pulling its cars and instituting new safety procedures, it seems the vehicle that killed Elaine Herzberg probably shouldn’t have been on the road at all.Policy might also shape whether self-driving cars are good or bad for the environment. With high taxes on gasoline, for example, the social costs of carbon emissions could be reflected in the price of using self-driving cars — and the money can be spent on climate adaptation and clean energy. But right now, our transportation policy doesn’t do much of anything about the social costs of driving, and that’s a problem that will only get worse if self-driving cars put more people on the road. In some senses, we’ve been “close” on self-driving cars for years now. Waymo is doing test runs with no one behind the wheel in Arizona, which it’s been doing since 2017. Cruise delayed the 2019 launch of its autonomous taxi service but thinks it might happen in 2020. Earlier this year, the company unveiled a car with no steering wheel ... and no timetable for when it’ll be available for sale. Tesla’s periodic software updates make its Autopilot highway self-driving work better, but it remains well short of full self-driving.There are certainly skeptics. Recently, the CEO of Volkswagen said that fully self-driving cars might “never happen.”That might be an overly harsh forecast, considering the progress that’s been made. But it is exasperatingly difficult to get a good estimate of how long until self-driving cars happen for real for the typical American, both because no one knows for sure and because companies have incentives to publicize optimistic estimates. The companies boast about their progress but don’t publish their mishaps. Timelines slip, and the change in plans is often publicly acknowledged only long after it’s become obvious that the deadline can’t be met. At the same time, companies hesitate to put their cars on the road when there’s any chance they aren’t ready. They are well aware that killing someone, as Uber did, is not only horrible but also probably spells doom for their business. So there’s ample incentive to say optimistic things and not actually launch.It’s not hard to imagine their arrival later this year, at least in sufficiently limited contexts; it’s also not hard to imagine that the deadlines will be pushed out another three or four years.Self-driving cars are on their way. They’re closer than they were a year ago. When they’ll actually get here is anyone’s guess.Sign up for the Future Perfect newsletter and we’ll send you a roundup of ideas and solutions for tackling the world’s biggest challenges — and how to get better at doing good.Each week, we explore unique solutions to some of the world's biggest problems.Check your inbox for a welcome email.Future Perfect is funded in part by individual contributions, grants, and sponsorships. Learn more here.Will you support Vox’s explanatory journalism? Millions turn to Vox to understand what’s happening in the news. Our mission has never been more vital than it is in this moment: to empower through understanding. Financial contributions from our readers are a critical part of supporting our resource-intensive work and help us keep our journalism free for all. Please consider making a contribution to Vox today from as little as $3.   \""
      ]
     },
     "execution_count": 46,
     "metadata": {},
     "output_type": "execute_result"
    }
   ],
   "source": [
    "df.loc[2]['Content_Parsed_1']"
   ]
  },
  {
   "cell_type": "code",
   "execution_count": 47,
   "metadata": {
    "colab": {
     "base_uri": "https://localhost:8080/",
     "height": 139
    },
    "id": "rrAIpMMxCRnH",
    "outputId": "20d2d2b8-9bf6-4007-8e45-765894449f20"
   },
   "outputs": [
    {
     "data": {
      "text/plain": [
       "\"in the age of ai advances, self-driving cars turned out to be harder than people expected. finding the best ways to do good. when it comes to self-driving cars, the future was supposed to be now. in 2020, you’ll be a “permanent backseat driver,” the guardian predicted in 2015. “10 million self-driving cars will be on the road by 2020,” blared a business insider headline from 2016. those declarations were accompanied by announcements from general motors, google’s waymo, toyota, and honda that they’d be making self-driving cars by 2020. elon musk forecast that tesla would do it by 2018 — and then, when that failed, by 2020. but the year is here — and the self-driving cars aren’t. despite extraordinary efforts from many of the leading names in tech and in automaking, fully autonomous cars are still out of reach except in special trial programs. you can buy a car that will automatically brake for you when it anticipates a collision, or one that helps keep you in your lane, or even a tesla model s (which — disclosure — my partner and i own) whose autopilot mostly handles highway driving. but almost every one of the above predictions has been rolled back as the engineering teams at those companies struggle to make self-driving cars work properly. what happened? here are nine questions you might have had about this long-promised technology, and why the future we were promised still hasn’t arrived.engineers have been attempting prototypes of self-driving cars for decades. the idea behind it is really simple: outfit a car with cameras that can track all the objects around it and have the car react if it’s about to steer into one. teach in-car computers the rules of the road and set them loose to navigate to their own destination. this simple description elides a whole lot of complexity. driving is one of the more complicated activities humans routinely do. following a list of rules of the road isn’t enough to drive as well as a human does, because we do things like make eye contact with others to confirm who has the right of way, react to weather conditions, and otherwise make judgment calls that are difficult to encode in hard-and-fast rules.and even the simple parts of driving — like tracking the objects around a car on the road — are actually much trickier than they sound. take google’s sister company waymo, the industry leader in self-driving cars. waymo’s cars, which are fairly typical of other self-driving cars, use high-resolution cameras and lidar (light detection and ranging), a way of estimating distances to objects by bouncing light and sound off things.the car’s computers combine all of this to build a picture of where other cars, cyclists, pedestrians, and obstacles are and where they’re moving. for this part, lots of training data is needed — that is, the car has to draw on millions of miles of driving data that waymo has collected to form expectations about how other objects might move. it’s hard to get enough training data on the road, so the cars also train based on simulation data — but engineers have to be sure that their ai systems will generalize correctly from the simulation data to the real world.that’s far from a complete description of the systems at work when a self-driving car is on the road. but it illustrates an important principle to keep in mind when wondering where our self-driving cars are: even the “easy” things turn out to hide surprising complexity.self-driving cars rely on artificial intelligence to work. and the 2010s were a great decade for ai. we saw big advances in translation, speech generation, computer vision and object recognition, and game-playing. ai used to have a hard time identifying dogs in pictures; now that’s a trivial task.it’s this progress in ai that drove the optimistic predictions for self-driving cars in the mid-2010s. researchers anticipated that we could build on the amazing gains they’d seen (and are still seeing) in other arenas. but when it came to self-driving cars, the limitations of those gains became very apparent. even with extraordinary amounts of time, money, and effort invested, no team could figure out how to have ai solve a real-world problem: navigating our roads with the high degree of reliability needed.much of the problem is the need for lots of training data. the ideal way to train a self-driving car would be to show it billions of hours of footage of real driving, and use that to teach the computer good driving behavior. modern machine learning systems do really well when they have abundant data, and very poorly when they have only a little bit of it. but collecting data for self-driving cars is expensive. and since some events are rare — witnessing a car accident ahead, say, or encountering debris on the road — it’s possible for the car to be out of its depth because it has encountered a situation so infrequently in its training data.carmakers have tried to get around this in lots of ways. they’ve driven more miles. they’ve trained the cars in simulations. they sometimes engineer specific situations so that they can get more training data about those situations for the cars. and they are getting closer. waymo cars do roam the streets of arizona with no one behind the wheel (a small pool of specially screened people can call them up like they would an uber). if all goes well, they may expand to more cities later this year (more on this below). but it’s a hard problem, and progress has been slow.companies continue to invest despite the setbacks because self-driving cars, when they happen, will change a lot for the world — and make their creators lots of money.many consumers will want to upgrade. imagine being able to read or doze off during your morning drive to work or on long car trips. it also seems likely that taxi and ride-hailing companies will offer self-driving cars, rather than paying drivers (in fact, companies like uber are betting on it). self-driving cars should also make a huge difference for americans with disabilities, many of whom can’t get a driver’s license and have trouble getting to work, the store, and doctor’s appointments. experts disagree on whether self-driving cars will change anything fundamental about car ownership in america. some argue that people won’t need to own a car if they can order one on their phone and get a timely robot ride anywhere. others have pointed out that people generally still own a car even in areas with good ride-share coverage and that self-driving cars might not be any different. polls suggest that most americans don’t want to be driven to work by a self-driving car — but that might change fast once such cars actually exist. gallup polling on this question found a small share (9 percent) of americans who’d get such a car right away, with a larger contingent (38 percent) saying they’d wait a while, and half holding steadfast that they’d never use one.over time, our infrastructure will likely change to make it easier for self-driving cars to navigate, and in fact, some researchers have argued that we won’t have widespread self-driving cars until we’ve made major changes to our streets to make it easier to communicate information to those cars. that would be expensive and require nationwide coordination, so it seems likely that it would follow the widespread introduction of self-driving cars rather than precede it. almost every major car manufacturer has at least tested the waters with self-driving car research. but some are much more serious about it than others. there are two core statistics useful for evaluating how advanced a self-driving car program is. one is how many miles it has driven. that’s a proxy for how much training data the company has, and how much investment it has poured into getting its cars on the road. the other is disengagements — moments when a human driver has to take over because the computer couldn’t handle a situation — per mile driven. most companies don’t share these statistics, but the state of california requires that they be reported, and so california’s statistics are the best peek into how various companies are doing. on both fronts, google’s sister company waymo is the clear leader. waymo just announced 20 million miles driven overall, most of those not in california. in 2018, waymo drove 1.2 million miles in california, with 0.09 disengagements every 1,000 miles. coming in second is general motors’ cruise, with about half a million miles and 0.19 disengagements per 1,000 miles. (cruise argues that since it tests its cars on san francisco’s difficult streets, these numbers are even more impressive than they look.) those two companies are well ahead of everyone else in both miles driven and disengagements in the state of california. while that’s only a limited snapshot of their efforts, most experts consider them the leading programs in general.march 18, 2018, was the first time a self-driving car ran down a pedestrian. an uber car with a safety driver behind the wheel hit and killed elaine herzberg, a 49-year-old woman walking her bicycle across the street in tempe, arizona. the incident was a reminder that self-driving car technology still had a long way to go. some people were quick to point out that humans frequently kill other humans while driving, and that even if self-driving cars are much safer than humans, there will be some fatal incidents with self-driving cars. that’s true as far as it goes. but it misses a key point. human driving produces one fatal accident in every 100 million miles driven. waymo, the leader in miles driven, just reached 20 million miles driven. it hasn’t had a fatal accident yet, but given the number of miles its cars have driven, it’s simply far too soon to prove that they’re as safe as or safer than a human driver.uber hasn’t driven nearly as many miles and has had a fatal incident. the company doesn’t release specific figures, but its filings for its ipo last year said that it had driven “millions” of miles. it’s hard to tell without specific numbers, but it’s fair to wonder if uber’s driving record is much worse than a human’s. furthermore, a review of herzberg’s death suggests that a lot of preventable mistakes were made. the accident report by the national transportation safety board, released in december 2019, found that the near-range cameras and the ultrasonic sensors “were not in use at the time of the crash.” additionally, the system was having such a problem with false alarms — detecting dangerous situations when none existed — that it had been programmed with “a one-second period during which the ads [automated driving system] suppresses planned braking while the (1) system verifies the nature of the detected hazard and calculates an alternative path, or (2) vehicle operator takes control of the vehicle,” according to the ntsb report. so even when the car detected the hazard, it didn’t brake — which could have made the collision avoidable or much less deadly — but instead continued with exactly what it was doing for a full second. the system was designed to assume that pedestrians would never cross except at a crosswalk, so when one did cross without using one, it failed to identify her. even worse, when the system was unclear on whether an object was a bicycle (as it was with herzberg), it was unable to retain any information about how the object was moving. the system sensed her presence six full seconds before the impact — and yet did nothing (except possibly braking in the last two-tenths of a second) before colliding with her at deadly speed.those are avoidable failures.uber pulled its cars off the road in response, returning to self-driving car trials a year later with a drastically changed program. “we’ve implemented key safety improvements from both safety reviews, shared our learnings with the larger self-driving industry, and accepted the ntsb’s recommendation to implement a safety management system, which is underway today,” nat beuse, uber’s self-driving cars head of safety, told vox in a statement in response to a request for comment. “as we look ahead to the future, we’ll continue to keep safety at the center of every decision we make.”nonetheless, deadly accidents with self-driving cars will keep happening — and it’s not just uber. a report from the national transportation safety board implicated tesla’s autopilot system in another lethal 2018 accident; while the driver had his hands off the wheel, the car steered into a concrete divider and crashed, killing him. a full investigation hasn’t yet been conducted on three more recent deadly tesla crashes. the problem, according to ntsb chairman robert sumwalt, is that drivers assume autopilot lets them take their attention off the road, when they shouldn’t. that won’t be a problem with fully autonomous vehicles, but it’s a potentially major one now.as i’ve written before, getting good self-driving cars on the road can save hundreds of thousands of lives. but it takes a lot of engineering work to get the cars good enough to be lifesaving. some advocates have argued that self-driving cars will be good for the environment. they claim they might reduce car trips by making car ownership unnecessary and transitioning society to a model where most people don’t own a car and just call for one when they need one.in addition, others have argued that human drivers drive in a wasteful way — braking hard, accelerating hard, idling the engine, all of which use up fuel — which a computer could avoid.but as self-driving cars have inched closer to reality, most of these claimed benefits have started to look less likely. there’s not much evidence that computers are dramatically more fuel-efficient drivers than humans. there’s one small study suggesting adaptive cruise control improves efficiency a little (5 to 7 percent), but there’s little else beyond that. furthermore, researchers have examined the effects of more fuel-efficient cars on miles traveled and found that, under many circumstances, people drive more when cars get more fuel-efficient — so self-driving cars having higher fuel efficiency might not mean that they produce lower emissions. one study attempting to estimate the effects of self-driving cars on car use behavior simulated a family having a self-driving car by paying for them to have a chauffeur for a week, and telling them to treat the chauffeur service the way they’d treat having a car that could drive itself. the result? they went on a lot more car trips.it’s still possible that some big transition to a lower-driving world will happen. a study of one week of driving habits isn’t enough to settle the question for sure. the researchers who conducted that study are preparing future studies, and it’s possible those comparisons will turn up more encouraging results. the above few sections might inspire some pessimism, but there’s plenty of reason to be excited about self-driving cars. they will likely make life easier for older people and those with disabilities who cannot safely drive. they might provide better, safer, and cheaper options for people currently forced to own a car to get anywhere. additional research and development will make them safer — and once the kinks are worked out, there is a likelihood that self-driving cars will be safer than human-driven ones.in a sense, we’re in an awkward transition moment where we want self-driving cars they aren’t yet an uncomplicated positive. research and development is proceeding anyway, mostly because self-driving cars will probably be a gold mine for the first company to get them on the road. they’ll likely be able to establish themselves in ride-hailing, taxi, and trucking markets while competitors are still struggling to catch up, and then they’ll benefit from the additional miles traveled to further improve their cars. it’s not uncommon for a technology to be dangerous and barely worth it when it is first invented, only to eventually be refined into a valuable part of modern life. the first airplanes were dangerous and commercially useless, but we improved things dramatically from there.there is no federal law regarding self-driving cars. much of the action on policy has largely taken place at the state level. and the laws surrounding self-driving cars vary enormously by state, with 29 states having passed legislation.self-driving car development mostly happens in the states that have been friendliest to it — especially california and arizona — and it’s easy to envision some states banning self-driving cars long after they become commonplace in other states, especially if the safety case for them isn’t a slam-dunk.when self-driving cars were first proposed, i heard a lot of worries that regulators would unnecessarily delay their implementation. by 2016, it was obvious that hadn’t come to pass. indeed, in some cases regulators may have been too permissive — for example, in light of uber pulling its cars and instituting new safety procedures, it seems the vehicle that killed elaine herzberg probably shouldn’t have been on the road at all.policy might also shape whether self-driving cars are good or bad for the environment. with high taxes on gasoline, for example, the social costs of carbon emissions could be reflected in the price of using self-driving cars — and the money can be spent on climate adaptation and clean energy. but right now, our transportation policy doesn’t do much of anything about the social costs of driving, and that’s a problem that will only get worse if self-driving cars put more people on the road. in some senses, we’ve been “close” on self-driving cars for years now. waymo is doing test runs with no one behind the wheel in arizona, which it’s been doing since 2017. cruise delayed the 2019 launch of its autonomous taxi service but thinks it might happen in 2020. earlier this year, the company unveiled a car with no steering wheel ... and no timetable for when it’ll be available for sale. tesla’s periodic software updates make its autopilot highway self-driving work better, but it remains well short of full self-driving.there are certainly skeptics. recently, the ceo of volkswagen said that fully self-driving cars might “never happen.”that might be an overly harsh forecast, considering the progress that’s been made. but it is exasperatingly difficult to get a good estimate of how long until self-driving cars happen for real for the typical american, both because no one knows for sure and because companies have incentives to publicize optimistic estimates. the companies boast about their progress but don’t publish their mishaps. timelines slip, and the change in plans is often publicly acknowledged only long after it’s become obvious that the deadline can’t be met. at the same time, companies hesitate to put their cars on the road when there’s any chance they aren’t ready. they are well aware that killing someone, as uber did, is not only horrible but also probably spells doom for their business. so there’s ample incentive to say optimistic things and not actually launch.it’s not hard to imagine their arrival later this year, at least in sufficiently limited contexts; it’s also not hard to imagine that the deadlines will be pushed out another three or four years.self-driving cars are on their way. they’re closer than they were a year ago. when they’ll actually get here is anyone’s guess.sign up for the future perfect newsletter and we’ll send you a roundup of ideas and solutions for tackling the world’s biggest challenges — and how to get better at doing good.each week, we explore unique solutions to some of the world's biggest problems.check your inbox for a welcome email.future perfect is funded in part by individual contributions, grants, and sponsorships. learn more here.will you support vox’s explanatory journalism? millions turn to vox to understand what’s happening in the news. our mission has never been more vital than it is in this moment: to empower through understanding. financial contributions from our readers are a critical part of supporting our resource-intensive work and help us keep our journalism free for all. please consider making a contribution to vox today from as little as $3.   \""
      ]
     },
     "execution_count": 47,
     "metadata": {},
     "output_type": "execute_result"
    }
   ],
   "source": [
    "df.loc[2]['Content_Parsed_2']"
   ]
  },
  {
   "cell_type": "code",
   "execution_count": 48,
   "metadata": {
    "colab": {
     "base_uri": "https://localhost:8080/",
     "height": 139
    },
    "id": "_QWhWZGMCTN5",
    "outputId": "75e2e182-973f-4c12-8a0e-d69997521906"
   },
   "outputs": [
    {
     "data": {
      "text/plain": [
       "\"in the age of ai advances self-driving cars turned out to be harder than people expected finding the best ways to do good when it comes to self-driving cars the future was supposed to be now in 2020 you’ll be a “permanent backseat driver” the guardian predicted in 2015 “10 million self-driving cars will be on the road by 2020” blared a business insider headline from 2016 those declarations were accompanied by announcements from general motors google’s waymo toyota and honda that they’d be making self-driving cars by 2020 elon musk forecast that tesla would do it by 2018 — and then when that failed by 2020 but the year is here — and the self-driving cars aren’t despite extraordinary efforts from many of the leading names in tech and in automaking fully autonomous cars are still out of reach except in special trial programs you can buy a car that will automatically brake for you when it anticipates a collision or one that helps keep you in your lane or even a tesla model s (which — disclosure — my partner and i own) whose autopilot mostly handles highway driving but almost every one of the above predictions has been rolled back as the engineering teams at those companies struggle to make self-driving cars work properly what happened here are nine questions you might have had about this long-promised technology and why the future we were promised still hasn’t arrivedengineers have been attempting prototypes of self-driving cars for decades the idea behind it is really simple outfit a car with cameras that can track all the objects around it and have the car react if it’s about to steer into one teach in-car computers the rules of the road and set them loose to navigate to their own destination this simple description elides a whole lot of complexity driving is one of the more complicated activities humans routinely do following a list of rules of the road isn’t enough to drive as well as a human does because we do things like make eye contact with others to confirm who has the right of way react to weather conditions and otherwise make judgment calls that are difficult to encode in hard-and-fast rulesand even the simple parts of driving — like tracking the objects around a car on the road — are actually much trickier than they sound take google’s sister company waymo the industry leader in self-driving cars waymo’s cars which are fairly typical of other self-driving cars use high-resolution cameras and lidar (light detection and ranging) a way of estimating distances to objects by bouncing light and sound off thingsthe car’s computers combine all of this to build a picture of where other cars cyclists pedestrians and obstacles are and where they’re moving for this part lots of training data is needed — that is the car has to draw on millions of miles of driving data that waymo has collected to form expectations about how other objects might move it’s hard to get enough training data on the road so the cars also train based on simulation data — but engineers have to be sure that their ai systems will generalize correctly from the simulation data to the real worldthat’s far from a complete description of the systems at work when a self-driving car is on the road but it illustrates an important principle to keep in mind when wondering where our self-driving cars are even the “easy” things turn out to hide surprising complexityself-driving cars rely on artificial intelligence to work and the 2010s were a great decade for ai we saw big advances in translation speech generation computer vision and object recognition and game-playing ai used to have a hard time identifying dogs in pictures now that’s a trivial taskit’s this progress in ai that drove the optimistic predictions for self-driving cars in the mid-2010s researchers anticipated that we could build on the amazing gains they’d seen (and are still seeing) in other arenas but when it came to self-driving cars the limitations of those gains became very apparent even with extraordinary amounts of time money and effort invested no team could figure out how to have ai solve a real-world problem navigating our roads with the high degree of reliability neededmuch of the problem is the need for lots of training data the ideal way to train a self-driving car would be to show it billions of hours of footage of real driving and use that to teach the computer good driving behavior modern machine learning systems do really well when they have abundant data and very poorly when they have only a little bit of it but collecting data for self-driving cars is expensive and since some events are rare — witnessing a car accident ahead say or encountering debris on the road — it’s possible for the car to be out of its depth because it has encountered a situation so infrequently in its training datacarmakers have tried to get around this in lots of ways they’ve driven more miles they’ve trained the cars in simulations they sometimes engineer specific situations so that they can get more training data about those situations for the cars and they are getting closer waymo cars do roam the streets of arizona with no one behind the wheel (a small pool of specially screened people can call them up like they would an uber) if all goes well they may expand to more cities later this year (more on this below) but it’s a hard problem and progress has been slowcompanies continue to invest despite the setbacks because self-driving cars when they happen will change a lot for the world — and make their creators lots of moneymany consumers will want to upgrade imagine being able to read or doze off during your morning drive to work or on long car trips it also seems likely that taxi and ride-hailing companies will offer self-driving cars rather than paying drivers (in fact companies like uber are betting on it) self-driving cars should also make a huge difference for americans with disabilities many of whom can’t get a driver’s license and have trouble getting to work the store and doctor’s appointments experts disagree on whether self-driving cars will change anything fundamental about car ownership in america some argue that people won’t need to own a car if they can order one on their phone and get a timely robot ride anywhere others have pointed out that people generally still own a car even in areas with good ride-share coverage and that self-driving cars might not be any different polls suggest that most americans don’t want to be driven to work by a self-driving car — but that might change fast once such cars actually exist gallup polling on this question found a small share (9 percent) of americans who’d get such a car right away with a larger contingent (38 percent) saying they’d wait a while and half holding steadfast that they’d never use oneover time our infrastructure will likely change to make it easier for self-driving cars to navigate and in fact some researchers have argued that we won’t have widespread self-driving cars until we’ve made major changes to our streets to make it easier to communicate information to those cars that would be expensive and require nationwide coordination so it seems likely that it would follow the widespread introduction of self-driving cars rather than precede it almost every major car manufacturer has at least tested the waters with self-driving car research but some are much more serious about it than others there are two core statistics useful for evaluating how advanced a self-driving car program is one is how many miles it has driven that’s a proxy for how much training data the company has and how much investment it has poured into getting its cars on the road the other is disengagements — moments when a human driver has to take over because the computer couldn’t handle a situation — per mile driven most companies don’t share these statistics but the state of california requires that they be reported and so california’s statistics are the best peek into how various companies are doing on both fronts google’s sister company waymo is the clear leader waymo just announced 20 million miles driven overall most of those not in california in 2018 waymo drove 12 million miles in california with 009 disengagements every 1000 miles coming in second is general motors’ cruise with about half a million miles and 019 disengagements per 1000 miles (cruise argues that since it tests its cars on san francisco’s difficult streets these numbers are even more impressive than they look) those two companies are well ahead of everyone else in both miles driven and disengagements in the state of california while that’s only a limited snapshot of their efforts most experts consider them the leading programs in generalmarch 18 2018 was the first time a self-driving car ran down a pedestrian an uber car with a safety driver behind the wheel hit and killed elaine herzberg a 49-year-old woman walking her bicycle across the street in tempe arizona the incident was a reminder that self-driving car technology still had a long way to go some people were quick to point out that humans frequently kill other humans while driving and that even if self-driving cars are much safer than humans there will be some fatal incidents with self-driving cars that’s true as far as it goes but it misses a key point human driving produces one fatal accident in every 100 million miles driven waymo the leader in miles driven just reached 20 million miles driven it hasn’t had a fatal accident yet but given the number of miles its cars have driven it’s simply far too soon to prove that they’re as safe as or safer than a human driveruber hasn’t driven nearly as many miles and has had a fatal incident the company doesn’t release specific figures but its filings for its ipo last year said that it had driven “millions” of miles it’s hard to tell without specific numbers but it’s fair to wonder if uber’s driving record is much worse than a human’s furthermore a review of herzberg’s death suggests that a lot of preventable mistakes were made the accident report by the national transportation safety board released in december 2019 found that the near-range cameras and the ultrasonic sensors “were not in use at the time of the crash” additionally the system was having such a problem with false alarms — detecting dangerous situations when none existed — that it had been programmed with “a one-second period during which the ads [automated driving system] suppresses planned braking while the (1) system verifies the nature of the detected hazard and calculates an alternative path or (2) vehicle operator takes control of the vehicle” according to the ntsb report so even when the car detected the hazard it didn’t brake — which could have made the collision avoidable or much less deadly — but instead continued with exactly what it was doing for a full second the system was designed to assume that pedestrians would never cross except at a crosswalk so when one did cross without using one it failed to identify her even worse when the system was unclear on whether an object was a bicycle (as it was with herzberg) it was unable to retain any information about how the object was moving the system sensed her presence six full seconds before the impact — and yet did nothing (except possibly braking in the last two-tenths of a second) before colliding with her at deadly speedthose are avoidable failuresuber pulled its cars off the road in response returning to self-driving car trials a year later with a drastically changed program “we’ve implemented key safety improvements from both safety reviews shared our learnings with the larger self-driving industry and accepted the ntsb’s recommendation to implement a safety management system which is underway today” nat beuse uber’s self-driving cars head of safety told vox in a statement in response to a request for comment “as we look ahead to the future we’ll continue to keep safety at the center of every decision we make”nonetheless deadly accidents with self-driving cars will keep happening — and it’s not just uber a report from the national transportation safety board implicated tesla’s autopilot system in another lethal 2018 accident while the driver had his hands off the wheel the car steered into a concrete divider and crashed killing him a full investigation hasn’t yet been conducted on three more recent deadly tesla crashes the problem according to ntsb chairman robert sumwalt is that drivers assume autopilot lets them take their attention off the road when they shouldn’t that won’t be a problem with fully autonomous vehicles but it’s a potentially major one nowas i’ve written before getting good self-driving cars on the road can save hundreds of thousands of lives but it takes a lot of engineering work to get the cars good enough to be lifesaving some advocates have argued that self-driving cars will be good for the environment they claim they might reduce car trips by making car ownership unnecessary and transitioning society to a model where most people don’t own a car and just call for one when they need onein addition others have argued that human drivers drive in a wasteful way — braking hard accelerating hard idling the engine all of which use up fuel — which a computer could avoidbut as self-driving cars have inched closer to reality most of these claimed benefits have started to look less likely there’s not much evidence that computers are dramatically more fuel-efficient drivers than humans there’s one small study suggesting adaptive cruise control improves efficiency a little (5 to 7 percent) but there’s little else beyond that furthermore researchers have examined the effects of more fuel-efficient cars on miles traveled and found that under many circumstances people drive more when cars get more fuel-efficient — so self-driving cars having higher fuel efficiency might not mean that they produce lower emissions one study attempting to estimate the effects of self-driving cars on car use behavior simulated a family having a self-driving car by paying for them to have a chauffeur for a week and telling them to treat the chauffeur service the way they’d treat having a car that could drive itself the result they went on a lot more car tripsit’s still possible that some big transition to a lower-driving world will happen a study of one week of driving habits isn’t enough to settle the question for sure the researchers who conducted that study are preparing future studies and it’s possible those comparisons will turn up more encouraging results the above few sections might inspire some pessimism but there’s plenty of reason to be excited about self-driving cars they will likely make life easier for older people and those with disabilities who cannot safely drive they might provide better safer and cheaper options for people currently forced to own a car to get anywhere additional research and development will make them safer — and once the kinks are worked out there is a likelihood that self-driving cars will be safer than human-driven onesin a sense we’re in an awkward transition moment where we want self-driving cars they aren’t yet an uncomplicated positive research and development is proceeding anyway mostly because self-driving cars will probably be a gold mine for the first company to get them on the road they’ll likely be able to establish themselves in ride-hailing taxi and trucking markets while competitors are still struggling to catch up and then they’ll benefit from the additional miles traveled to further improve their cars it’s not uncommon for a technology to be dangerous and barely worth it when it is first invented only to eventually be refined into a valuable part of modern life the first airplanes were dangerous and commercially useless but we improved things dramatically from therethere is no federal law regarding self-driving cars much of the action on policy has largely taken place at the state level and the laws surrounding self-driving cars vary enormously by state with 29 states having passed legislationself-driving car development mostly happens in the states that have been friendliest to it — especially california and arizona — and it’s easy to envision some states banning self-driving cars long after they become commonplace in other states especially if the safety case for them isn’t a slam-dunkwhen self-driving cars were first proposed i heard a lot of worries that regulators would unnecessarily delay their implementation by 2016 it was obvious that hadn’t come to pass indeed in some cases regulators may have been too permissive — for example in light of uber pulling its cars and instituting new safety procedures it seems the vehicle that killed elaine herzberg probably shouldn’t have been on the road at allpolicy might also shape whether self-driving cars are good or bad for the environment with high taxes on gasoline for example the social costs of carbon emissions could be reflected in the price of using self-driving cars — and the money can be spent on climate adaptation and clean energy but right now our transportation policy doesn’t do much of anything about the social costs of driving and that’s a problem that will only get worse if self-driving cars put more people on the road in some senses we’ve been “close” on self-driving cars for years now waymo is doing test runs with no one behind the wheel in arizona which it’s been doing since 2017 cruise delayed the 2019 launch of its autonomous taxi service but thinks it might happen in 2020 earlier this year the company unveiled a car with no steering wheel  and no timetable for when it’ll be available for sale tesla’s periodic software updates make its autopilot highway self-driving work better but it remains well short of full self-drivingthere are certainly skeptics recently the ceo of volkswagen said that fully self-driving cars might “never happen”that might be an overly harsh forecast considering the progress that’s been made but it is exasperatingly difficult to get a good estimate of how long until self-driving cars happen for real for the typical american both because no one knows for sure and because companies have incentives to publicize optimistic estimates the companies boast about their progress but don’t publish their mishaps timelines slip and the change in plans is often publicly acknowledged only long after it’s become obvious that the deadline can’t be met at the same time companies hesitate to put their cars on the road when there’s any chance they aren’t ready they are well aware that killing someone as uber did is not only horrible but also probably spells doom for their business so there’s ample incentive to say optimistic things and not actually launchit’s not hard to imagine their arrival later this year at least in sufficiently limited contexts it’s also not hard to imagine that the deadlines will be pushed out another three or four yearsself-driving cars are on their way they’re closer than they were a year ago when they’ll actually get here is anyone’s guesssign up for the future perfect newsletter and we’ll send you a roundup of ideas and solutions for tackling the world’s biggest challenges — and how to get better at doing goodeach week we explore unique solutions to some of the world's biggest problemscheck your inbox for a welcome emailfuture perfect is funded in part by individual contributions grants and sponsorships learn more herewill you support vox’s explanatory journalism millions turn to vox to understand what’s happening in the news our mission has never been more vital than it is in this moment to empower through understanding financial contributions from our readers are a critical part of supporting our resource-intensive work and help us keep our journalism free for all please consider making a contribution to vox today from as little as $3   \""
      ]
     },
     "execution_count": 48,
     "metadata": {},
     "output_type": "execute_result"
    }
   ],
   "source": [
    "df.loc[2]['Content_Parsed_3']"
   ]
  },
  {
   "cell_type": "code",
   "execution_count": 49,
   "metadata": {
    "colab": {
     "base_uri": "https://localhost:8080/",
     "height": 139
    },
    "id": "Bo59SeRoCV3e",
    "outputId": "84012fc2-627b-46df-88a0-1b718bc9b1d1"
   },
   "outputs": [
    {
     "data": {
      "text/plain": [
       "'in the age of ai advances self-driving cars turned out to be harder than people expected finding the best ways to do good when it comes to self-driving cars the future was supposed to be now in 2020 you’ll be a “permanent backseat driver” the guardian predicted in 2015 “10 million self-driving cars will be on the road by 2020” blared a business insider headline from 2016 those declarations were accompanied by announcements from general motors google’s waymo toyota and honda that they’d be making self-driving cars by 2020 elon musk forecast that tesla would do it by 2018 — and then when that failed by 2020 but the year is here — and the self-driving cars aren’t despite extraordinary efforts from many of the leading names in tech and in automaking fully autonomous cars are still out of reach except in special trial programs you can buy a car that will automatically brake for you when it anticipates a collision or one that helps keep you in your lane or even a tesla model s (which — disclosure — my partner and i own) whose autopilot mostly handles highway driving but almost every one of the above predictions has been rolled back as the engineering teams at those companies struggle to make self-driving cars work properly what happened here are nine questions you might have had about this long-promised technology and why the future we were promised still hasn’t arrivedengineers have been attempting prototypes of self-driving cars for decades the idea behind it is really simple outfit a car with cameras that can track all the objects around it and have the car react if it’s about to steer into one teach in-car computers the rules of the road and set them loose to navigate to their own destination this simple description elides a whole lot of complexity driving is one of the more complicated activities humans routinely do following a list of rules of the road isn’t enough to drive as well as a human does because we do things like make eye contact with others to confirm who has the right of way react to weather conditions and otherwise make judgment calls that are difficult to encode in hard-and-fast rulesand even the simple parts of driving — like tracking the objects around a car on the road — are actually much trickier than they sound take google’s sister company waymo the industry leader in self-driving cars waymo’s cars which are fairly typical of other self-driving cars use high-resolution cameras and lidar (light detection and ranging) a way of estimating distances to objects by bouncing light and sound off thingsthe car’s computers combine all of this to build a picture of where other cars cyclists pedestrians and obstacles are and where they’re moving for this part lots of training data is needed — that is the car has to draw on millions of miles of driving data that waymo has collected to form expectations about how other objects might move it’s hard to get enough training data on the road so the cars also train based on simulation data — but engineers have to be sure that their ai systems will generalize correctly from the simulation data to the real worldthat’s far from a complete description of the systems at work when a self-driving car is on the road but it illustrates an important principle to keep in mind when wondering where our self-driving cars are even the “easy” things turn out to hide surprising complexityself-driving cars rely on artificial intelligence to work and the 2010s were a great decade for ai we saw big advances in translation speech generation computer vision and object recognition and game-playing ai used to have a hard time identifying dogs in pictures now that’s a trivial taskit’s this progress in ai that drove the optimistic predictions for self-driving cars in the mid-2010s researchers anticipated that we could build on the amazing gains they’d seen (and are still seeing) in other arenas but when it came to self-driving cars the limitations of those gains became very apparent even with extraordinary amounts of time money and effort invested no team could figure out how to have ai solve a real-world problem navigating our roads with the high degree of reliability neededmuch of the problem is the need for lots of training data the ideal way to train a self-driving car would be to show it billions of hours of footage of real driving and use that to teach the computer good driving behavior modern machine learning systems do really well when they have abundant data and very poorly when they have only a little bit of it but collecting data for self-driving cars is expensive and since some events are rare — witnessing a car accident ahead say or encountering debris on the road — it’s possible for the car to be out of its depth because it has encountered a situation so infrequently in its training datacarmakers have tried to get around this in lots of ways they’ve driven more miles they’ve trained the cars in simulations they sometimes engineer specific situations so that they can get more training data about those situations for the cars and they are getting closer waymo cars do roam the streets of arizona with no one behind the wheel (a small pool of specially screened people can call them up like they would an uber) if all goes well they may expand to more cities later this year (more on this below) but it’s a hard problem and progress has been slowcompanies continue to invest despite the setbacks because self-driving cars when they happen will change a lot for the world — and make their creators lots of moneymany consumers will want to upgrade imagine being able to read or doze off during your morning drive to work or on long car trips it also seems likely that taxi and ride-hailing companies will offer self-driving cars rather than paying drivers (in fact companies like uber are betting on it) self-driving cars should also make a huge difference for americans with disabilities many of whom can’t get a driver’s license and have trouble getting to work the store and doctor’s appointments experts disagree on whether self-driving cars will change anything fundamental about car ownership in america some argue that people won’t need to own a car if they can order one on their phone and get a timely robot ride anywhere others have pointed out that people generally still own a car even in areas with good ride-share coverage and that self-driving cars might not be any different polls suggest that most americans don’t want to be driven to work by a self-driving car — but that might change fast once such cars actually exist gallup polling on this question found a small share (9 percent) of americans who’d get such a car right away with a larger contingent (38 percent) saying they’d wait a while and half holding steadfast that they’d never use oneover time our infrastructure will likely change to make it easier for self-driving cars to navigate and in fact some researchers have argued that we won’t have widespread self-driving cars until we’ve made major changes to our streets to make it easier to communicate information to those cars that would be expensive and require nationwide coordination so it seems likely that it would follow the widespread introduction of self-driving cars rather than precede it almost every major car manufacturer has at least tested the waters with self-driving car research but some are much more serious about it than others there are two core statistics useful for evaluating how advanced a self-driving car program is one is how many miles it has driven that’s a proxy for how much training data the company has and how much investment it has poured into getting its cars on the road the other is disengagements — moments when a human driver has to take over because the computer couldn’t handle a situation — per mile driven most companies don’t share these statistics but the state of california requires that they be reported and so california’s statistics are the best peek into how various companies are doing on both fronts google’s sister company waymo is the clear leader waymo just announced 20 million miles driven overall most of those not in california in 2018 waymo drove 12 million miles in california with 009 disengagements every 1000 miles coming in second is general motors’ cruise with about half a million miles and 019 disengagements per 1000 miles (cruise argues that since it tests its cars on san francisco’s difficult streets these numbers are even more impressive than they look) those two companies are well ahead of everyone else in both miles driven and disengagements in the state of california while that’s only a limited snapshot of their efforts most experts consider them the leading programs in generalmarch 18 2018 was the first time a self-driving car ran down a pedestrian an uber car with a safety driver behind the wheel hit and killed elaine herzberg a 49-year-old woman walking her bicycle across the street in tempe arizona the incident was a reminder that self-driving car technology still had a long way to go some people were quick to point out that humans frequently kill other humans while driving and that even if self-driving cars are much safer than humans there will be some fatal incidents with self-driving cars that’s true as far as it goes but it misses a key point human driving produces one fatal accident in every 100 million miles driven waymo the leader in miles driven just reached 20 million miles driven it hasn’t had a fatal accident yet but given the number of miles its cars have driven it’s simply far too soon to prove that they’re as safe as or safer than a human driveruber hasn’t driven nearly as many miles and has had a fatal incident the company doesn’t release specific figures but its filings for its ipo last year said that it had driven “millions” of miles it’s hard to tell without specific numbers but it’s fair to wonder if uber’s driving record is much worse than a human’s furthermore a review of herzberg’s death suggests that a lot of preventable mistakes were made the accident report by the national transportation safety board released in december 2019 found that the near-range cameras and the ultrasonic sensors “were not in use at the time of the crash” additionally the system was having such a problem with false alarms — detecting dangerous situations when none existed — that it had been programmed with “a one-second period during which the ads [automated driving system] suppresses planned braking while the (1) system verifies the nature of the detected hazard and calculates an alternative path or (2) vehicle operator takes control of the vehicle” according to the ntsb report so even when the car detected the hazard it didn’t brake — which could have made the collision avoidable or much less deadly — but instead continued with exactly what it was doing for a full second the system was designed to assume that pedestrians would never cross except at a crosswalk so when one did cross without using one it failed to identify her even worse when the system was unclear on whether an object was a bicycle (as it was with herzberg) it was unable to retain any information about how the object was moving the system sensed her presence six full seconds before the impact — and yet did nothing (except possibly braking in the last two-tenths of a second) before colliding with her at deadly speedthose are avoidable failuresuber pulled its cars off the road in response returning to self-driving car trials a year later with a drastically changed program “we’ve implemented key safety improvements from both safety reviews shared our learnings with the larger self-driving industry and accepted the ntsb’s recommendation to implement a safety management system which is underway today” nat beuse uber’s self-driving cars head of safety told vox in a statement in response to a request for comment “as we look ahead to the future we’ll continue to keep safety at the center of every decision we make”nonetheless deadly accidents with self-driving cars will keep happening — and it’s not just uber a report from the national transportation safety board implicated tesla’s autopilot system in another lethal 2018 accident while the driver had his hands off the wheel the car steered into a concrete divider and crashed killing him a full investigation hasn’t yet been conducted on three more recent deadly tesla crashes the problem according to ntsb chairman robert sumwalt is that drivers assume autopilot lets them take their attention off the road when they shouldn’t that won’t be a problem with fully autonomous vehicles but it’s a potentially major one nowas i’ve written before getting good self-driving cars on the road can save hundreds of thousands of lives but it takes a lot of engineering work to get the cars good enough to be lifesaving some advocates have argued that self-driving cars will be good for the environment they claim they might reduce car trips by making car ownership unnecessary and transitioning society to a model where most people don’t own a car and just call for one when they need onein addition others have argued that human drivers drive in a wasteful way — braking hard accelerating hard idling the engine all of which use up fuel — which a computer could avoidbut as self-driving cars have inched closer to reality most of these claimed benefits have started to look less likely there’s not much evidence that computers are dramatically more fuel-efficient drivers than humans there’s one small study suggesting adaptive cruise control improves efficiency a little (5 to 7 percent) but there’s little else beyond that furthermore researchers have examined the effects of more fuel-efficient cars on miles traveled and found that under many circumstances people drive more when cars get more fuel-efficient — so self-driving cars having higher fuel efficiency might not mean that they produce lower emissions one study attempting to estimate the effects of self-driving cars on car use behavior simulated a family having a self-driving car by paying for them to have a chauffeur for a week and telling them to treat the chauffeur service the way they’d treat having a car that could drive itself the result they went on a lot more car tripsit’s still possible that some big transition to a lower-driving world will happen a study of one week of driving habits isn’t enough to settle the question for sure the researchers who conducted that study are preparing future studies and it’s possible those comparisons will turn up more encouraging results the above few sections might inspire some pessimism but there’s plenty of reason to be excited about self-driving cars they will likely make life easier for older people and those with disabilities who cannot safely drive they might provide better safer and cheaper options for people currently forced to own a car to get anywhere additional research and development will make them safer — and once the kinks are worked out there is a likelihood that self-driving cars will be safer than human-driven onesin a sense we’re in an awkward transition moment where we want self-driving cars they aren’t yet an uncomplicated positive research and development is proceeding anyway mostly because self-driving cars will probably be a gold mine for the first company to get them on the road they’ll likely be able to establish themselves in ride-hailing taxi and trucking markets while competitors are still struggling to catch up and then they’ll benefit from the additional miles traveled to further improve their cars it’s not uncommon for a technology to be dangerous and barely worth it when it is first invented only to eventually be refined into a valuable part of modern life the first airplanes were dangerous and commercially useless but we improved things dramatically from therethere is no federal law regarding self-driving cars much of the action on policy has largely taken place at the state level and the laws surrounding self-driving cars vary enormously by state with 29 states having passed legislationself-driving car development mostly happens in the states that have been friendliest to it — especially california and arizona — and it’s easy to envision some states banning self-driving cars long after they become commonplace in other states especially if the safety case for them isn’t a slam-dunkwhen self-driving cars were first proposed i heard a lot of worries that regulators would unnecessarily delay their implementation by 2016 it was obvious that hadn’t come to pass indeed in some cases regulators may have been too permissive — for example in light of uber pulling its cars and instituting new safety procedures it seems the vehicle that killed elaine herzberg probably shouldn’t have been on the road at allpolicy might also shape whether self-driving cars are good or bad for the environment with high taxes on gasoline for example the social costs of carbon emissions could be reflected in the price of using self-driving cars — and the money can be spent on climate adaptation and clean energy but right now our transportation policy doesn’t do much of anything about the social costs of driving and that’s a problem that will only get worse if self-driving cars put more people on the road in some senses we’ve been “close” on self-driving cars for years now waymo is doing test runs with no one behind the wheel in arizona which it’s been doing since 2017 cruise delayed the 2019 launch of its autonomous taxi service but thinks it might happen in 2020 earlier this year the company unveiled a car with no steering wheel  and no timetable for when it’ll be available for sale tesla’s periodic software updates make its autopilot highway self-driving work better but it remains well short of full self-drivingthere are certainly skeptics recently the ceo of volkswagen said that fully self-driving cars might “never happen”that might be an overly harsh forecast considering the progress that’s been made but it is exasperatingly difficult to get a good estimate of how long until self-driving cars happen for real for the typical american both because no one knows for sure and because companies have incentives to publicize optimistic estimates the companies boast about their progress but don’t publish their mishaps timelines slip and the change in plans is often publicly acknowledged only long after it’s become obvious that the deadline can’t be met at the same time companies hesitate to put their cars on the road when there’s any chance they aren’t ready they are well aware that killing someone as uber did is not only horrible but also probably spells doom for their business so there’s ample incentive to say optimistic things and not actually launchit’s not hard to imagine their arrival later this year at least in sufficiently limited contexts it’s also not hard to imagine that the deadlines will be pushed out another three or four yearsself-driving cars are on their way they’re closer than they were a year ago when they’ll actually get here is anyone’s guesssign up for the future perfect newsletter and we’ll send you a roundup of ideas and solutions for tackling the world’s biggest challenges — and how to get better at doing goodeach week we explore unique solutions to some of the world biggest problemscheck your inbox for a welcome emailfuture perfect is funded in part by individual contributions grants and sponsorships learn more herewill you support vox’s explanatory journalism millions turn to vox to understand what’s happening in the news our mission has never been more vital than it is in this moment to empower through understanding financial contributions from our readers are a critical part of supporting our resource-intensive work and help us keep our journalism free for all please consider making a contribution to vox today from as little as $3   '"
      ]
     },
     "execution_count": 49,
     "metadata": {},
     "output_type": "execute_result"
    }
   ],
   "source": [
    "df.loc[2]['Content_Parsed_4']"
   ]
  },
  {
   "cell_type": "code",
   "execution_count": 50,
   "metadata": {
    "colab": {
     "base_uri": "https://localhost:8080/",
     "height": 139
    },
    "id": "YquYcv3ECZBt",
    "outputId": "244884d2-ebe1-413d-8e49-48658868177d"
   },
   "outputs": [
    {
     "data": {
      "text/plain": [
       "'in the age of ai advance self-driving cars turn out to be harder than people expect find the best ways to do good when it come to self-driving cars the future be suppose to be now in 2020 you’ll be a “permanent backseat driver” the guardian predict in 2015 “10 million self-driving cars will be on the road by 2020” blare a business insider headline from 2016 those declarations be accompany by announcements from general motor google’s waymo toyota and honda that they’d be make self-driving cars by 2020 elon musk forecast that tesla would do it by 2018 — and then when that fail by 2020 but the year be here — and the self-driving cars aren’t despite extraordinary efforts from many of the lead name in tech and in automaking fully autonomous cars be still out of reach except in special trial program you can buy a car that will automatically brake for you when it anticipate a collision or one that help keep you in your lane or even a tesla model s (which — disclosure — my partner and i own) whose autopilot mostly handle highway drive but almost every one of the above predictions have be roll back as the engineer team at those company struggle to make self-driving cars work properly what happen here be nine question you might have have about this long-promised technology and why the future we be promise still hasn’t arrivedengineers have be attempt prototypes of self-driving cars for decades the idea behind it be really simple outfit a car with cameras that can track all the object around it and have the car react if it’s about to steer into one teach in-car computers the rule of the road and set them loose to navigate to their own destination this simple description elide a whole lot of complexity drive be one of the more complicate activities humans routinely do follow a list of rule of the road isn’t enough to drive as well as a human do because we do things like make eye contact with others to confirm who have the right of way react to weather condition and otherwise make judgment call that be difficult to encode in hard-and-fast rulesand even the simple part of drive — like track the object around a car on the road — be actually much trickier than they sound take google’s sister company waymo the industry leader in self-driving cars waymo’s cars which be fairly typical of other self-driving cars use high-resolution cameras and lidar (light detection and ranging) a way of estimate distance to object by bounce light and sound off thingsthe car’s computers combine all of this to build a picture of where other cars cyclists pedestrians and obstacles be and where they’re move for this part lot of train data be need — that be the car have to draw on millions of miles of drive data that waymo have collect to form expectations about how other object might move it’s hard to get enough train data on the road so the cars also train base on simulation data — but engineer have to be sure that their ai systems will generalize correctly from the simulation data to the real worldthat’s far from a complete description of the systems at work when a self-driving car be on the road but it illustrate an important principle to keep in mind when wonder where our self-driving cars be even the “easy” things turn out to hide surprise complexityself-driving cars rely on artificial intelligence to work and the 2010s be a great decade for ai we saw big advance in translation speech generation computer vision and object recognition and game-playing ai use to have a hard time identify dog in picture now that’s a trivial taskit’s this progress in ai that drive the optimistic predictions for self-driving cars in the mid-2010s researchers anticipate that we could build on the amaze gain they’d see (and be still seeing) in other arenas but when it come to self-driving cars the limitations of those gain become very apparent even with extraordinary amount of time money and effort invest no team could figure out how to have ai solve a real-world problem navigate our roads with the high degree of reliability neededmuch of the problem be the need for lot of train data the ideal way to train a self-driving car would be to show it billions of hours of footage of real drive and use that to teach the computer good drive behavior modern machine learn systems do really well when they have abundant data and very poorly when they have only a little bite of it but collect data for self-driving cars be expensive and since some events be rare — witness a car accident ahead say or encounter debris on the road — it’s possible for the car to be out of its depth because it have encounter a situation so infrequently in its train datacarmakers have try to get around this in lot of ways they’ve drive more miles they’ve train the cars in simulations they sometimes engineer specific situations so that they can get more train data about those situations for the cars and they be get closer waymo cars do roam the streets of arizona with no one behind the wheel (a small pool of specially screen people can call them up like they would an uber) if all go well they may expand to more cities later this year (more on this below) but it’s a hard problem and progress have be slowcompanies continue to invest despite the setbacks because self-driving cars when they happen will change a lot for the world — and make their creators lot of moneymany consumers will want to upgrade imagine be able to read or doze off during your morning drive to work or on long car trip it also seem likely that taxi and ride-hailing company will offer self-driving cars rather than pay drivers (in fact company like uber be bet on it) self-driving cars should also make a huge difference for americans with disabilities many of whom can’t get a driver’s license and have trouble get to work the store and doctor’s appointments experts disagree on whether self-driving cars will change anything fundamental about car ownership in america some argue that people won’t need to own a car if they can order one on their phone and get a timely robot ride anywhere others have point out that people generally still own a car even in areas with good ride-share coverage and that self-driving cars might not be any different poll suggest that most americans don’t want to be drive to work by a self-driving car — but that might change fast once such cars actually exist gallup poll on this question find a small share (9 percent) of americans who’d get such a car right away with a larger contingent (38 percent) say they’d wait a while and half hold steadfast that they’d never use oneover time our infrastructure will likely change to make it easier for self-driving cars to navigate and in fact some researchers have argue that we won’t have widespread self-driving cars until we’ve make major change to our streets to make it easier to communicate information to those cars that would be expensive and require nationwide coordination so it seem likely that it would follow the widespread introduction of self-driving cars rather than precede it almost every major car manufacturer have at least test the water with self-driving car research but some be much more serious about it than others there be two core statistics useful for evaluate how advance a self-driving car program be one be how many miles it have drive that’s a proxy for how much train data the company have and how much investment it have pour into get its cars on the road the other be disengagements — moments when a human driver have to take over because the computer couldn’t handle a situation — per mile drive most company don’t share these statistics but the state of california require that they be report and so california’s statistics be the best peek into how various company be do on both front google’s sister company waymo be the clear leader waymo just announce 20 million miles drive overall most of those not in california in 2018 waymo drive 12 million miles in california with 009 disengagements every 1000 miles come in second be general motors’ cruise with about half a million miles and 019 disengagements per 1000 miles (cruise argue that since it test its cars on san francisco’s difficult streets these number be even more impressive than they look) those two company be well ahead of everyone else in both miles drive and disengagements in the state of california while that’s only a limit snapshot of their efforts most experts consider them the lead program in generalmarch 18 2018 be the first time a self-driving car run down a pedestrian an uber car with a safety driver behind the wheel hit and kill elaine herzberg a 49-year-old woman walk her bicycle across the street in tempe arizona the incident be a reminder that self-driving car technology still have a long way to go some people be quick to point out that humans frequently kill other humans while drive and that even if self-driving cars be much safer than humans there will be some fatal incidents with self-driving cars that’s true as far as it go but it miss a key point human drive produce one fatal accident in every 100 million miles drive waymo the leader in miles drive just reach 20 million miles drive it hasn’t have a fatal accident yet but give the number of miles its cars have drive it’s simply far too soon to prove that they’re as safe as or safer than a human driveruber hasn’t drive nearly as many miles and have have a fatal incident the company doesn’t release specific figure but its file for its ipo last year say that it have drive “millions” of miles it’s hard to tell without specific number but it’s fair to wonder if uber’s drive record be much worse than a human’s furthermore a review of herzberg’s death suggest that a lot of preventable mistake be make the accident report by the national transportation safety board release in december 2019 find that the near-range cameras and the ultrasonic sensors “were not in use at the time of the crash” additionally the system be have such a problem with false alarm — detect dangerous situations when none exist — that it have be program with “a one-second period during which the ads [automated drive system] suppress plan brake while the (1) system verify the nature of the detect hazard and calculate an alternative path or (2) vehicle operator take control of the vehicle” accord to the ntsb report so even when the car detect the hazard it didn’t brake — which could have make the collision avoidable or much less deadly — but instead continue with exactly what it be do for a full second the system be design to assume that pedestrians would never cross except at a crosswalk so when one do cross without use one it fail to identify her even worse when the system be unclear on whether an object be a bicycle (as it be with herzberg) it be unable to retain any information about how the object be move the system sense her presence six full second before the impact — and yet do nothing (except possibly brake in the last two-tenths of a second) before collide with her at deadly speedthose be avoidable failuresuber pull its cars off the road in response return to self-driving car trials a year later with a drastically change program “we’ve implement key safety improvements from both safety review share our learn with the larger self-driving industry and accept the ntsb’s recommendation to implement a safety management system which be underway today” nat beuse uber’s self-driving cars head of safety tell vox in a statement in response to a request for comment “as we look ahead to the future we’ll continue to keep safety at the center of every decision we make”nonetheless deadly accidents with self-driving cars will keep happen — and it’s not just uber a report from the national transportation safety board implicate tesla’s autopilot system in another lethal 2018 accident while the driver have his hand off the wheel the car steer into a concrete divider and crash kill him a full investigation hasn’t yet be conduct on three more recent deadly tesla crash the problem accord to ntsb chairman robert sumwalt be that drivers assume autopilot let them take their attention off the road when they shouldn’t that won’t be a problem with fully autonomous vehicles but it’s a potentially major one nowas i’ve write before get good self-driving cars on the road can save hundreds of thousands of live but it take a lot of engineer work to get the cars good enough to be lifesaving some advocate have argue that self-driving cars will be good for the environment they claim they might reduce car trip by make car ownership unnecessary and transition society to a model where most people don’t own a car and just call for one when they need onein addition others have argue that human drivers drive in a wasteful way — brake hard accelerate hard idle the engine all of which use up fuel — which a computer could avoidbut as self-driving cars have inch closer to reality most of these claim benefit have start to look less likely there’s not much evidence that computers be dramatically more fuel-efficient drivers than humans there’s one small study suggest adaptive cruise control improve efficiency a little (5 to 7 percent) but there’s little else beyond that furthermore researchers have examine the effect of more fuel-efficient cars on miles travel and find that under many circumstances people drive more when cars get more fuel-efficient — so self-driving cars have higher fuel efficiency might not mean that they produce lower emissions one study attempt to estimate the effect of self-driving cars on car use behavior simulate a family have a self-driving car by pay for them to have a chauffeur for a week and tell them to treat the chauffeur service the way they’d treat have a car that could drive itself the result they go on a lot more car tripsit’s still possible that some big transition to a lower-driving world will happen a study of one week of drive habit isn’t enough to settle the question for sure the researchers who conduct that study be prepare future study and it’s possible those comparisons will turn up more encourage result the above few section might inspire some pessimism but there’s plenty of reason to be excite about self-driving cars they will likely make life easier for older people and those with disabilities who cannot safely drive they might provide better safer and cheaper options for people currently force to own a car to get anywhere additional research and development will make them safer — and once the kink be work out there be a likelihood that self-driving cars will be safer than human-driven onesin a sense we’re in an awkward transition moment where we want self-driving cars they aren’t yet an uncomplicated positive research and development be proceed anyway mostly because self-driving cars will probably be a gold mine for the first company to get them on the road they’ll likely be able to establish themselves in ride-hailing taxi and truck market while competitors be still struggle to catch up and then they’ll benefit from the additional miles travel to further improve their cars it’s not uncommon for a technology to be dangerous and barely worth it when it be first invent only to eventually be refine into a valuable part of modern life the first airplanes be dangerous and commercially useless but we improve things dramatically from therethere be no federal law regard self-driving cars much of the action on policy have largely take place at the state level and the laws surround self-driving cars vary enormously by state with 29 state have pass legislationself-driving car development mostly happen in the state that have be friendliest to it — especially california and arizona — and it’s easy to envision some state ban self-driving cars long after they become commonplace in other state especially if the safety case for them isn’t a slam-dunkwhen self-driving cars be first propose i hear a lot of worry that regulators would unnecessarily delay their implementation by 2016 it be obvious that hadn’t come to pass indeed in some case regulators may have be too permissive — for example in light of uber pull its cars and institute new safety procedures it seem the vehicle that kill elaine herzberg probably shouldn’t have be on the road at allpolicy might also shape whether self-driving cars be good or bad for the environment with high tax on gasoline for example the social cost of carbon emissions could be reflect in the price of use self-driving cars — and the money can be spend on climate adaptation and clean energy but right now our transportation policy doesn’t do much of anything about the social cost of drive and that’s a problem that will only get worse if self-driving cars put more people on the road in some sense we’ve be “close” on self-driving cars for years now waymo be do test run with no one behind the wheel in arizona which it’s be do since 2017 cruise delay the 2019 launch of its autonomous taxi service but think it might happen in 2020 earlier this year the company unveil a car with no steer wheel  and no timetable for when it’ll be available for sale tesla’s periodic software update make its autopilot highway self-driving work better but it remain well short of full self-drivingthere be certainly skeptics recently the ceo of volkswagen say that fully self-driving cars might “never happen”that might be an overly harsh forecast consider the progress that’s be make but it be exasperatingly difficult to get a good estimate of how long until self-driving cars happen for real for the typical american both because no one know for sure and because company have incentives to publicize optimistic estimate the company boast about their progress but don’t publish their mishaps timelines slip and the change in plan be often publicly acknowledge only long after it’s become obvious that the deadline can’t be meet at the same time company hesitate to put their cars on the road when there’s any chance they aren’t ready they be well aware that kill someone as uber do be not only horrible but also probably spell doom for their business so there’s ample incentive to say optimistic things and not actually launchit’s not hard to imagine their arrival later this year at least in sufficiently limit contexts it’s also not hard to imagine that the deadlines will be push out another three or four yearsself-driving cars be on their way they’re closer than they be a year ago when they’ll actually get here be anyone’s guesssign up for the future perfect newsletter and we’ll send you a roundup of ideas and solutions for tackle the world’s biggest challenge — and how to get better at do goodeach week we explore unique solutions to some of the world biggest problemscheck your inbox for a welcome emailfuture perfect be fund in part by individual contributions grant and sponsorships learn more herewill you support vox’s explanatory journalism millions turn to vox to understand what’s happen in the news our mission have never be more vital than it be in this moment to empower through understand financial contributions from our readers be a critical part of support our resource-intensive work and help us keep our journalism free for all please consider make a contribution to vox today from as little as $3   '"
      ]
     },
     "execution_count": 50,
     "metadata": {},
     "output_type": "execute_result"
    }
   ],
   "source": [
    "df.loc[2]['Content_Parsed_5']"
   ]
  },
  {
   "cell_type": "code",
   "execution_count": 51,
   "metadata": {
    "colab": {
     "base_uri": "https://localhost:8080/",
     "height": 139
    },
    "id": "uYE7zx9nCb6z",
    "outputId": "2699262f-f9a2-4c5b-a9f2-e0dc3bad63e4"
   },
   "outputs": [
    {
     "data": {
      "text/plain": [
       "'  age  ai advance self-driving cars turn    harder  people expect find  best ways   good   come  self-driving cars  future  suppose     2020 ’   “permanent backseat driver”  guardian predict  2015 “10 million self-driving cars     road  2020” blare  business insider headline  2016  declarations  accompany  announcements  general motor google’ waymo toyota  honda  ’  make self-driving cars  2020 elon musk forecast  tesla would    2018 —     fail  2020   year   —   self-driving cars ’ despite extraordinary efforts  many   lead name  tech   automaking fully autonomous cars  still   reach except  special trial program   buy  car   automatically brake     anticipate  collision  one  help keep    lane  even  tesla model  ( — disclosure —  partner   ) whose autopilot mostly handle highway drive  almost every one    predictions   roll back   engineer team   company struggle  make self-driving cars work properly  happen   nine question  might     long-promised technology    future   promise still ’ arrivedengineers   attempt prototypes  self-driving cars  decades  idea behind   really simple outfit  car  cameras   track   object around     car react  ’   steer  one teach -car computers  rule   road  set  loose  navigate    destination  simple description elide  whole lot  complexity drive  one    complicate activities humans routinely  follow  list  rule   road ’ enough  drive  well   human     things like make eye contact  others  confirm    right  way react  weather condition  otherwise make judgment call   difficult  encode  hard--fast rulesand even  simple part  drive — like track  object around  car   road —  actually much trickier   sound take google’ sister company waymo  industry leader  self-driving cars waymo’ cars   fairly typical   self-driving cars use high-resolution cameras  lidar (light detection  ranging)  way  estimate distance  object  bounce light  sound  thingsthe car’ computers combine     build  picture    cars cyclists pedestrians  obstacles    ’ move   part lot  train data  need —    car   draw  millions  miles  drive data  waymo  collect  form expectations    object might move ’ hard  get enough train data   road   cars also train base  simulation data —  engineer    sure   ai systems  generalize correctly   simulation data   real worldthat’ far   complete description   systems  work   self-driving car    road   illustrate  important principle  keep  mind  wonder   self-driving cars  even  “easy” things turn   hide surprise complexityself-driving cars rely  artificial intelligence  work   2010s   great decade  ai  saw big advance  translation speech generation computer vision  object recognition  game-playing ai use    hard time identify dog  picture  ’  trivial taskit’  progress  ai  drive  optimistic predictions  self-driving cars   mid-2010s researchers anticipate   could build   amaze gain ’ see (  still seeing)   arenas    come  self-driving cars  limitations   gain become  apparent even  extraordinary amount  time money  effort invest  team could figure     ai solve  real-world problem navigate  roads   high degree  reliability neededmuch   problem   need  lot  train data  ideal way  train  self-driving car would   show  billions  hours  footage  real drive  use   teach  computer good drive behavior modern machine learn systems  really well    abundant data   poorly      little bite    collect data  self-driving cars  expensive  since  events  rare — witness  car accident ahead say  encounter debris   road — ’ possible   car      depth    encounter  situation  infrequently   train datacarmakers  try  get around   lot  ways ’ drive  miles ’ train  cars  simulations  sometimes engineer specific situations     get  train data   situations   cars    get closer waymo cars  roam  streets  arizona   one behind  wheel ( small pool  specially screen people  call   like  would  uber)   go well  may expand   cities later  year (   )  ’  hard problem  progress   slowcompanies continue  invest despite  setbacks  self-driving cars   happen  change  lot   world —  make  creators lot  moneymany consumers  want  upgrade imagine  able  read  doze    morning drive  work   long car trip  also seem likely  taxi  ride-hailing company  offer self-driving cars rather  pay drivers ( fact company like uber  bet  ) self-driving cars  also make  huge difference  americans  disabilities many   ’ get  driver’ license   trouble get  work  store  doctor’ appointments experts disagree  whether self-driving cars  change anything fundamental  car ownership  america  argue  people ’ need    car    order one   phone  get  timely robot ride anywhere others  point   people generally still   car even  areas  good ride-share coverage   self-driving cars might    different poll suggest   americans ’ want   drive  work   self-driving car —   might change fast   cars actually exist gallup poll   question find  small share (9 percent)  americans ’ get   car right away   larger contingent (38 percent) say ’ wait    half hold steadfast  ’ never use oneover time  infrastructure  likely change  make  easier  self-driving cars  navigate   fact  researchers  argue   ’  widespread self-driving cars  ’ make major change   streets  make  easier  communicate information   cars  would  expensive  require nationwide coordination   seem likely   would follow  widespread introduction  self-driving cars rather  precede  almost every major car manufacturer   least test  water  self-driving car research    much  serious    others   two core statistics useful  evaluate  advance  self-driving car program  one   many miles   drive ’  proxy   much train data  company    much investment   pour  get  cars   road    disengagements — moments   human driver   take    computer ’ handle  situation — per mile drive  company ’ share  statistics   state  california require    report   california’ statistics   best peek   various company     front google’ sister company waymo   clear leader waymo  announce 20 million miles drive overall      california  2018 waymo drive 12 million miles  california  009 disengagements every 1000 miles come  second  general motors’ cruise   half  million miles  019 disengagements per 1000 miles (cruise argue  since  test  cars  san francisco’ difficult streets  number  even  impressive   look)  two company  well ahead  everyone else   miles drive  disengagements   state  california  ’   limit snapshot   efforts  experts consider   lead program  generalmarch 18 2018   first time  self-driving car run   pedestrian  uber car   safety driver behind  wheel hit  kill elaine herzberg  49-year-old woman walk  bicycle across  street  tempe arizona  incident   reminder  self-driving car technology still   long way  go  people  quick  point   humans frequently kill  humans  drive   even  self-driving cars  much safer  humans     fatal incidents  self-driving cars ’ true  far   go   miss  key point human drive produce one fatal accident  every 100 million miles drive waymo  leader  miles drive  reach 20 million miles drive  ’   fatal accident yet  give  number  miles  cars  drive ’ simply far  soon  prove  ’  safe   safer   human driveruber ’ drive nearly  many miles     fatal incident  company ’ release specific figure   file   ipo last year say    drive “millions”  miles ’ hard  tell without specific number  ’ fair  wonder  uber’ drive record  much worse   human’ furthermore  review  herzberg’ death suggest   lot  preventable mistake  make  accident report   national transportation safety board release  december 2019 find   near-range cameras   ultrasonic sensors “   use   time   crash” additionally  system     problem  false alarm — detect dangerous situations  none exist —     program  “ one-second period    ads [automated drive system] suppress plan brake   (1) system verify  nature   detect hazard  calculate  alternative path  (2) vehicle operator take control   vehicle” accord   ntsb report  even   car detect  hazard  ’ brake —  could  make  collision avoidable  much less deadly —  instead continue  exactly       full second  system  design  assume  pedestrians would never cross except   crosswalk   one  cross without use one  fail  identify  even worse   system  unclear  whether  object   bicycle (    herzberg)   unable  retain  information    object  move  system sense  presence six full second   impact —  yet  nothing (except possibly brake   last two-tenths   second)  collide    deadly speedthose  avoidable failuresuber pull  cars   road  response return  self-driving car trials  year later   drastically change program “’ implement key safety improvements   safety review share  learn   larger self-driving industry  accept  ntsb’ recommendation  implement  safety management system   underway today” nat beuse uber’ self-driving cars head  safety tell vox   statement  response   request  comment “  look ahead   future ’ continue  keep safety   center  every decision  make”nonetheless deadly accidents  self-driving cars  keep happen —  ’   uber  report   national transportation safety board implicate tesla’ autopilot system  another lethal 2018 accident   driver   hand   wheel  car steer   concrete divider  crash kill   full investigation ’ yet  conduct  three  recent deadly tesla crash  problem accord  ntsb chairman robert sumwalt   drivers assume autopilot let  take  attention   road   ’  ’   problem  fully autonomous vehicles  ’  potentially major one nowas ’ write  get good self-driving cars   road  save hundreds  thousands  live   take  lot  engineer work  get  cars good enough   lifesaving  advocate  argue  self-driving cars   good   environment  claim  might reduce car trip  make car ownership unnecessary  transition society   model   people ’   car   call  one   need onein addition others  argue  human drivers drive   wasteful way — brake hard accelerate hard idle  engine    use  fuel —   computer could avoidbut  self-driving cars  inch closer  reality    claim benefit  start  look less likely ’  much evidence  computers  dramatically  fuel-efficient drivers  humans ’ one small study suggest adaptive cruise control improve efficiency  little (5  7 percent)  ’ little else beyond  furthermore researchers  examine  effect   fuel-efficient cars  miles travel  find   many circumstances people drive   cars get  fuel-efficient —  self-driving cars  higher fuel efficiency might  mean   produce lower emissions one study attempt  estimate  effect  self-driving cars  car use behavior simulate  family   self-driving car  pay      chauffeur   week  tell   treat  chauffeur service  way ’ treat   car  could drive   result  go   lot  car tripsit’ still possible   big transition   lower-driving world  happen  study  one week  drive habit ’ enough  settle  question  sure  researchers  conduct  study  prepare future study  ’ possible  comparisons  turn   encourage result    section might inspire  pessimism  ’ plenty  reason   excite  self-driving cars   likely make life easier  older people    disabilities  cannot safely drive  might provide better safer  cheaper options  people currently force    car  get anywhere additional research  development  make  safer —    kink  work     likelihood  self-driving cars   safer  human-driven onesin  sense ’   awkward transition moment   want self-driving cars  ’ yet  uncomplicated positive research  development  proceed anyway mostly  self-driving cars  probably   gold mine   first company  get    road ’ likely  able  establish   ride-hailing taxi  truck market  competitors  still struggle  catch    ’ benefit   additional miles travel   improve  cars ’  uncommon   technology   dangerous  barely worth     first invent   eventually  refine   valuable part  modern life  first airplanes  dangerous  commercially useless   improve things dramatically  therethere   federal law regard self-driving cars much   action  policy  largely take place   state level   laws surround self-driving cars vary enormously  state  29 state  pass legislationself-driving car development mostly happen   state    friendliest   — especially california  arizona —  ’ easy  envision  state ban self-driving cars long   become commonplace   state especially   safety case   ’  slam-dunkwhen self-driving cars  first propose  hear  lot  worry  regulators would unnecessarily delay  implementation  2016   obvious  ’ come  pass indeed   case regulators may    permissive —  example  light  uber pull  cars  institute new safety procedures  seem  vehicle  kill elaine herzberg probably ’     road  allpolicy might also shape whether self-driving cars  good  bad   environment  high tax  gasoline  example  social cost  carbon emissions could  reflect   price  use self-driving cars —   money   spend  climate adaptation  clean energy  right   transportation policy ’  much  anything   social cost  drive  ’  problem    get worse  self-driving cars put  people   road   sense ’  “close”  self-driving cars  years  waymo   test run   one behind  wheel  arizona  ’   since 2017 cruise delay  2019 launch   autonomous taxi service  think  might happen  2020 earlier  year  company unveil  car   steer wheel    timetable   ’  available  sale tesla’ periodic software update make  autopilot highway self-driving work better   remain well short  full self-drivingthere  certainly skeptics recently  ceo  volkswagen say  fully self-driving cars might “never happen” might   overly harsh forecast consider  progress ’  make    exasperatingly difficult  get  good estimate   long  self-driving cars happen  real   typical american    one know  sure   company  incentives  publicize optimistic estimate  company boast   progress  ’ publish  mishaps timelines slip   change  plan  often publicly acknowledge  long  ’ become obvious   deadline ’  meet    time company hesitate  put  cars   road  ’  chance  ’ ready   well aware  kill someone  uber     horrible  also probably spell doom   business  ’ ample incentive  say optimistic things   actually launchit’  hard  imagine  arrival later  year  least  sufficiently limit contexts ’ also  hard  imagine   deadlines   push  another three  four yearsself-driving cars    way ’ closer     year ago  ’ actually get   anyone’ guesssign    future perfect newsletter  ’ send   roundup  ideas  solutions  tackle  world’ biggest challenge —    get better   goodeach week  explore unique solutions     world biggest problemscheck  inbox   welcome emailfuture perfect  fund  part  individual contributions grant  sponsorships learn  herewill  support vox’ explanatory journalism millions turn  vox  understand ’ happen   news  mission  never   vital      moment  empower  understand financial contributions   readers   critical part  support  resource-intensive work  help us keep  journalism free   please consider make  contribution  vox today   little  $3   '"
      ]
     },
     "execution_count": 51,
     "metadata": {},
     "output_type": "execute_result"
    }
   ],
   "source": [
    "df.loc[2]['Content_Parsed_6']"
   ]
  },
  {
   "cell_type": "code",
   "execution_count": 52,
   "metadata": {
    "colab": {
     "base_uri": "https://localhost:8080/",
     "height": 170
    },
    "id": "5zeVQdQXCefp",
    "outputId": "080e4170-43dc-49b1-a4c6-fd007c4d9151"
   },
   "outputs": [
    {
     "data": {
      "text/html": [
       "<div>\n",
       "<style scoped>\n",
       "    .dataframe tbody tr th:only-of-type {\n",
       "        vertical-align: middle;\n",
       "    }\n",
       "\n",
       "    .dataframe tbody tr th {\n",
       "        vertical-align: top;\n",
       "    }\n",
       "\n",
       "    .dataframe thead th {\n",
       "        text-align: right;\n",
       "    }\n",
       "</style>\n",
       "<table border=\"1\" class=\"dataframe\">\n",
       "  <thead>\n",
       "    <tr style=\"text-align: right;\">\n",
       "      <th></th>\n",
       "      <th>File_Name</th>\n",
       "      <th>Content</th>\n",
       "      <th>Category</th>\n",
       "      <th>Complete_Filename</th>\n",
       "      <th>id</th>\n",
       "      <th>News_length</th>\n",
       "      <th>Content_Parsed_1</th>\n",
       "      <th>Content_Parsed_2</th>\n",
       "      <th>Content_Parsed_3</th>\n",
       "      <th>Content_Parsed_4</th>\n",
       "      <th>Content_Parsed_5</th>\n",
       "      <th>Content_Parsed_6</th>\n",
       "    </tr>\n",
       "  </thead>\n",
       "  <tbody>\n",
       "    <tr>\n",
       "      <th>0</th>\n",
       "      <td>FileName_0</td>\n",
       "      <td>With more than 40 companies actively investing...</td>\n",
       "      <td>positive</td>\n",
       "      <td>FileName_0</td>\n",
       "      <td>1</td>\n",
       "      <td>6623</td>\n",
       "      <td>With more than 40 companies actively investing...</td>\n",
       "      <td>with more than 40 companies actively investing...</td>\n",
       "      <td>with more than 40 companies actively investing...</td>\n",
       "      <td>with more than 40 companies actively investing...</td>\n",
       "      <td>with more than 40 company actively invest in a...</td>\n",
       "      <td>40 company actively invest  autonomous vehi...</td>\n",
       "    </tr>\n",
       "  </tbody>\n",
       "</table>\n",
       "</div>"
      ],
      "text/plain": [
       "    File_Name                                            Content  Category  \\\n",
       "0  FileName_0  With more than 40 companies actively investing...  positive   \n",
       "\n",
       "  Complete_Filename  id  News_length  \\\n",
       "0        FileName_0   1         6623   \n",
       "\n",
       "                                    Content_Parsed_1  \\\n",
       "0  With more than 40 companies actively investing...   \n",
       "\n",
       "                                    Content_Parsed_2  \\\n",
       "0  with more than 40 companies actively investing...   \n",
       "\n",
       "                                    Content_Parsed_3  \\\n",
       "0  with more than 40 companies actively investing...   \n",
       "\n",
       "                                    Content_Parsed_4  \\\n",
       "0  with more than 40 companies actively investing...   \n",
       "\n",
       "                                    Content_Parsed_5  \\\n",
       "0  with more than 40 company actively invest in a...   \n",
       "\n",
       "                                    Content_Parsed_6  \n",
       "0     40 company actively invest  autonomous vehi...  "
      ]
     },
     "execution_count": 52,
     "metadata": {},
     "output_type": "execute_result"
    }
   ],
   "source": [
    "df.head(1)"
   ]
  },
  {
   "cell_type": "code",
   "execution_count": 53,
   "metadata": {
    "id": "fRO9XSDICq3C"
   },
   "outputs": [],
   "source": [
    "list_columns = [\"File_Name\", \"Category\", \"Complete_Filename\", \"Content\", \"Content_Parsed_6\"]\n",
    "df = df[list_columns]\n",
    "\n",
    "df = df.rename(columns={'Content_Parsed_6': 'Content_Parsed'})"
   ]
  },
  {
   "cell_type": "code",
   "execution_count": 54,
   "metadata": {
    "colab": {
     "base_uri": "https://localhost:8080/",
     "height": 206
    },
    "id": "ksS1ECJrCtK_",
    "outputId": "327bd006-242a-4f1c-a958-3d440107e4a6"
   },
   "outputs": [
    {
     "data": {
      "text/html": [
       "<div>\n",
       "<style scoped>\n",
       "    .dataframe tbody tr th:only-of-type {\n",
       "        vertical-align: middle;\n",
       "    }\n",
       "\n",
       "    .dataframe tbody tr th {\n",
       "        vertical-align: top;\n",
       "    }\n",
       "\n",
       "    .dataframe thead th {\n",
       "        text-align: right;\n",
       "    }\n",
       "</style>\n",
       "<table border=\"1\" class=\"dataframe\">\n",
       "  <thead>\n",
       "    <tr style=\"text-align: right;\">\n",
       "      <th></th>\n",
       "      <th>File_Name</th>\n",
       "      <th>Category</th>\n",
       "      <th>Complete_Filename</th>\n",
       "      <th>Content</th>\n",
       "      <th>Content_Parsed</th>\n",
       "    </tr>\n",
       "  </thead>\n",
       "  <tbody>\n",
       "    <tr>\n",
       "      <th>0</th>\n",
       "      <td>FileName_0</td>\n",
       "      <td>positive</td>\n",
       "      <td>FileName_0</td>\n",
       "      <td>With more than 40 companies actively investing...</td>\n",
       "      <td>40 company actively invest  autonomous vehi...</td>\n",
       "    </tr>\n",
       "    <tr>\n",
       "      <th>1</th>\n",
       "      <td>FileName_1</td>\n",
       "      <td>positive</td>\n",
       "      <td>FileName_1</td>\n",
       "      <td>2016 has been an exciting year so far for tech...</td>\n",
       "      <td>2016    excite year  far  technologies   recen...</td>\n",
       "    </tr>\n",
       "    <tr>\n",
       "      <th>2</th>\n",
       "      <td>FileName_2</td>\n",
       "      <td>negative</td>\n",
       "      <td>FileName_2</td>\n",
       "      <td>In the age of AI advances, self-driving cars t...</td>\n",
       "      <td>age  ai advance self-driving cars turn    ha...</td>\n",
       "    </tr>\n",
       "    <tr>\n",
       "      <th>3</th>\n",
       "      <td>FileName_3</td>\n",
       "      <td>negative</td>\n",
       "      <td>FileName_3</td>\n",
       "      <td>Autonomous vehicles are one of the most talked...</td>\n",
       "      <td>autonomous vehicles  one    talked- technologi...</td>\n",
       "    </tr>\n",
       "    <tr>\n",
       "      <th>4</th>\n",
       "      <td>FileName_4</td>\n",
       "      <td>negative</td>\n",
       "      <td>FileName_4</td>\n",
       "      <td>All the ways the self-driving future won’t com...</td>\n",
       "      <td>ways  self-driving future ’ come  passself-d...</td>\n",
       "    </tr>\n",
       "  </tbody>\n",
       "</table>\n",
       "</div>"
      ],
      "text/plain": [
       "    File_Name  Category Complete_Filename  \\\n",
       "0  FileName_0  positive        FileName_0   \n",
       "1  FileName_1  positive        FileName_1   \n",
       "2  FileName_2  negative        FileName_2   \n",
       "3  FileName_3  negative        FileName_3   \n",
       "4  FileName_4  negative        FileName_4   \n",
       "\n",
       "                                             Content  \\\n",
       "0  With more than 40 companies actively investing...   \n",
       "1  2016 has been an exciting year so far for tech...   \n",
       "2  In the age of AI advances, self-driving cars t...   \n",
       "3  Autonomous vehicles are one of the most talked...   \n",
       "4  All the ways the self-driving future won’t com...   \n",
       "\n",
       "                                      Content_Parsed  \n",
       "0     40 company actively invest  autonomous vehi...  \n",
       "1  2016    excite year  far  technologies   recen...  \n",
       "2    age  ai advance self-driving cars turn    ha...  \n",
       "3  autonomous vehicles  one    talked- technologi...  \n",
       "4    ways  self-driving future ’ come  passself-d...  "
      ]
     },
     "execution_count": 54,
     "metadata": {},
     "output_type": "execute_result"
    }
   ],
   "source": [
    "\n",
    "df.head()"
   ]
  },
  {
   "cell_type": "code",
   "execution_count": 55,
   "metadata": {
    "id": "FvWoYxKeCtcN"
   },
   "outputs": [],
   "source": [
    "'''category_codes = {\n",
    "    'business': 0,\n",
    "    'entertainment': 1,\n",
    "    'politics': 2,\n",
    "    'sport': 3,\n",
    "    'tech': 4\n",
    "}'''\n",
    "category_codes = {\n",
    "    'positive': 0,\n",
    "    'negative': 1,\n",
    "}"
   ]
  },
  {
   "cell_type": "code",
   "execution_count": 56,
   "metadata": {
    "id": "sspEx1phDeUw"
   },
   "outputs": [],
   "source": [
    "# Category mapping\n",
    "df['Category_Code'] = df['Category']\n",
    "df = df.replace({'Category_Code':category_codes})"
   ]
  },
  {
   "cell_type": "code",
   "execution_count": 57,
   "metadata": {
    "colab": {
     "base_uri": "https://localhost:8080/",
     "height": 206
    },
    "id": "nTetXHJeDja7",
    "outputId": "743b706d-8218-4606-a229-b446f7770379"
   },
   "outputs": [
    {
     "data": {
      "text/html": [
       "<div>\n",
       "<style scoped>\n",
       "    .dataframe tbody tr th:only-of-type {\n",
       "        vertical-align: middle;\n",
       "    }\n",
       "\n",
       "    .dataframe tbody tr th {\n",
       "        vertical-align: top;\n",
       "    }\n",
       "\n",
       "    .dataframe thead th {\n",
       "        text-align: right;\n",
       "    }\n",
       "</style>\n",
       "<table border=\"1\" class=\"dataframe\">\n",
       "  <thead>\n",
       "    <tr style=\"text-align: right;\">\n",
       "      <th></th>\n",
       "      <th>File_Name</th>\n",
       "      <th>Category</th>\n",
       "      <th>Complete_Filename</th>\n",
       "      <th>Content</th>\n",
       "      <th>Content_Parsed</th>\n",
       "      <th>Category_Code</th>\n",
       "    </tr>\n",
       "  </thead>\n",
       "  <tbody>\n",
       "    <tr>\n",
       "      <th>0</th>\n",
       "      <td>FileName_0</td>\n",
       "      <td>positive</td>\n",
       "      <td>FileName_0</td>\n",
       "      <td>With more than 40 companies actively investing...</td>\n",
       "      <td>40 company actively invest  autonomous vehi...</td>\n",
       "      <td>0</td>\n",
       "    </tr>\n",
       "    <tr>\n",
       "      <th>1</th>\n",
       "      <td>FileName_1</td>\n",
       "      <td>positive</td>\n",
       "      <td>FileName_1</td>\n",
       "      <td>2016 has been an exciting year so far for tech...</td>\n",
       "      <td>2016    excite year  far  technologies   recen...</td>\n",
       "      <td>0</td>\n",
       "    </tr>\n",
       "    <tr>\n",
       "      <th>2</th>\n",
       "      <td>FileName_2</td>\n",
       "      <td>negative</td>\n",
       "      <td>FileName_2</td>\n",
       "      <td>In the age of AI advances, self-driving cars t...</td>\n",
       "      <td>age  ai advance self-driving cars turn    ha...</td>\n",
       "      <td>1</td>\n",
       "    </tr>\n",
       "    <tr>\n",
       "      <th>3</th>\n",
       "      <td>FileName_3</td>\n",
       "      <td>negative</td>\n",
       "      <td>FileName_3</td>\n",
       "      <td>Autonomous vehicles are one of the most talked...</td>\n",
       "      <td>autonomous vehicles  one    talked- technologi...</td>\n",
       "      <td>1</td>\n",
       "    </tr>\n",
       "    <tr>\n",
       "      <th>4</th>\n",
       "      <td>FileName_4</td>\n",
       "      <td>negative</td>\n",
       "      <td>FileName_4</td>\n",
       "      <td>All the ways the self-driving future won’t com...</td>\n",
       "      <td>ways  self-driving future ’ come  passself-d...</td>\n",
       "      <td>1</td>\n",
       "    </tr>\n",
       "  </tbody>\n",
       "</table>\n",
       "</div>"
      ],
      "text/plain": [
       "    File_Name  Category Complete_Filename  \\\n",
       "0  FileName_0  positive        FileName_0   \n",
       "1  FileName_1  positive        FileName_1   \n",
       "2  FileName_2  negative        FileName_2   \n",
       "3  FileName_3  negative        FileName_3   \n",
       "4  FileName_4  negative        FileName_4   \n",
       "\n",
       "                                             Content  \\\n",
       "0  With more than 40 companies actively investing...   \n",
       "1  2016 has been an exciting year so far for tech...   \n",
       "2  In the age of AI advances, self-driving cars t...   \n",
       "3  Autonomous vehicles are one of the most talked...   \n",
       "4  All the ways the self-driving future won’t com...   \n",
       "\n",
       "                                      Content_Parsed  Category_Code  \n",
       "0     40 company actively invest  autonomous vehi...              0  \n",
       "1  2016    excite year  far  technologies   recen...              0  \n",
       "2    age  ai advance self-driving cars turn    ha...              1  \n",
       "3  autonomous vehicles  one    talked- technologi...              1  \n",
       "4    ways  self-driving future ’ come  passself-d...              1  "
      ]
     },
     "execution_count": 57,
     "metadata": {},
     "output_type": "execute_result"
    }
   ],
   "source": [
    "df.head()"
   ]
  },
  {
   "cell_type": "code",
   "execution_count": 58,
   "metadata": {
    "colab": {
     "base_uri": "https://localhost:8080/",
     "height": 206
    },
    "id": "XEUJICE1EmCU",
    "outputId": "6210c0d5-074c-4993-9634-147e247da425"
   },
   "outputs": [
    {
     "data": {
      "text/html": [
       "<div>\n",
       "<style scoped>\n",
       "    .dataframe tbody tr th:only-of-type {\n",
       "        vertical-align: middle;\n",
       "    }\n",
       "\n",
       "    .dataframe tbody tr th {\n",
       "        vertical-align: top;\n",
       "    }\n",
       "\n",
       "    .dataframe thead th {\n",
       "        text-align: right;\n",
       "    }\n",
       "</style>\n",
       "<table border=\"1\" class=\"dataframe\">\n",
       "  <thead>\n",
       "    <tr style=\"text-align: right;\">\n",
       "      <th></th>\n",
       "      <th>File_Name</th>\n",
       "      <th>Category</th>\n",
       "      <th>Complete_Filename</th>\n",
       "      <th>Content</th>\n",
       "      <th>Content_Parsed</th>\n",
       "      <th>Category_Code</th>\n",
       "    </tr>\n",
       "  </thead>\n",
       "  <tbody>\n",
       "    <tr>\n",
       "      <th>0</th>\n",
       "      <td>FileName_0</td>\n",
       "      <td>positive</td>\n",
       "      <td>FileName_0</td>\n",
       "      <td>With more than 40 companies actively investing...</td>\n",
       "      <td>40 company actively invest  autonomous vehi...</td>\n",
       "      <td>0</td>\n",
       "    </tr>\n",
       "    <tr>\n",
       "      <th>1</th>\n",
       "      <td>FileName_1</td>\n",
       "      <td>positive</td>\n",
       "      <td>FileName_1</td>\n",
       "      <td>2016 has been an exciting year so far for tech...</td>\n",
       "      <td>2016    excite year  far  technologies   recen...</td>\n",
       "      <td>0</td>\n",
       "    </tr>\n",
       "    <tr>\n",
       "      <th>2</th>\n",
       "      <td>FileName_2</td>\n",
       "      <td>negative</td>\n",
       "      <td>FileName_2</td>\n",
       "      <td>In the age of AI advances, self-driving cars t...</td>\n",
       "      <td>age  ai advance self-driving cars turn    ha...</td>\n",
       "      <td>1</td>\n",
       "    </tr>\n",
       "    <tr>\n",
       "      <th>3</th>\n",
       "      <td>FileName_3</td>\n",
       "      <td>negative</td>\n",
       "      <td>FileName_3</td>\n",
       "      <td>Autonomous vehicles are one of the most talked...</td>\n",
       "      <td>autonomous vehicles  one    talked- technologi...</td>\n",
       "      <td>1</td>\n",
       "    </tr>\n",
       "    <tr>\n",
       "      <th>4</th>\n",
       "      <td>FileName_4</td>\n",
       "      <td>negative</td>\n",
       "      <td>FileName_4</td>\n",
       "      <td>All the ways the self-driving future won’t com...</td>\n",
       "      <td>ways  self-driving future ’ come  passself-d...</td>\n",
       "      <td>1</td>\n",
       "    </tr>\n",
       "  </tbody>\n",
       "</table>\n",
       "</div>"
      ],
      "text/plain": [
       "    File_Name  Category Complete_Filename  \\\n",
       "0  FileName_0  positive        FileName_0   \n",
       "1  FileName_1  positive        FileName_1   \n",
       "2  FileName_2  negative        FileName_2   \n",
       "3  FileName_3  negative        FileName_3   \n",
       "4  FileName_4  negative        FileName_4   \n",
       "\n",
       "                                             Content  \\\n",
       "0  With more than 40 companies actively investing...   \n",
       "1  2016 has been an exciting year so far for tech...   \n",
       "2  In the age of AI advances, self-driving cars t...   \n",
       "3  Autonomous vehicles are one of the most talked...   \n",
       "4  All the ways the self-driving future won’t com...   \n",
       "\n",
       "                                      Content_Parsed  Category_Code  \n",
       "0     40 company actively invest  autonomous vehi...              0  \n",
       "1  2016    excite year  far  technologies   recen...              0  \n",
       "2    age  ai advance self-driving cars turn    ha...              1  \n",
       "3  autonomous vehicles  one    talked- technologi...              1  \n",
       "4    ways  self-driving future ’ come  passself-d...              1  "
      ]
     },
     "execution_count": 58,
     "metadata": {},
     "output_type": "execute_result"
    }
   ],
   "source": [
    "df.head()"
   ]
  },
  {
   "cell_type": "code",
   "execution_count": 59,
   "metadata": {
    "id": "0wGXbGVVDqEx"
   },
   "outputs": [],
   "source": [
    "X_train, X_test, y_train, y_test = train_test_split(df['Content_Parsed'], \n",
    "                                                    df['Category_Code'], \n",
    "                                                    test_size=0.15, \n",
    "                                                    random_state=2)"
   ]
  },
  {
   "cell_type": "code",
   "execution_count": 60,
   "metadata": {
    "colab": {
     "base_uri": "https://localhost:8080/"
    },
    "id": "06X-4K4Mhspw",
    "outputId": "15aa3c07-f7ec-475f-e746-352e791f6e7d"
   },
   "outputs": [
    {
     "data": {
      "text/plain": [
       "(2,)"
      ]
     },
     "execution_count": 60,
     "metadata": {},
     "output_type": "execute_result"
    }
   ],
   "source": [
    "X_train.shape\n",
    "X_test.shape"
   ]
  },
  {
   "cell_type": "code",
   "execution_count": 61,
   "metadata": {
    "colab": {
     "base_uri": "https://localhost:8080/"
    },
    "id": "DLC1xWtskXVD",
    "outputId": "45039976-b702-41dc-bd1f-263db6612375"
   },
   "outputs": [
    {
     "data": {
      "text/plain": [
       "(2,)"
      ]
     },
     "execution_count": 61,
     "metadata": {},
     "output_type": "execute_result"
    }
   ],
   "source": [
    "y_test.shape"
   ]
  },
  {
   "cell_type": "code",
   "execution_count": 62,
   "metadata": {
    "id": "XGrb_KKZD71u"
   },
   "outputs": [],
   "source": [
    "\n",
    "# Parameter election\n",
    "ngram_range = (1,2)\n",
    "max_df = 10\n",
    "min_df = 1.\n",
    "max_features = 300"
   ]
  },
  {
   "cell_type": "code",
   "execution_count": null,
   "metadata": {
    "id": "VOeDl73IFehm"
   },
   "outputs": [],
   "source": []
  },
  {
   "cell_type": "code",
   "execution_count": 63,
   "metadata": {
    "colab": {
     "base_uri": "https://localhost:8080/"
    },
    "id": "q5qYjHEHEB1b",
    "outputId": "da9dc70a-0fad-48dc-befa-b2dc90699709"
   },
   "outputs": [
    {
     "name": "stdout",
     "output_type": "stream",
     "text": [
      "(6, 32)\n",
      "(2, 32)\n"
     ]
    }
   ],
   "source": [
    "tfidf = TfidfVectorizer(encoding='utf-8',\n",
    "                        ngram_range=ngram_range,\n",
    "                        stop_words=None,\n",
    "                        lowercase=False,\n",
    "                        max_df=max_df,\n",
    "                        min_df=min_df,\n",
    "                        max_features=max_features,\n",
    "                        norm='l2',\n",
    "                        sublinear_tf=True)\n",
    "                        \n",
    "features_train = tfidf.fit_transform(X_train).toarray()\n",
    "labels_train = y_train\n",
    "print(features_train.shape)\n",
    "\n",
    "features_test = tfidf.transform(X_test).toarray()\n",
    "labels_test = y_test\n",
    "print(features_test.shape)"
   ]
  },
  {
   "cell_type": "code",
   "execution_count": 64,
   "metadata": {
    "colab": {
     "base_uri": "https://localhost:8080/"
    },
    "id": "GaqzBs-6FAN6",
    "outputId": "6529f7a9-8cf9-43bc-f2c0-f0f6903e7435"
   },
   "outputs": [
    {
     "name": "stdout",
     "output_type": "stream",
     "text": [
      "# 'negative' category:\n",
      "  . Most correlated unigrams:\n",
      ". use\n",
      ". come\n",
      ". happen\n",
      ". roads\n",
      ". back\n",
      "  . Most correlated bigrams:\n",
      ". autonomous vehicles\n",
      ". driving car\n",
      "\n",
      "# 'positive' category:\n",
      "  . Most correlated unigrams:\n",
      ". use\n",
      ". come\n",
      ". happen\n",
      ". roads\n",
      ". back\n",
      "  . Most correlated bigrams:\n",
      ". autonomous vehicles\n",
      ". driving car\n",
      "\n"
     ]
    }
   ],
   "source": [
    "from sklearn.feature_selection import chi2\n",
    "import numpy as np\n",
    "\n",
    "for Product, category_id in sorted(category_codes.items()):\n",
    "    features_chi2 = chi2(features_train, labels_train == category_id)\n",
    "    indices = np.argsort(features_chi2[0])\n",
    "    feature_names = np.array(tfidf.get_feature_names())[indices]\n",
    "    unigrams = [v for v in feature_names if len(v.split(' ')) == 1]\n",
    "    bigrams = [v for v in feature_names if len(v.split(' ')) == 2]\n",
    "    print(\"# '{}' category:\".format(Product))\n",
    "    print(\"  . Most correlated unigrams:\\n. {}\".format('\\n. '.join(unigrams[-5:])))\n",
    "    print(\"  . Most correlated bigrams:\\n. {}\".format('\\n. '.join(bigrams[-2:])))\n",
    "    print(\"\")"
   ]
  },
  {
   "cell_type": "code",
   "execution_count": 65,
   "metadata": {
    "colab": {
     "base_uri": "https://localhost:8080/"
    },
    "id": "tavviTssFF91",
    "outputId": "f5f8e104-464b-49dd-b726-2859fc27b01d"
   },
   "outputs": [
    {
     "data": {
      "text/plain": [
       "['driving cars', 'self driving', 'autonomous vehicles', 'driving car']"
      ]
     },
     "execution_count": 65,
     "metadata": {},
     "output_type": "execute_result"
    }
   ],
   "source": [
    "bigrams"
   ]
  },
  {
   "cell_type": "code",
   "execution_count": 66,
   "metadata": {
    "id": "SXNDOiA5FJls"
   },
   "outputs": [],
   "source": [
    "\n",
    "# X_train\n",
    "with open('X_train.pickle', 'wb') as output:\n",
    "    pickle.dump(X_train, output)\n",
    "    \n",
    "# X_test    \n",
    "with open('X_test.pickle', 'wb') as output:\n",
    "    pickle.dump(X_test, output)\n",
    "    \n",
    "# y_train\n",
    "with open('y_train.pickle', 'wb') as output:\n",
    "    pickle.dump(y_train, output)\n",
    "    \n",
    "# y_test\n",
    "with open('y_test.pickle', 'wb') as output:\n",
    "    pickle.dump(y_test, output)\n",
    "    \n",
    "# df\n",
    "with open('df.pickle', 'wb') as output:\n",
    "    pickle.dump(df, output)\n",
    "    \n",
    "# features_train\n",
    "with open('features_train.pickle', 'wb') as output:\n",
    "    pickle.dump(features_train, output)\n",
    "\n",
    "# labels_train\n",
    "with open('labels_train.pickle', 'wb') as output:\n",
    "    pickle.dump(labels_train, output)\n",
    "\n",
    "# features_test\n",
    "with open('features_test.pickle', 'wb') as output:\n",
    "    pickle.dump(features_test, output)\n",
    "\n",
    "# labels_test\n",
    "with open('labels_test.pickle', 'wb') as output:\n",
    "    pickle.dump(labels_test, output)\n",
    "    \n",
    "# TF-IDF object\n",
    "with open('tfidf.pickle', 'wb') as output:\n",
    "    pickle.dump(tfidf, output)"
   ]
  },
  {
   "cell_type": "code",
   "execution_count": null,
   "metadata": {
    "id": "oMf51QmVFgoD"
   },
   "outputs": [],
   "source": []
  },
  {
   "cell_type": "markdown",
   "metadata": {
    "id": "fHXlGqsVFjiz"
   },
   "source": [
    "# MODEL training\n",
    "\n"
   ]
  },
  {
   "cell_type": "markdown",
   "metadata": {
    "id": "yp2yQOB7ItaT"
   },
   "source": [
    "## Random Forest "
   ]
  },
  {
   "cell_type": "code",
   "execution_count": 67,
   "metadata": {
    "id": "I1ykKHAmFo0w"
   },
   "outputs": [],
   "source": [
    "import pickle\n",
    "import numpy as np\n",
    "from sklearn.feature_extraction.text import TfidfVectorizer\n",
    "from sklearn.ensemble import RandomForestClassifier\n",
    "from pprint import pprint\n",
    "from sklearn.model_selection import RandomizedSearchCV\n",
    "from sklearn.model_selection import GridSearchCV\n",
    "from sklearn.metrics import classification_report, confusion_matrix, accuracy_score\n",
    "from sklearn.model_selection import ShuffleSplit\n",
    "import matplotlib.pyplot as plt\n",
    "import seaborn as sns\n",
    "import pandas as pd\n"
   ]
  },
  {
   "cell_type": "code",
   "execution_count": 68,
   "metadata": {
    "id": "ocdrT5u1GYM1"
   },
   "outputs": [],
   "source": [
    "# Dataframe\n",
    "path_df = \"df.pickle\"\n",
    "with open(path_df, 'rb') as data:\n",
    "    df = pickle.load(data)\n",
    "\n",
    "# features_train\n",
    "path_features_train = \"features_train.pickle\"\n",
    "with open(path_features_train, 'rb') as data:\n",
    "    features_train = pickle.load(data)\n",
    "\n",
    "# labels_train\n",
    "path_labels_train = \"labels_train.pickle\"\n",
    "with open(path_labels_train, 'rb') as data:\n",
    "    labels_train = pickle.load(data)\n",
    "\n",
    "# features_test\n",
    "path_features_test = \"features_test.pickle\"\n",
    "with open(path_features_test, 'rb') as data:\n",
    "    features_test = pickle.load(data)\n",
    "\n",
    "# labels_test\n",
    "path_labels_test = \"labels_test.pickle\"\n",
    "with open(path_labels_test, 'rb') as data:\n",
    "    labels_test = pickle.load(data)"
   ]
  },
  {
   "cell_type": "code",
   "execution_count": 69,
   "metadata": {
    "colab": {
     "base_uri": "https://localhost:8080/"
    },
    "id": "2OkJlnRqHM0X",
    "outputId": "6dd226aa-93d5-4903-ee4c-de23fae7c3ac"
   },
   "outputs": [
    {
     "name": "stdout",
     "output_type": "stream",
     "text": [
      "(6, 32)\n",
      "(2, 32)\n"
     ]
    }
   ],
   "source": [
    "print(features_train.shape)\n",
    "print(features_test.shape)"
   ]
  },
  {
   "cell_type": "code",
   "execution_count": 70,
   "metadata": {
    "colab": {
     "base_uri": "https://localhost:8080/"
    },
    "id": "j8y6RS64HRIc",
    "outputId": "bc360560-9f18-4353-e58b-6650865cf497"
   },
   "outputs": [
    {
     "name": "stdout",
     "output_type": "stream",
     "text": [
      "Parameters currently in use:\n",
      "\n",
      "{'bootstrap': True,\n",
      " 'ccp_alpha': 0.0,\n",
      " 'class_weight': None,\n",
      " 'criterion': 'gini',\n",
      " 'max_depth': None,\n",
      " 'max_features': 'auto',\n",
      " 'max_leaf_nodes': None,\n",
      " 'max_samples': None,\n",
      " 'min_impurity_decrease': 0.0,\n",
      " 'min_impurity_split': None,\n",
      " 'min_samples_leaf': 1,\n",
      " 'min_samples_split': 2,\n",
      " 'min_weight_fraction_leaf': 0.0,\n",
      " 'n_estimators': 100,\n",
      " 'n_jobs': None,\n",
      " 'oob_score': False,\n",
      " 'random_state': 4,\n",
      " 'verbose': 0,\n",
      " 'warm_start': False}\n"
     ]
    }
   ],
   "source": [
    "# using random forest classifier to train model\n",
    "rf_0 = RandomForestClassifier(random_state = 4)\n",
    "\n",
    "print('Parameters currently in use:\\n')\n",
    "pprint(rf_0.get_params())"
   ]
  },
  {
   "cell_type": "code",
   "execution_count": 71,
   "metadata": {
    "colab": {
     "base_uri": "https://localhost:8080/"
    },
    "id": "W35NmUxwHVVs",
    "outputId": "90f64127-2641-41ee-bafc-7de98c1a4274"
   },
   "outputs": [
    {
     "name": "stdout",
     "output_type": "stream",
     "text": [
      "{'bootstrap': [True, False],\n",
      " 'max_depth': [20, 40, 60, 80, 100, None],\n",
      " 'max_features': ['auto', 'sqrt'],\n",
      " 'min_samples_leaf': [1, 2, 4],\n",
      " 'min_samples_split': [2, 5, 10],\n",
      " 'n_estimators': [200, 400, 600, 800, 1000]}\n"
     ]
    }
   ],
   "source": [
    "# n_estimators\n",
    "n_estimators = [int(x) for x in np.linspace(start = 200, stop = 1000, num = 5)]\n",
    "\n",
    "# max_features\n",
    "max_features = ['auto', 'sqrt']\n",
    "\n",
    "# max_depth\n",
    "max_depth = [int(x) for x in np.linspace(20, 100, num = 5)]\n",
    "max_depth.append(None)\n",
    "\n",
    "# min_samples_split\n",
    "min_samples_split = [2, 5, 10]\n",
    "\n",
    "# min_samples_leaf\n",
    "min_samples_leaf = [1, 2, 4]\n",
    "\n",
    "# bootstrap\n",
    "bootstrap = [True, False]\n",
    "\n",
    "# Create the random grid\n",
    "random_grid = {'n_estimators': n_estimators,\n",
    "               'max_features': max_features,\n",
    "               'max_depth': max_depth,\n",
    "               'min_samples_split': min_samples_split,\n",
    "               'min_samples_leaf': min_samples_leaf,\n",
    "               'bootstrap': bootstrap}\n",
    "\n",
    "pprint(random_grid)"
   ]
  },
  {
   "cell_type": "code",
   "execution_count": 72,
   "metadata": {
    "colab": {
     "base_uri": "https://localhost:8080/"
    },
    "id": "AId8INHLHZ5k",
    "outputId": "6b8f9c12-9ba7-4049-b285-762789cee84d"
   },
   "outputs": [
    {
     "name": "stdout",
     "output_type": "stream",
     "text": [
      "Fitting 2 folds for each of 50 candidates, totalling 100 fits\n"
     ]
    },
    {
     "name": "stderr",
     "output_type": "stream",
     "text": [
      "[Parallel(n_jobs=1)]: Using backend SequentialBackend with 1 concurrent workers.\n",
      "[Parallel(n_jobs=1)]: Done 100 out of 100 | elapsed:   46.8s finished\n"
     ]
    },
    {
     "data": {
      "text/plain": [
       "RandomizedSearchCV(cv=2, estimator=RandomForestClassifier(random_state=8),\n",
       "                   n_iter=50,\n",
       "                   param_distributions={'bootstrap': [True, False],\n",
       "                                        'max_depth': [20, 40, 60, 80, 100,\n",
       "                                                      None],\n",
       "                                        'max_features': ['auto', 'sqrt'],\n",
       "                                        'min_samples_leaf': [1, 2, 4],\n",
       "                                        'min_samples_split': [2, 5, 10],\n",
       "                                        'n_estimators': [200, 400, 600, 800,\n",
       "                                                         1000]},\n",
       "                   random_state=8, scoring='accuracy', verbose=1)"
      ]
     },
     "execution_count": 72,
     "metadata": {},
     "output_type": "execute_result"
    }
   ],
   "source": [
    "# First create the base model to tune\n",
    "rfc = RandomForestClassifier(random_state=8)\n",
    "\n",
    "# Definition of the random search\n",
    "random_search = RandomizedSearchCV(estimator=rfc,\n",
    "                                   param_distributions=random_grid,\n",
    "                                   n_iter=50,\n",
    "                                   scoring='accuracy',\n",
    "                                   cv=2, \n",
    "                                   verbose=1, \n",
    "                                   random_state=8)\n",
    "\n",
    "# Fit the random search model\n",
    "random_search.fit(features_train, labels_train)"
   ]
  },
  {
   "cell_type": "code",
   "execution_count": 73,
   "metadata": {
    "colab": {
     "base_uri": "https://localhost:8080/"
    },
    "id": "Dg7aID8AJ277",
    "outputId": "d1e663f2-a3b3-454f-fb15-72929f431312"
   },
   "outputs": [
    {
     "name": "stdout",
     "output_type": "stream",
     "text": [
      "The best hyperparameters from Random Search are:\n",
      "{'n_estimators': 200, 'min_samples_split': 2, 'min_samples_leaf': 1, 'max_features': 'sqrt', 'max_depth': 40, 'bootstrap': False}\n",
      "\n",
      "The mean accuracy of a model with these hyperparameters is:\n",
      "0.5\n"
     ]
    }
   ],
   "source": [
    "print(\"The best hyperparameters from Random Search are:\")\n",
    "print(random_search.best_params_)\n",
    "print(\"\")\n",
    "print(\"The mean accuracy of a model with these hyperparameters is:\")\n",
    "print(random_search.best_score_)"
   ]
  },
  {
   "cell_type": "code",
   "execution_count": 74,
   "metadata": {
    "colab": {
     "base_uri": "https://localhost:8080/"
    },
    "id": "X-c7iGPCo9Ok",
    "outputId": "cbdb89f6-3bcc-4a16-b110-f1dd39b15518"
   },
   "outputs": [
    {
     "name": "stderr",
     "output_type": "stream",
     "text": [
      "[Parallel(n_jobs=1)]: Using backend SequentialBackend with 1 concurrent workers.\n"
     ]
    },
    {
     "name": "stdout",
     "output_type": "stream",
     "text": [
      "Fitting 3 folds for each of 27 candidates, totalling 81 fits\n"
     ]
    },
    {
     "name": "stderr",
     "output_type": "stream",
     "text": [
      "[Parallel(n_jobs=1)]: Done  81 out of  81 | elapsed:   36.7s finished\n"
     ]
    },
    {
     "data": {
      "text/plain": [
       "GridSearchCV(cv=ShuffleSplit(n_splits=3, random_state=8, test_size=0.33, train_size=None),\n",
       "             estimator=RandomForestClassifier(random_state=8),\n",
       "             param_grid={'bootstrap': [False], 'max_depth': [30, 40, 50],\n",
       "                         'max_features': ['sqrt'],\n",
       "                         'min_samples_leaf': [1, 2, 4],\n",
       "                         'min_samples_split': [5, 10, 15],\n",
       "                         'n_estimators': [800]},\n",
       "             scoring='accuracy', verbose=1)"
      ]
     },
     "execution_count": 74,
     "metadata": {},
     "output_type": "execute_result"
    }
   ],
   "source": [
    "\n",
    "# Create the parameter grid based on the results of random search \n",
    "bootstrap = [False]\n",
    "max_depth = [30, 40, 50]\n",
    "max_features = ['sqrt']\n",
    "min_samples_leaf = [1, 2, 4]\n",
    "min_samples_split = [5, 10, 15]\n",
    "n_estimators = [800]\n",
    "\n",
    "param_grid = {\n",
    "    'bootstrap': bootstrap,\n",
    "    'max_depth': max_depth,\n",
    "    'max_features': max_features,\n",
    "    'min_samples_leaf': min_samples_leaf,\n",
    "    'min_samples_split': min_samples_split,\n",
    "    'n_estimators': n_estimators\n",
    "}\n",
    "\n",
    "# Create a base model\n",
    "rfc = RandomForestClassifier(random_state=8)\n",
    "\n",
    "# Manually create the splits in CV in order to be able to fix a random_state (GridSearchCV doesn't have that argument)\n",
    "cv_sets = ShuffleSplit(n_splits = 3, test_size = .33, random_state = 8)\n",
    "\n",
    "# Instantiate the grid search model\n",
    "grid_search = GridSearchCV(estimator=rfc, \n",
    "                           param_grid=param_grid,\n",
    "                           scoring='accuracy',\n",
    "                           cv=cv_sets,\n",
    "                           verbose=1)\n",
    "\n",
    "# Fit the grid search to the data\n",
    "grid_search.fit(features_train, labels_train)"
   ]
  },
  {
   "cell_type": "code",
   "execution_count": 75,
   "metadata": {
    "id": "uICgTyJGpRiy"
   },
   "outputs": [],
   "source": [
    "best_rfc = grid_search.best_estimator_"
   ]
  },
  {
   "cell_type": "code",
   "execution_count": 76,
   "metadata": {
    "colab": {
     "base_uri": "https://localhost:8080/"
    },
    "id": "UeomEFsopTek",
    "outputId": "f5c2a6ca-b56b-4119-de47-b80f48e26ab5"
   },
   "outputs": [
    {
     "data": {
      "text/plain": [
       "RandomForestClassifier(bootstrap=False, max_depth=30, max_features='sqrt',\n",
       "                       min_samples_split=5, n_estimators=800, random_state=8)"
      ]
     },
     "execution_count": 76,
     "metadata": {},
     "output_type": "execute_result"
    }
   ],
   "source": [
    "best_rfc"
   ]
  },
  {
   "cell_type": "code",
   "execution_count": 77,
   "metadata": {
    "colab": {
     "base_uri": "https://localhost:8080/"
    },
    "id": "PsS5li1ZpXxz",
    "outputId": "b0ae42c2-2759-4d94-b178-f9db0ce8b748"
   },
   "outputs": [
    {
     "data": {
      "text/plain": [
       "RandomForestClassifier(bootstrap=False, max_depth=30, max_features='sqrt',\n",
       "                       min_samples_split=5, n_estimators=800, random_state=8)"
      ]
     },
     "execution_count": 77,
     "metadata": {},
     "output_type": "execute_result"
    }
   ],
   "source": [
    "best_rfc.fit(features_train, labels_train)"
   ]
  },
  {
   "cell_type": "code",
   "execution_count": 78,
   "metadata": {
    "id": "lRpyhSWSpanN"
   },
   "outputs": [],
   "source": [
    "rfc_pred = best_rfc.predict(features_test)"
   ]
  },
  {
   "cell_type": "code",
   "execution_count": 79,
   "metadata": {
    "colab": {
     "base_uri": "https://localhost:8080/"
    },
    "id": "OHSkbIjZpc86",
    "outputId": "e342baff-a6e4-4f06-b8bd-f23573c8f224"
   },
   "outputs": [
    {
     "name": "stdout",
     "output_type": "stream",
     "text": [
      "The training accuracy is: \n",
      "1.0\n"
     ]
    }
   ],
   "source": [
    "# Training accuracy\n",
    "print(\"The training accuracy is: \")\n",
    "print(accuracy_score(labels_train, best_rfc.predict(features_train)))"
   ]
  },
  {
   "cell_type": "code",
   "execution_count": 80,
   "metadata": {
    "colab": {
     "base_uri": "https://localhost:8080/"
    },
    "id": "dDUVzPXlpfXo",
    "outputId": "af69382d-29f6-4942-9f74-fed98b55d769"
   },
   "outputs": [
    {
     "name": "stdout",
     "output_type": "stream",
     "text": [
      "The test accuracy is: \n",
      "1.0\n"
     ]
    }
   ],
   "source": [
    "# Test accuracy\n",
    "print(\"The test accuracy is: \")\n",
    "print(accuracy_score(labels_test, rfc_pred))"
   ]
  },
  {
   "cell_type": "code",
   "execution_count": 81,
   "metadata": {
    "colab": {
     "base_uri": "https://localhost:8080/"
    },
    "id": "1YuMOorZphpr",
    "outputId": "af5bb6fb-643b-45b2-c86f-94715417ee62"
   },
   "outputs": [
    {
     "name": "stdout",
     "output_type": "stream",
     "text": [
      "Classification report\n",
      "              precision    recall  f1-score   support\n",
      "\n",
      "           0       1.00      1.00      1.00         1\n",
      "           1       1.00      1.00      1.00         1\n",
      "\n",
      "    accuracy                           1.00         2\n",
      "   macro avg       1.00      1.00      1.00         2\n",
      "weighted avg       1.00      1.00      1.00         2\n",
      "\n"
     ]
    }
   ],
   "source": [
    "# Classification report\n",
    "print(\"Classification report\")\n",
    "print(classification_report(labels_test,rfc_pred))"
   ]
  },
  {
   "cell_type": "code",
   "execution_count": 82,
   "metadata": {
    "colab": {
     "base_uri": "https://localhost:8080/",
     "height": 404
    },
    "id": "U5RmVvcwpkaB",
    "outputId": "e374aeed-5453-4fd4-98ec-f4af6b229da1"
   },
   "outputs": [
    {
     "data": {
      "image/png": "[encoded data removed]",
      "text/plain": [
       "<Figure size 921.6x432 with 2 Axes>"
      ]
     },
     "metadata": {},
     "output_type": "display_data"
    }
   ],
   "source": [
    "aux_df = df[['Category', 'Category_Code']].drop_duplicates().sort_values('Category_Code')\n",
    "conf_matrix = confusion_matrix(labels_test, rfc_pred)\n",
    "plt.figure(figsize=(12.8,6))\n",
    "sns.heatmap(conf_matrix, \n",
    "            annot=True,\n",
    "            xticklabels=aux_df['Category'].values, \n",
    "            yticklabels=aux_df['Category'].values,\n",
    "            cmap=\"Blues\")\n",
    "plt.ylabel('Predicted')\n",
    "plt.xlabel('Actual')\n",
    "plt.title('Confusion matrix')\n",
    "plt.show()"
   ]
  },
  {
   "cell_type": "code",
   "execution_count": 83,
   "metadata": {
    "id": "eCy16fRNpo0m"
   },
   "outputs": [],
   "source": [
    "features_time = features_train\n",
    "elapsed_list = []\n",
    "for i in range(0,10):\n",
    "\n",
    "    start = time.time()\n",
    "    predictions = best_rfc.predict(features_time)\n",
    "    end = time.time()\n",
    "    elapsed = end - start\n",
    "    elapsed_list.append(elapsed)\n",
    "\n",
    "mean_time_elapsed = np.mean(elapsed_list)"
   ]
  },
  {
   "cell_type": "code",
   "execution_count": 84,
   "metadata": {
    "colab": {
     "base_uri": "https://localhost:8080/"
    },
    "id": "hUFqRd8Kp4s9",
    "outputId": "54f83366-5d16-4285-9afc-c8de6fd09051"
   },
   "outputs": [
    {
     "data": {
      "text/plain": [
       "1.0"
      ]
     },
     "execution_count": 84,
     "metadata": {},
     "output_type": "execute_result"
    }
   ],
   "source": [
    "base_model = RandomForestClassifier(random_state = 8)\n",
    "base_model.fit(features_train, labels_train)\n",
    "accuracy_score(labels_test, base_model.predict(features_test))"
   ]
  },
  {
   "cell_type": "code",
   "execution_count": 85,
   "metadata": {
    "colab": {
     "base_uri": "https://localhost:8080/"
    },
    "id": "r95H-QGcp72f",
    "outputId": "f71791a4-4413-46c2-8714-55e0540055c0",
    "scrolled": true
   },
   "outputs": [
    {
     "data": {
      "text/plain": [
       "1.0"
      ]
     },
     "execution_count": 85,
     "metadata": {},
     "output_type": "execute_result"
    }
   ],
   "source": [
    "# calculating  accuracyRandom forest model \n",
    "best_rfc.fit(features_train, labels_train)\n",
    "accuracy_score(labels_test, best_rfc.predict(features_test))"
   ]
  },
  {
   "cell_type": "code",
   "execution_count": 86,
   "metadata": {
    "id": "fbF2D9iEp-xe"
   },
   "outputs": [],
   "source": [
    "d = {\n",
    "     'Model': 'Random Forest',\n",
    "     'Training Set Accuracy': accuracy_score(labels_train, best_rfc.predict(features_train)),\n",
    "     'Test Set Accuracy': accuracy_score(labels_test, rfc_pred)\n",
    "}\n",
    "\n",
    "df_models_rfc = pd.DataFrame(d, index=[0])"
   ]
  },
  {
   "cell_type": "code",
   "execution_count": 87,
   "metadata": {
    "colab": {
     "base_uri": "https://localhost:8080/",
     "height": 81
    },
    "id": "ghUsL8aXqBv2",
    "outputId": "5890f247-af03-4983-a2ea-d813625ae271"
   },
   "outputs": [
    {
     "data": {
      "text/html": [
       "<div>\n",
       "<style scoped>\n",
       "    .dataframe tbody tr th:only-of-type {\n",
       "        vertical-align: middle;\n",
       "    }\n",
       "\n",
       "    .dataframe tbody tr th {\n",
       "        vertical-align: top;\n",
       "    }\n",
       "\n",
       "    .dataframe thead th {\n",
       "        text-align: right;\n",
       "    }\n",
       "</style>\n",
       "<table border=\"1\" class=\"dataframe\">\n",
       "  <thead>\n",
       "    <tr style=\"text-align: right;\">\n",
       "      <th></th>\n",
       "      <th>Model</th>\n",
       "      <th>Training Set Accuracy</th>\n",
       "      <th>Test Set Accuracy</th>\n",
       "    </tr>\n",
       "  </thead>\n",
       "  <tbody>\n",
       "    <tr>\n",
       "      <th>0</th>\n",
       "      <td>Random Forest</td>\n",
       "      <td>1.0</td>\n",
       "      <td>1.0</td>\n",
       "    </tr>\n",
       "  </tbody>\n",
       "</table>\n",
       "</div>"
      ],
      "text/plain": [
       "           Model  Training Set Accuracy  Test Set Accuracy\n",
       "0  Random Forest                    1.0                1.0"
      ]
     },
     "execution_count": 87,
     "metadata": {},
     "output_type": "execute_result"
    }
   ],
   "source": [
    "df_models_rfc"
   ]
  },
  {
   "cell_type": "code",
   "execution_count": 88,
   "metadata": {
    "id": "rK6-A4JRqEQP"
   },
   "outputs": [],
   "source": [
    "with open('best_rfc.pickle', 'wb') as output:\n",
    "    pickle.dump(best_rfc, output)\n",
    "    \n",
    "with open('df_models_rfc.pickle', 'wb') as output:\n",
    "    pickle.dump(df_models_rfc, output)"
   ]
  },
  {
   "cell_type": "markdown",
   "metadata": {
    "id": "Eqr41KX5qS2g"
   },
   "source": [
    "## KNN"
   ]
  },
  {
   "cell_type": "code",
   "execution_count": 89,
   "metadata": {
    "id": "XEbOm-66qUro"
   },
   "outputs": [],
   "source": [
    "import pickle\n",
    "import numpy as np\n",
    "from sklearn.feature_extraction.text import TfidfVectorizer\n",
    "from sklearn.neighbors import KNeighborsClassifier\n",
    "from pprint import pprint\n",
    "from sklearn.model_selection import RandomizedSearchCV\n",
    "from sklearn.model_selection import GridSearchCV\n",
    "from sklearn.metrics import classification_report, confusion_matrix, accuracy_score\n",
    "from sklearn.model_selection import ShuffleSplit\n",
    "import matplotlib.pyplot as plt\n",
    "import seaborn as sns\n",
    "import pandas as pd"
   ]
  },
  {
   "cell_type": "code",
   "execution_count": 90,
   "metadata": {
    "id": "3g8F0gqkqcao"
   },
   "outputs": [],
   "source": [
    "# Dataframe\n",
    "path_df = \"df.pickle\"\n",
    "with open(path_df, 'rb') as data:\n",
    "    df = pickle.load(data)\n",
    "\n",
    "# features_train\n",
    "path_features_train = \"features_train.pickle\"\n",
    "with open(path_features_train, 'rb') as data:\n",
    "    features_train = pickle.load(data)\n",
    "\n",
    "# labels_train\n",
    "path_labels_train = \"labels_train.pickle\"\n",
    "with open(path_labels_train, 'rb') as data:\n",
    "    labels_train = pickle.load(data)\n",
    "\n",
    "# features_test\n",
    "path_features_test = \"features_test.pickle\"\n",
    "with open(path_features_test, 'rb') as data:\n",
    "    features_test = pickle.load(data)\n",
    "\n",
    "# labels_test\n",
    "path_labels_test = \"labels_test.pickle\"\n",
    "with open(path_labels_test, 'rb') as data:\n",
    "    labels_test = pickle.load(data)\n"
   ]
  },
  {
   "cell_type": "code",
   "execution_count": 91,
   "metadata": {
    "colab": {
     "base_uri": "https://localhost:8080/"
    },
    "id": "BU55o69-qlSl",
    "outputId": "3f638739-abba-4632-cd35-2a3d1e193e88"
   },
   "outputs": [
    {
     "name": "stdout",
     "output_type": "stream",
     "text": [
      "(6, 32)\n",
      "(2, 32)\n"
     ]
    }
   ],
   "source": [
    "print(features_train.shape)\n",
    "print(features_test.shape)"
   ]
  },
  {
   "cell_type": "code",
   "execution_count": 92,
   "metadata": {
    "colab": {
     "base_uri": "https://localhost:8080/"
    },
    "id": "SA4GFsxqqob7",
    "outputId": "1ef27e8b-8253-4847-eafd-d6ffe805ec89"
   },
   "outputs": [
    {
     "name": "stdout",
     "output_type": "stream",
     "text": [
      "Parameters currently in use:\n",
      "\n",
      "{'algorithm': 'auto',\n",
      " 'leaf_size': 30,\n",
      " 'metric': 'minkowski',\n",
      " 'metric_params': None,\n",
      " 'n_jobs': None,\n",
      " 'n_neighbors': 5,\n",
      " 'p': 2,\n",
      " 'weights': 'uniform'}\n"
     ]
    }
   ],
   "source": [
    "knnc_0 =KNeighborsClassifier()\n",
    "\n",
    "print('Parameters currently in use:\\n')\n",
    "pprint(knnc_0.get_params())\n"
   ]
  },
  {
   "cell_type": "code",
   "execution_count": 93,
   "metadata": {
    "colab": {
     "base_uri": "https://localhost:8080/"
    },
    "id": "f3xMT5fVqrcX",
    "outputId": "a0da24af-9187-4160-9d6e-6836acb4ca9d"
   },
   "outputs": [
    {
     "name": "stdout",
     "output_type": "stream",
     "text": [
      "[1, 2, 3]\n",
      "Fitting 3 folds for each of 3 candidates, totalling 9 fits\n"
     ]
    },
    {
     "name": "stderr",
     "output_type": "stream",
     "text": [
      "[Parallel(n_jobs=1)]: Using backend SequentialBackend with 1 concurrent workers.\n",
      "[Parallel(n_jobs=1)]: Done   9 out of   9 | elapsed:    0.0s finished\n"
     ]
    },
    {
     "data": {
      "text/plain": [
       "GridSearchCV(cv=ShuffleSplit(n_splits=3, random_state=8, test_size=0.33, train_size=None),\n",
       "             estimator=KNeighborsClassifier(),\n",
       "             param_grid={'n_neighbors': [1, 2, 3]}, scoring='accuracy',\n",
       "             verbose=1)"
      ]
     },
     "execution_count": 93,
     "metadata": {},
     "output_type": "execute_result"
    }
   ],
   "source": [
    "# Create the parameter grid \n",
    "n_neighbors = [int(x) for x in np.linspace(start = 1, stop = 3, num = 3)]\n",
    "print(n_neighbors)\n",
    "param_grid = {'n_neighbors': n_neighbors}\n",
    "\n",
    "# Create a base model\n",
    "knnc = KNeighborsClassifier()\n",
    "\n",
    "# Manually create the splits in CV in order to be able to fix a random_state (GridSearchCV doesn't have that argument)\n",
    "cv_sets = ShuffleSplit(n_splits = 3, test_size = .33, random_state = 8)\n",
    "\n",
    "# Instantiate the grid search model\n",
    "grid_search = GridSearchCV(estimator=knnc, \n",
    "                           param_grid=param_grid,\n",
    "                           scoring='accuracy',\n",
    "                           cv=cv_sets,\n",
    "                           verbose=1)\n",
    "\n",
    "# Fit the grid search to the data\n",
    "grid_search.fit(features_train, labels_train)"
   ]
  },
  {
   "cell_type": "code",
   "execution_count": 94,
   "metadata": {
    "colab": {
     "base_uri": "https://localhost:8080/"
    },
    "id": "JJlmMNQ2rSFz",
    "outputId": "15e78388-ad35-46c5-bc14-9397b6afbb25"
   },
   "outputs": [
    {
     "name": "stdout",
     "output_type": "stream",
     "text": [
      "The best hyperparameters from Grid Search are:\n",
      "{'n_neighbors': 2}\n",
      "\n",
      "The mean accuracy of a model with these hyperparameters is:\n",
      "0.5\n"
     ]
    }
   ],
   "source": [
    "print(\"The best hyperparameters from Grid Search are:\")\n",
    "print(grid_search.best_params_)\n",
    "print(\"\")\n",
    "print(\"The mean accuracy of a model with these hyperparameters is:\")\n",
    "print(grid_search.best_score_)"
   ]
  },
  {
   "cell_type": "code",
   "execution_count": 95,
   "metadata": {
    "colab": {
     "base_uri": "https://localhost:8080/"
    },
    "id": "YXBaR4dBrVs2",
    "outputId": "68bd8bb1-4efa-401a-adde-cb87d8edd1c3"
   },
   "outputs": [
    {
     "name": "stdout",
     "output_type": "stream",
     "text": [
      "Fitting 3 folds for each of 3 candidates, totalling 9 fits\n"
     ]
    },
    {
     "name": "stderr",
     "output_type": "stream",
     "text": [
      "[Parallel(n_jobs=1)]: Using backend SequentialBackend with 1 concurrent workers.\n",
      "[Parallel(n_jobs=1)]: Done   9 out of   9 | elapsed:    0.0s finished\n"
     ]
    },
    {
     "data": {
      "text/plain": [
       "GridSearchCV(cv=ShuffleSplit(n_splits=3, random_state=8, test_size=0.33, train_size=None),\n",
       "             estimator=KNeighborsClassifier(),\n",
       "             param_grid={'n_neighbors': [1, 2, 3]}, scoring='accuracy',\n",
       "             verbose=1)"
      ]
     },
     "execution_count": 95,
     "metadata": {},
     "output_type": "execute_result"
    }
   ],
   "source": [
    "n_neighbors = [1,2,3]\n",
    "param_grid = {'n_neighbors': n_neighbors}\n",
    "\n",
    "knnc = KNeighborsClassifier()\n",
    "cv_sets = ShuffleSplit(n_splits = 3, test_size = .33, random_state = 8)\n",
    "\n",
    "grid_search = GridSearchCV(estimator=knnc, \n",
    "                           param_grid=param_grid,\n",
    "                           scoring='accuracy',\n",
    "                           cv=cv_sets,\n",
    "                           verbose=1)\n",
    "\n",
    "grid_search.fit(features_train, labels_train)"
   ]
  },
  {
   "cell_type": "code",
   "execution_count": 96,
   "metadata": {
    "colab": {
     "base_uri": "https://localhost:8080/"
    },
    "id": "d08JyUKUraHg",
    "outputId": "c2187bac-0a1c-425c-b417-ac17ed4d5591"
   },
   "outputs": [
    {
     "name": "stdout",
     "output_type": "stream",
     "text": [
      "The best hyperparameters from Grid Search are:\n",
      "{'n_neighbors': 2}\n",
      "\n",
      "The mean accuracy of a model with these hyperparameters is:\n",
      "0.5\n"
     ]
    }
   ],
   "source": [
    "print(\"The best hyperparameters from Grid Search are:\")\n",
    "print(grid_search.best_params_)\n",
    "print(\"\")\n",
    "print(\"The mean accuracy of a model with these hyperparameters is:\")\n",
    "print(grid_search.best_score_)"
   ]
  },
  {
   "cell_type": "code",
   "execution_count": 97,
   "metadata": {
    "id": "NJOhGok4rdU6"
   },
   "outputs": [],
   "source": [
    "best_knnc = grid_search.best_estimator_"
   ]
  },
  {
   "cell_type": "code",
   "execution_count": 98,
   "metadata": {
    "colab": {
     "base_uri": "https://localhost:8080/"
    },
    "id": "9mCwqew1rfQo",
    "outputId": "6e6826af-8fa6-4632-e95b-f93b0997863f"
   },
   "outputs": [
    {
     "data": {
      "text/plain": [
       "KNeighborsClassifier(n_neighbors=2)"
      ]
     },
     "execution_count": 98,
     "metadata": {},
     "output_type": "execute_result"
    }
   ],
   "source": [
    "\n",
    "best_knnc"
   ]
  },
  {
   "cell_type": "code",
   "execution_count": 99,
   "metadata": {
    "colab": {
     "base_uri": "https://localhost:8080/"
    },
    "id": "rTId2VjIrhjI",
    "outputId": "25db9ede-5f18-40c5-dffe-b0e1d9118972"
   },
   "outputs": [
    {
     "data": {
      "text/plain": [
       "KNeighborsClassifier(n_neighbors=2)"
      ]
     },
     "execution_count": 99,
     "metadata": {},
     "output_type": "execute_result"
    }
   ],
   "source": [
    "best_knnc.fit(features_train, labels_train)"
   ]
  },
  {
   "cell_type": "code",
   "execution_count": 100,
   "metadata": {
    "id": "YrjJapoHrjhb"
   },
   "outputs": [],
   "source": [
    "\n",
    "knnc_pred = best_knnc.predict(features_test)"
   ]
  },
  {
   "cell_type": "code",
   "execution_count": 101,
   "metadata": {
    "colab": {
     "base_uri": "https://localhost:8080/"
    },
    "id": "hF082CKXrmWL",
    "outputId": "24360832-9013-48c2-cfea-33809306d1fe"
   },
   "outputs": [
    {
     "name": "stdout",
     "output_type": "stream",
     "text": [
      "The training accuracy is: \n",
      "0.5\n"
     ]
    }
   ],
   "source": [
    "# Training accuracy\n",
    "print(\"The training accuracy is: \")\n",
    "print(accuracy_score(labels_train, best_knnc.predict(features_train)))"
   ]
  },
  {
   "cell_type": "code",
   "execution_count": 102,
   "metadata": {
    "colab": {
     "base_uri": "https://localhost:8080/"
    },
    "id": "0mCz6NXRrpKQ",
    "outputId": "edc4670e-73c6-4942-e7d9-3e36f25629b6"
   },
   "outputs": [
    {
     "name": "stdout",
     "output_type": "stream",
     "text": [
      "The test accuracy is: \n",
      "0.5\n"
     ]
    }
   ],
   "source": [
    "# Test accuracy\n",
    "print(\"The test accuracy is: \")\n",
    "print(accuracy_score(labels_test, knnc_pred))"
   ]
  },
  {
   "cell_type": "code",
   "execution_count": 103,
   "metadata": {
    "colab": {
     "base_uri": "https://localhost:8080/"
    },
    "id": "w03aem4WrraW",
    "outputId": "2ca6c35f-8fca-4317-ee16-c0a77c8dd051"
   },
   "outputs": [
    {
     "name": "stdout",
     "output_type": "stream",
     "text": [
      "Classification report\n",
      "              precision    recall  f1-score   support\n",
      "\n",
      "           0       0.50      1.00      0.67         1\n",
      "           1       0.00      0.00      0.00         1\n",
      "\n",
      "    accuracy                           0.50         2\n",
      "   macro avg       0.25      0.50      0.33         2\n",
      "weighted avg       0.25      0.50      0.33         2\n",
      "\n"
     ]
    }
   ],
   "source": [
    "# Classification report\n",
    "print(\"Classification report\")\n",
    "print(classification_report(labels_test,knnc_pred))"
   ]
  },
  {
   "cell_type": "code",
   "execution_count": 104,
   "metadata": {
    "colab": {
     "base_uri": "https://localhost:8080/",
     "height": 404
    },
    "id": "oRA1E_oartq8",
    "outputId": "4ab7f5a4-d8e6-4f39-8792-94e81121a29f"
   },
   "outputs": [
    {
     "data": {
      "image/png": "[encoded data removed]",
      "text/plain": [
       "<Figure size 921.6x432 with 2 Axes>"
      ]
     },
     "metadata": {},
     "output_type": "display_data"
    }
   ],
   "source": [
    "aux_df = df[['Category', 'Category_Code']].drop_duplicates().sort_values('Category_Code')\n",
    "conf_matrix = confusion_matrix(labels_test, knnc_pred)\n",
    "plt.figure(figsize=(12.8,6))\n",
    "sns.heatmap(conf_matrix, \n",
    "            annot=True,\n",
    "            xticklabels=aux_df['Category'].values, \n",
    "            yticklabels=aux_df['Category'].values,\n",
    "            cmap=\"Blues\")\n",
    "plt.ylabel('Predicted')\n",
    "plt.xlabel('Actual')\n",
    "plt.title('Confusion matrix')\n",
    "plt.show()"
   ]
  },
  {
   "cell_type": "code",
   "execution_count": 105,
   "metadata": {
    "colab": {
     "base_uri": "https://localhost:8080/"
    },
    "id": "Srb28h05rxl_",
    "outputId": "5ea31b68-45d7-4443-d489-5ead981ed781"
   },
   "outputs": [
    {
     "data": {
      "text/plain": [
       "0.5"
      ]
     },
     "execution_count": 105,
     "metadata": {},
     "output_type": "execute_result"
    }
   ],
   "source": [
    "base_model = KNeighborsClassifier()\n",
    "base_model.fit(features_train, labels_train)\n",
    "accuracy_score(labels_test, base_model.predict(features_test))"
   ]
  },
  {
   "cell_type": "code",
   "execution_count": 106,
   "metadata": {
    "colab": {
     "base_uri": "https://localhost:8080/"
    },
    "id": "o5SlR-LcrzvL",
    "outputId": "8df67ea9-9bed-4731-e236-4318688895a5"
   },
   "outputs": [
    {
     "data": {
      "text/plain": [
       "0.5"
      ]
     },
     "execution_count": 106,
     "metadata": {},
     "output_type": "execute_result"
    }
   ],
   "source": [
    "best_knnc.fit(features_train, labels_train)\n",
    "accuracy_score(labels_test, best_knnc.predict(features_test))"
   ]
  },
  {
   "cell_type": "code",
   "execution_count": 107,
   "metadata": {
    "id": "Ux1WA0-7r17D"
   },
   "outputs": [],
   "source": [
    "\n",
    "d = {\n",
    "     'Model': 'KNN',\n",
    "     'Training Set Accuracy': accuracy_score(labels_train, best_knnc.predict(features_train)),\n",
    "     'Test Set Accuracy': accuracy_score(labels_test, knnc_pred)\n",
    "}\n",
    "\n",
    "df_models_knnc = pd.DataFrame(d, index=[0])"
   ]
  },
  {
   "cell_type": "code",
   "execution_count": 108,
   "metadata": {
    "colab": {
     "base_uri": "https://localhost:8080/",
     "height": 81
    },
    "id": "2Z7EDoC4r4MK",
    "outputId": "48b2e39d-e841-45fc-ed85-05e65d2d13a8"
   },
   "outputs": [
    {
     "data": {
      "text/html": [
       "<div>\n",
       "<style scoped>\n",
       "    .dataframe tbody tr th:only-of-type {\n",
       "        vertical-align: middle;\n",
       "    }\n",
       "\n",
       "    .dataframe tbody tr th {\n",
       "        vertical-align: top;\n",
       "    }\n",
       "\n",
       "    .dataframe thead th {\n",
       "        text-align: right;\n",
       "    }\n",
       "</style>\n",
       "<table border=\"1\" class=\"dataframe\">\n",
       "  <thead>\n",
       "    <tr style=\"text-align: right;\">\n",
       "      <th></th>\n",
       "      <th>Model</th>\n",
       "      <th>Training Set Accuracy</th>\n",
       "      <th>Test Set Accuracy</th>\n",
       "    </tr>\n",
       "  </thead>\n",
       "  <tbody>\n",
       "    <tr>\n",
       "      <th>0</th>\n",
       "      <td>KNN</td>\n",
       "      <td>0.5</td>\n",
       "      <td>0.5</td>\n",
       "    </tr>\n",
       "  </tbody>\n",
       "</table>\n",
       "</div>"
      ],
      "text/plain": [
       "  Model  Training Set Accuracy  Test Set Accuracy\n",
       "0   KNN                    0.5                0.5"
      ]
     },
     "execution_count": 108,
     "metadata": {},
     "output_type": "execute_result"
    }
   ],
   "source": [
    "df_models_knnc"
   ]
  },
  {
   "cell_type": "code",
   "execution_count": 109,
   "metadata": {
    "id": "-sz828BKr6Vm"
   },
   "outputs": [],
   "source": [
    "\n",
    "with open('best_knnc.pickle', 'wb') as output:\n",
    "    pickle.dump(best_knnc, output)\n",
    "\n",
    "with open('df_models_knnc.pickle', 'wb') as output:\n",
    "    pickle.dump(df_models_knnc, output)"
   ]
  },
  {
   "cell_type": "markdown",
   "metadata": {
    "id": "A_7mJJZEr-Jl"
   },
   "source": [
    "##Support vector Machine\n"
   ]
  },
  {
   "cell_type": "code",
   "execution_count": 110,
   "metadata": {
    "id": "3-lBKj07Ucwp"
   },
   "outputs": [],
   "source": [
    "import pickle\n",
    "import numpy as np\n",
    "from sklearn.feature_extraction.text import TfidfVectorizer\n",
    "from sklearn import svm\n",
    "from pprint import pprint\n",
    "from sklearn.model_selection import RandomizedSearchCV\n",
    "from sklearn.model_selection import GridSearchCV\n",
    "from sklearn.metrics import classification_report, confusion_matrix, accuracy_score\n",
    "from sklearn.model_selection import ShuffleSplit\n",
    "import matplotlib.pyplot as plt\n",
    "import seaborn as sns\n",
    "import pandas as pd"
   ]
  },
  {
   "cell_type": "code",
   "execution_count": null,
   "metadata": {
    "id": "bfED8-d_aEYu"
   },
   "outputs": [],
   "source": []
  },
  {
   "cell_type": "markdown",
   "metadata": {
    "id": "Eu3saDaBaHdb"
   },
   "source": [
    "### load the data:\n"
   ]
  },
  {
   "cell_type": "code",
   "execution_count": 111,
   "metadata": {
    "id": "DtC1MHTNaEV1"
   },
   "outputs": [],
   "source": [
    "# Dataframe\n",
    "path_df = \"df.pickle\"\n",
    "with open(path_df, 'rb') as data:\n",
    "    df = pickle.load(data)\n",
    "\n",
    "# features_train\n",
    "path_features_train = \"features_train.pickle\"\n",
    "with open(path_features_train, 'rb') as data:\n",
    "    features_train = pickle.load(data)\n",
    "\n",
    "# labels_train\n",
    "path_labels_train = \"labels_train.pickle\"\n",
    "with open(path_labels_train, 'rb') as data:\n",
    "    labels_train = pickle.load(data)\n",
    "\n",
    "# features_test\n",
    "path_features_test = \"features_test.pickle\"\n",
    "with open(path_features_test, 'rb') as data:\n",
    "    features_test = pickle.load(data)\n",
    "\n",
    "# labels_test\n",
    "path_labels_test = \"labels_test.pickle\"\n",
    "with open(path_labels_test, 'rb') as data:\n",
    "    labels_test = pickle.load(data)"
   ]
  },
  {
   "cell_type": "code",
   "execution_count": 112,
   "metadata": {
    "colab": {
     "base_uri": "https://localhost:8080/"
    },
    "id": "h1F_myqwaES7",
    "outputId": "a5076d7d-fc6e-4654-e04d-4d0305490bfc"
   },
   "outputs": [
    {
     "name": "stdout",
     "output_type": "stream",
     "text": [
      "(6, 32)\n",
      "(2, 32)\n"
     ]
    }
   ],
   "source": [
    "print(features_train.shape)\n",
    "print(features_test.shape)"
   ]
  },
  {
   "cell_type": "code",
   "execution_count": null,
   "metadata": {
    "id": "Eh5XrOXFaEQH"
   },
   "outputs": [],
   "source": []
  },
  {
   "cell_type": "markdown",
   "metadata": {
    "id": "wG1uFwkzaW8v"
   },
   "source": [
    "### Cross-Validation for Hyperparameter tuning"
   ]
  },
  {
   "cell_type": "code",
   "execution_count": 113,
   "metadata": {
    "colab": {
     "base_uri": "https://localhost:8080/"
    },
    "id": "N5saiThWaEMi",
    "outputId": "79a65726-cb56-42ca-cc51-5686c2df792f"
   },
   "outputs": [
    {
     "name": "stdout",
     "output_type": "stream",
     "text": [
      "Parameters currently in use:\n",
      "\n",
      "{'C': 1.0,\n",
      " 'break_ties': False,\n",
      " 'cache_size': 200,\n",
      " 'class_weight': None,\n",
      " 'coef0': 0.0,\n",
      " 'decision_function_shape': 'ovr',\n",
      " 'degree': 3,\n",
      " 'gamma': 'scale',\n",
      " 'kernel': 'rbf',\n",
      " 'max_iter': -1,\n",
      " 'probability': False,\n",
      " 'random_state': 8,\n",
      " 'shrinking': True,\n",
      " 'tol': 0.001,\n",
      " 'verbose': False}\n"
     ]
    }
   ],
   "source": [
    "svc_0 =svm.SVC(random_state=8)\n",
    "\n",
    "print('Parameters currently in use:\\n')\n",
    "pprint(svc_0.get_params())"
   ]
  },
  {
   "cell_type": "code",
   "execution_count": null,
   "metadata": {
    "id": "PcsvxZZmaEJo"
   },
   "outputs": [],
   "source": []
  },
  {
   "cell_type": "markdown",
   "metadata": {
    "id": "vshHrHt1ahVP"
   },
   "source": [
    "### Randomized Search Cross Validation"
   ]
  },
  {
   "cell_type": "code",
   "execution_count": 114,
   "metadata": {
    "colab": {
     "base_uri": "https://localhost:8080/"
    },
    "id": "gln18q1raEGU",
    "outputId": "ea9fc520-5433-4282-bd09-01dbe044910e"
   },
   "outputs": [
    {
     "name": "stdout",
     "output_type": "stream",
     "text": [
      "{'C': [0.0001, 0.001, 0.01],\n",
      " 'degree': [1, 2, 3, 4, 5],\n",
      " 'gamma': [0.0001, 0.001, 0.01, 0.1, 1, 10, 100],\n",
      " 'kernel': ['linear', 'rbf', 'poly'],\n",
      " 'probability': [True]}\n"
     ]
    }
   ],
   "source": [
    "# C\n",
    "C = [.0001, .001, .01]\n",
    "\n",
    "# gamma\n",
    "gamma = [.0001, .001, .01, .1, 1, 10, 100]\n",
    "\n",
    "# degree\n",
    "degree = [1, 2, 3, 4, 5]\n",
    "\n",
    "# kernel\n",
    "kernel = ['linear', 'rbf', 'poly']\n",
    "\n",
    "# probability\n",
    "probability = [True]\n",
    "\n",
    "# Create the random grid\n",
    "random_grid = {'C': C,\n",
    "              'kernel': kernel,\n",
    "              'gamma': gamma,\n",
    "              'degree': degree,\n",
    "              'probability': probability\n",
    "             }\n",
    "\n",
    "pprint(random_grid)"
   ]
  },
  {
   "cell_type": "code",
   "execution_count": null,
   "metadata": {
    "id": "PLdPlY4TaEC3"
   },
   "outputs": [],
   "source": []
  },
  {
   "cell_type": "markdown",
   "metadata": {
    "id": "IMhfeo8Raq8e"
   },
   "source": [
    "### Performing the Random Search:"
   ]
  },
  {
   "cell_type": "code",
   "execution_count": 115,
   "metadata": {
    "colab": {
     "base_uri": "https://localhost:8080/"
    },
    "id": "9OGzquEoaD_w",
    "outputId": "f339e9c2-5595-42e9-8411-03ef9387a765"
   },
   "outputs": [
    {
     "name": "stdout",
     "output_type": "stream",
     "text": [
      "Fitting 3 folds for each of 50 candidates, totalling 150 fits\n"
     ]
    },
    {
     "name": "stderr",
     "output_type": "stream",
     "text": [
      "[Parallel(n_jobs=1)]: Using backend SequentialBackend with 1 concurrent workers.\n",
      "[Parallel(n_jobs=1)]: Done 150 out of 150 | elapsed:    0.1s finished\n"
     ]
    },
    {
     "data": {
      "text/plain": [
       "RandomizedSearchCV(cv=3, estimator=SVC(random_state=8), n_iter=50,\n",
       "                   param_distributions={'C': [0.0001, 0.001, 0.01],\n",
       "                                        'degree': [1, 2, 3, 4, 5],\n",
       "                                        'gamma': [0.0001, 0.001, 0.01, 0.1, 1,\n",
       "                                                  10, 100],\n",
       "                                        'kernel': ['linear', 'rbf', 'poly'],\n",
       "                                        'probability': [True]},\n",
       "                   random_state=8, scoring='accuracy', verbose=1)"
      ]
     },
     "execution_count": 115,
     "metadata": {},
     "output_type": "execute_result"
    }
   ],
   "source": [
    "# First create the base model to tune\n",
    "svc = svm.SVC(random_state=8)\n",
    "\n",
    "# Definition of the random search\n",
    "random_search = RandomizedSearchCV(estimator=svc,\n",
    "                                   param_distributions=random_grid,\n",
    "                                   n_iter=50,\n",
    "                                   scoring='accuracy',\n",
    "                                   cv=3, \n",
    "                                   verbose=1, \n",
    "                                   random_state=8)\n",
    "\n",
    "# Fit the random search model\n",
    "random_search.fit(features_train, labels_train)\n"
   ]
  },
  {
   "cell_type": "code",
   "execution_count": null,
   "metadata": {
    "id": "eu5SvkLYaD8M"
   },
   "outputs": [],
   "source": []
  },
  {
   "cell_type": "markdown",
   "metadata": {
    "id": "Kc7I4BXxa9d4"
   },
   "source": [
    "### Seeing best hyperparameters resulting from the Random Search:"
   ]
  },
  {
   "cell_type": "code",
   "execution_count": 116,
   "metadata": {
    "colab": {
     "base_uri": "https://localhost:8080/"
    },
    "id": "wfdkPuGVaD4U",
    "outputId": "c810cc2e-449a-46ef-d456-da6dfd2bf8ca"
   },
   "outputs": [
    {
     "name": "stdout",
     "output_type": "stream",
     "text": [
      "The best hyperparameters from Random Search are:\n",
      "{'probability': True, 'kernel': 'rbf', 'gamma': 100, 'degree': 3, 'C': 0.001}\n",
      "\n",
      "The mean accuracy of a model with these hyperparameters is:\n",
      "0.6666666666666666\n"
     ]
    }
   ],
   "source": [
    "print(\"The best hyperparameters from Random Search are:\")\n",
    "print(random_search.best_params_)\n",
    "print(\"\")\n",
    "print(\"The mean accuracy of a model with these hyperparameters is:\")\n",
    "print(random_search.best_score_)"
   ]
  },
  {
   "cell_type": "markdown",
   "metadata": {
    "id": "ToiP0jC0bIXs"
   },
   "source": [
    "### Grid Search Cross Validation"
   ]
  },
  {
   "cell_type": "code",
   "execution_count": 117,
   "metadata": {
    "colab": {
     "base_uri": "https://localhost:8080/"
    },
    "id": "kmsL7CAwaDoc",
    "outputId": "4d6b5531-52c9-4561-929e-86f104a55957"
   },
   "outputs": [
    {
     "name": "stdout",
     "output_type": "stream",
     "text": [
      "Fitting 3 folds for each of 28 candidates, totalling 84 fits\n"
     ]
    },
    {
     "name": "stderr",
     "output_type": "stream",
     "text": [
      "[Parallel(n_jobs=1)]: Using backend SequentialBackend with 1 concurrent workers.\n",
      "[Parallel(n_jobs=1)]: Done  84 out of  84 | elapsed:    0.0s finished\n"
     ]
    },
    {
     "data": {
      "text/plain": [
       "GridSearchCV(cv=ShuffleSplit(n_splits=3, random_state=8, test_size=0.33, train_size=None),\n",
       "             estimator=SVC(random_state=8),\n",
       "             param_grid=[{'C': [0.0001, 0.001, 0.01, 0.1], 'kernel': ['linear'],\n",
       "                          'probability': [True]},\n",
       "                         {'C': [0.0001, 0.001, 0.01, 0.1], 'degree': [3, 4, 5],\n",
       "                          'kernel': ['poly'], 'probability': [True]},\n",
       "                         {'C': [0.0001, 0.001, 0.01, 0.1],\n",
       "                          'gamma': [1, 10, 100], 'kernel': ['rbf'],\n",
       "                          'probability': [True]}],\n",
       "             scoring='accuracy', verbose=1)"
      ]
     },
     "execution_count": 117,
     "metadata": {},
     "output_type": "execute_result"
    }
   ],
   "source": [
    "# Create the parameter grid based on the results of random search \n",
    "C = [.0001, .001, .01, .1]\n",
    "degree = [3, 4, 5]\n",
    "gamma = [1, 10, 100]\n",
    "probability = [True]\n",
    "\n",
    "param_grid = [\n",
    "  {'C': C, 'kernel':['linear'], 'probability':probability},\n",
    "  {'C': C, 'kernel':['poly'], 'degree':degree, 'probability':probability},\n",
    "  {'C': C, 'kernel':['rbf'], 'gamma':gamma, 'probability':probability}\n",
    "]\n",
    "\n",
    "# Create a base model\n",
    "svc = svm.SVC(random_state=8)\n",
    "\n",
    "# Manually create the splits in CV in order to be able to fix a random_state (GridSearchCV doesn't have that argument)\n",
    "cv_sets = ShuffleSplit(n_splits = 3, test_size = .33, random_state = 8)\n",
    "\n",
    "# Instantiate the grid search model\n",
    "grid_search = GridSearchCV(estimator=svc, \n",
    "                           param_grid=param_grid,\n",
    "                           scoring='accuracy',\n",
    "                           cv=cv_sets,\n",
    "                           verbose=1)\n",
    "\n",
    "# Fit the grid search to the data\n",
    "grid_search.fit(features_train, labels_train)"
   ]
  },
  {
   "cell_type": "code",
   "execution_count": null,
   "metadata": {
    "id": "YxoMeFu_aDXi"
   },
   "outputs": [],
   "source": []
  },
  {
   "cell_type": "markdown",
   "metadata": {
    "id": "t2xeZWAabUjw"
   },
   "source": [
    "### best hyperparameters turn out to be:"
   ]
  },
  {
   "cell_type": "code",
   "execution_count": 118,
   "metadata": {
    "colab": {
     "base_uri": "https://localhost:8080/"
    },
    "id": "mtWHwcH3bRKD",
    "outputId": "201028b8-7f34-4b58-e072-7c6ee319db39"
   },
   "outputs": [
    {
     "name": "stdout",
     "output_type": "stream",
     "text": [
      "The best hyperparameters from Grid Search are:\n",
      "{'C': 0.001, 'degree': 5, 'kernel': 'poly', 'probability': True}\n",
      "\n",
      "The mean accuracy of a model with these hyperparameters is:\n",
      "0.3333333333333333\n"
     ]
    }
   ],
   "source": [
    "print(\"The best hyperparameters from Grid Search are:\")\n",
    "print(grid_search.best_params_)\n",
    "print(\"\")\n",
    "print(\"The mean accuracy of a model with these hyperparameters is:\")\n",
    "print(grid_search.best_score_)"
   ]
  },
  {
   "cell_type": "code",
   "execution_count": 119,
   "metadata": {
    "id": "4zvMFmg9bRFd"
   },
   "outputs": [],
   "source": [
    "best_svc = grid_search.best_estimator_"
   ]
  },
  {
   "cell_type": "code",
   "execution_count": 120,
   "metadata": {
    "colab": {
     "base_uri": "https://localhost:8080/"
    },
    "id": "B79C6RSlbRBv",
    "outputId": "3ffb9912-026e-463f-9882-05fde82452e1"
   },
   "outputs": [
    {
     "data": {
      "text/plain": [
       "SVC(C=0.001, degree=5, kernel='poly', probability=True, random_state=8)"
      ]
     },
     "execution_count": 120,
     "metadata": {},
     "output_type": "execute_result"
    }
   ],
   "source": [
    "best_svc"
   ]
  },
  {
   "cell_type": "code",
   "execution_count": null,
   "metadata": {
    "id": "1SrL2K4RbQ-W"
   },
   "outputs": [],
   "source": []
  },
  {
   "cell_type": "markdown",
   "metadata": {
    "id": "x-vPMh51be5i"
   },
   "source": [
    "### Model fit and performance"
   ]
  },
  {
   "cell_type": "code",
   "execution_count": 121,
   "metadata": {
    "colab": {
     "base_uri": "https://localhost:8080/"
    },
    "id": "WCqWhr1ubQ6P",
    "outputId": "c756b485-c6b0-4f64-b313-e6028c60ba79"
   },
   "outputs": [
    {
     "data": {
      "text/plain": [
       "SVC(C=0.001, degree=5, kernel='poly', probability=True, random_state=8)"
      ]
     },
     "execution_count": 121,
     "metadata": {},
     "output_type": "execute_result"
    }
   ],
   "source": [
    "best_svc.fit(features_train, labels_train)"
   ]
  },
  {
   "cell_type": "code",
   "execution_count": 122,
   "metadata": {
    "id": "0LgdhheAbQ2v"
   },
   "outputs": [],
   "source": [
    "svc_pred = best_svc.predict(features_test)"
   ]
  },
  {
   "cell_type": "code",
   "execution_count": null,
   "metadata": {
    "id": "SDLDxPxLbQzI"
   },
   "outputs": [],
   "source": []
  },
  {
   "cell_type": "markdown",
   "metadata": {
    "id": "bF-_j1eObst7"
   },
   "source": [
    "### Training accuracy"
   ]
  },
  {
   "cell_type": "code",
   "execution_count": 123,
   "metadata": {
    "colab": {
     "base_uri": "https://localhost:8080/"
    },
    "id": "_VUAKUK-b-71",
    "outputId": "c0f6fd53-21ae-4516-9741-0588a8cf2c22"
   },
   "outputs": [
    {
     "name": "stdout",
     "output_type": "stream",
     "text": [
      "The training accuracy is: \n",
      "1.0\n"
     ]
    }
   ],
   "source": [
    "\n",
    "# Training accuracy\n",
    "print(\"The training accuracy is: \")\n",
    "print(accuracy_score(labels_train, best_svc.predict(features_train)))"
   ]
  },
  {
   "cell_type": "code",
   "execution_count": null,
   "metadata": {
    "id": "l_yxQNSScI9y"
   },
   "outputs": [],
   "source": []
  },
  {
   "cell_type": "markdown",
   "metadata": {
    "id": "qIuPIEorcLde"
   },
   "source": [
    "### Test accuracy"
   ]
  },
  {
   "cell_type": "code",
   "execution_count": 124,
   "metadata": {
    "colab": {
     "base_uri": "https://localhost:8080/"
    },
    "id": "E-j8VJ_8cI6b",
    "outputId": "c7326528-2d7e-4c5d-bbe7-d65f040c828a"
   },
   "outputs": [
    {
     "name": "stdout",
     "output_type": "stream",
     "text": [
      "The test accuracy is: \n",
      "1.0\n"
     ]
    }
   ],
   "source": [
    "# Test accuracy\n",
    "print(\"The test accuracy is: \")\n",
    "print(accuracy_score(labels_test, svc_pred))"
   ]
  },
  {
   "cell_type": "markdown",
   "metadata": {
    "id": "yGov0LhucguZ"
   },
   "source": [
    "### Classification report"
   ]
  },
  {
   "cell_type": "code",
   "execution_count": 125,
   "metadata": {
    "colab": {
     "base_uri": "https://localhost:8080/"
    },
    "id": "Q94AtH8bcI0l",
    "outputId": "097e2635-913d-4d2e-8ae3-aaac70722646"
   },
   "outputs": [
    {
     "name": "stdout",
     "output_type": "stream",
     "text": [
      "Classification report\n",
      "              precision    recall  f1-score   support\n",
      "\n",
      "           0       1.00      1.00      1.00         1\n",
      "           1       1.00      1.00      1.00         1\n",
      "\n",
      "    accuracy                           1.00         2\n",
      "   macro avg       1.00      1.00      1.00         2\n",
      "weighted avg       1.00      1.00      1.00         2\n",
      "\n"
     ]
    }
   ],
   "source": [
    "# Classification report\n",
    "print(\"Classification report\")\n",
    "print(classification_report(labels_test,svc_pred))"
   ]
  },
  {
   "cell_type": "code",
   "execution_count": null,
   "metadata": {
    "id": "FSdSOlbrcxIW"
   },
   "outputs": [],
   "source": []
  },
  {
   "cell_type": "markdown",
   "metadata": {
    "id": "CcEAv6duc1mC"
   },
   "source": [
    "### Confusion matrix"
   ]
  },
  {
   "cell_type": "code",
   "execution_count": 126,
   "metadata": {
    "colab": {
     "base_uri": "https://localhost:8080/",
     "height": 404
    },
    "id": "7TEbP3Ntcw3O",
    "outputId": "c0ca73ef-d822-4bfc-fda2-86eecb219354"
   },
   "outputs": [
    {
     "data": {
      "image/png": "[encoded data removed]",
      "text/plain": [
       "<Figure size 921.6x432 with 2 Axes>"
      ]
     },
     "metadata": {},
     "output_type": "display_data"
    }
   ],
   "source": [
    "aux_df = df[['Category', 'Category_Code']].drop_duplicates().sort_values('Category_Code')\n",
    "conf_matrix = confusion_matrix(labels_test, svc_pred)\n",
    "plt.figure(figsize=(12.8,6))\n",
    "sns.heatmap(conf_matrix, \n",
    "            annot=True,\n",
    "            xticklabels=aux_df['Category'].values, \n",
    "            yticklabels=aux_df['Category'].values,\n",
    "            cmap=\"Blues\")\n",
    "plt.ylabel('Predicted')\n",
    "plt.xlabel('Actual')\n",
    "plt.title('Confusion matrix')\n",
    "plt.show()"
   ]
  },
  {
   "cell_type": "code",
   "execution_count": 127,
   "metadata": {
    "colab": {
     "base_uri": "https://localhost:8080/"
    },
    "id": "GHmoECridBYx",
    "outputId": "2d4cc92f-8f60-4684-d3c6-b22ca81e4189"
   },
   "outputs": [
    {
     "data": {
      "text/plain": [
       "0.5"
      ]
     },
     "execution_count": 127,
     "metadata": {},
     "output_type": "execute_result"
    }
   ],
   "source": [
    "base_model = svm.SVC(random_state = 8)\n",
    "base_model.fit(features_train, labels_train)\n",
    "accuracy_score(labels_test, base_model.predict(features_test))"
   ]
  },
  {
   "cell_type": "code",
   "execution_count": 128,
   "metadata": {
    "colab": {
     "base_uri": "https://localhost:8080/"
    },
    "id": "9Q9-y3lbdBIT",
    "outputId": "f6da11b6-1957-4f72-c827-998f1c76ca6b"
   },
   "outputs": [
    {
     "data": {
      "text/plain": [
       "1.0"
      ]
     },
     "execution_count": 128,
     "metadata": {},
     "output_type": "execute_result"
    }
   ],
   "source": [
    "best_svc.fit(features_train, labels_train)\n",
    "accuracy_score(labels_test, best_svc.predict(features_test))"
   ]
  },
  {
   "cell_type": "code",
   "execution_count": 129,
   "metadata": {
    "id": "rzrbm8vKdBFG"
   },
   "outputs": [],
   "source": [
    "d = {\n",
    "     'Model': 'SVM',\n",
    "     'Training Set Accuracy': accuracy_score(labels_train, best_svc.predict(features_train)),\n",
    "     'Test Set Accuracy': accuracy_score(labels_test, svc_pred)\n",
    "}\n",
    "\n",
    "df_models_svc = pd.DataFrame(d, index=[0])"
   ]
  },
  {
   "cell_type": "code",
   "execution_count": 130,
   "metadata": {
    "colab": {
     "base_uri": "https://localhost:8080/",
     "height": 81
    },
    "id": "CIgxwXSUdBB_",
    "outputId": "18146849-88df-416f-b22b-11c3153dcae6"
   },
   "outputs": [
    {
     "data": {
      "text/html": [
       "<div>\n",
       "<style scoped>\n",
       "    .dataframe tbody tr th:only-of-type {\n",
       "        vertical-align: middle;\n",
       "    }\n",
       "\n",
       "    .dataframe tbody tr th {\n",
       "        vertical-align: top;\n",
       "    }\n",
       "\n",
       "    .dataframe thead th {\n",
       "        text-align: right;\n",
       "    }\n",
       "</style>\n",
       "<table border=\"1\" class=\"dataframe\">\n",
       "  <thead>\n",
       "    <tr style=\"text-align: right;\">\n",
       "      <th></th>\n",
       "      <th>Model</th>\n",
       "      <th>Training Set Accuracy</th>\n",
       "      <th>Test Set Accuracy</th>\n",
       "    </tr>\n",
       "  </thead>\n",
       "  <tbody>\n",
       "    <tr>\n",
       "      <th>0</th>\n",
       "      <td>SVM</td>\n",
       "      <td>1.0</td>\n",
       "      <td>1.0</td>\n",
       "    </tr>\n",
       "  </tbody>\n",
       "</table>\n",
       "</div>"
      ],
      "text/plain": [
       "  Model  Training Set Accuracy  Test Set Accuracy\n",
       "0   SVM                    1.0                1.0"
      ]
     },
     "execution_count": 130,
     "metadata": {},
     "output_type": "execute_result"
    }
   ],
   "source": [
    "df_models_svc"
   ]
  },
  {
   "cell_type": "markdown",
   "metadata": {
    "id": "hUeyxu14dNhq"
   },
   "source": [
    "### Saving the model and dataset:\n",
    "\n",
    "\n"
   ]
  },
  {
   "cell_type": "code",
   "execution_count": 131,
   "metadata": {
    "id": "iYQZPicmdID_"
   },
   "outputs": [],
   "source": [
    "with open('best_svc.pickle', 'wb') as output:\n",
    "    pickle.dump(best_svc, output)\n",
    "    \n",
    "with open('df_models_svc.pickle', 'wb') as output:\n",
    "    pickle.dump(df_models_svc, output)"
   ]
  },
  {
   "cell_type": "markdown",
   "metadata": {
    "id": "oL1zSIEmequB"
   },
   "source": [
    "# Best model selection"
   ]
  },
  {
   "cell_type": "code",
   "execution_count": 132,
   "metadata": {
    "id": "Hty3hycneqcc"
   },
   "outputs": [],
   "source": [
    "path_pickles = \"\"\n",
    "\n",
    "list_pickles = [\n",
    "    \"df_models_knnc.pickle\",\n",
    "    \"df_models_rfc.pickle\",\n",
    "    \"df_models_svc.pickle\"\n",
    "]\n",
    "\n",
    "df_summary = pd.DataFrame()\n",
    "\n",
    "for pickle_ in list_pickles:\n",
    "    \n",
    "    path = path_pickles + pickle_\n",
    "    \n",
    "    with open(path, 'rb') as data:\n",
    "        df = pickle.load(data)\n",
    "\n",
    "    df_summary = df_summary.append(df)\n",
    "\n",
    "df_summary = df_summary.reset_index().drop('index', axis=1)"
   ]
  },
  {
   "cell_type": "code",
   "execution_count": 133,
   "metadata": {
    "colab": {
     "base_uri": "https://localhost:8080/",
     "height": 143
    },
    "id": "-PQDtJ0kfBas",
    "outputId": "f9e12bc8-7f75-46b0-8380-40db947fe754"
   },
   "outputs": [
    {
     "data": {
      "text/html": [
       "<div>\n",
       "<style scoped>\n",
       "    .dataframe tbody tr th:only-of-type {\n",
       "        vertical-align: middle;\n",
       "    }\n",
       "\n",
       "    .dataframe tbody tr th {\n",
       "        vertical-align: top;\n",
       "    }\n",
       "\n",
       "    .dataframe thead th {\n",
       "        text-align: right;\n",
       "    }\n",
       "</style>\n",
       "<table border=\"1\" class=\"dataframe\">\n",
       "  <thead>\n",
       "    <tr style=\"text-align: right;\">\n",
       "      <th></th>\n",
       "      <th>Model</th>\n",
       "      <th>Training Set Accuracy</th>\n",
       "      <th>Test Set Accuracy</th>\n",
       "    </tr>\n",
       "  </thead>\n",
       "  <tbody>\n",
       "    <tr>\n",
       "      <th>0</th>\n",
       "      <td>KNN</td>\n",
       "      <td>0.5</td>\n",
       "      <td>0.5</td>\n",
       "    </tr>\n",
       "    <tr>\n",
       "      <th>1</th>\n",
       "      <td>Random Forest</td>\n",
       "      <td>1.0</td>\n",
       "      <td>1.0</td>\n",
       "    </tr>\n",
       "    <tr>\n",
       "      <th>2</th>\n",
       "      <td>SVM</td>\n",
       "      <td>1.0</td>\n",
       "      <td>1.0</td>\n",
       "    </tr>\n",
       "  </tbody>\n",
       "</table>\n",
       "</div>"
      ],
      "text/plain": [
       "           Model  Training Set Accuracy  Test Set Accuracy\n",
       "0            KNN                    0.5                0.5\n",
       "1  Random Forest                    1.0                1.0\n",
       "2            SVM                    1.0                1.0"
      ]
     },
     "execution_count": 133,
     "metadata": {},
     "output_type": "execute_result"
    }
   ],
   "source": [
    "df_summary"
   ]
  },
  {
   "cell_type": "code",
   "execution_count": 134,
   "metadata": {
    "colab": {
     "base_uri": "https://localhost:8080/",
     "height": 143
    },
    "id": "vcijn1VafFMW",
    "outputId": "7fa9440b-6c4a-41d2-b73e-166d9c7d5dca"
   },
   "outputs": [
    {
     "data": {
      "text/html": [
       "<div>\n",
       "<style scoped>\n",
       "    .dataframe tbody tr th:only-of-type {\n",
       "        vertical-align: middle;\n",
       "    }\n",
       "\n",
       "    .dataframe tbody tr th {\n",
       "        vertical-align: top;\n",
       "    }\n",
       "\n",
       "    .dataframe thead th {\n",
       "        text-align: right;\n",
       "    }\n",
       "</style>\n",
       "<table border=\"1\" class=\"dataframe\">\n",
       "  <thead>\n",
       "    <tr style=\"text-align: right;\">\n",
       "      <th></th>\n",
       "      <th>Model</th>\n",
       "      <th>Training Set Accuracy</th>\n",
       "      <th>Test Set Accuracy</th>\n",
       "    </tr>\n",
       "  </thead>\n",
       "  <tbody>\n",
       "    <tr>\n",
       "      <th>1</th>\n",
       "      <td>Random Forest</td>\n",
       "      <td>1.0</td>\n",
       "      <td>1.0</td>\n",
       "    </tr>\n",
       "    <tr>\n",
       "      <th>2</th>\n",
       "      <td>SVM</td>\n",
       "      <td>1.0</td>\n",
       "      <td>1.0</td>\n",
       "    </tr>\n",
       "    <tr>\n",
       "      <th>0</th>\n",
       "      <td>KNN</td>\n",
       "      <td>0.5</td>\n",
       "      <td>0.5</td>\n",
       "    </tr>\n",
       "  </tbody>\n",
       "</table>\n",
       "</div>"
      ],
      "text/plain": [
       "           Model  Training Set Accuracy  Test Set Accuracy\n",
       "1  Random Forest                    1.0                1.0\n",
       "2            SVM                    1.0                1.0\n",
       "0            KNN                    0.5                0.5"
      ]
     },
     "execution_count": 134,
     "metadata": {},
     "output_type": "execute_result"
    }
   ],
   "source": [
    "df_summary.sort_values('Test Set Accuracy', ascending=False)"
   ]
  }
 ],
 "metadata": {
  "colab": {
   "collapsed_sections": [
    "ZdfKDVJu_sv5",
    "Eqr41KX5qS2g",
    "IMhfeo8Raq8e",
    "Kc7I4BXxa9d4",
    "ToiP0jC0bIXs",
    "t2xeZWAabUjw",
    "x-vPMh51be5i"
   ],
   "name": "FeatureEngineeringAssignment1.ipynb",
   "provenance": [],
   "toc_visible": true
  },
  "kernelspec": {
   "display_name": "Python 3",
   "language": "python",
   "name": "python3"
  },
  "language_info": {
   "codemirror_mode": {
    "name": "ipython",
    "version": 3
   },
   "file_extension": ".py",
   "mimetype": "text/x-python",
   "name": "python",
   "nbconvert_exporter": "python",
   "pygments_lexer": "ipython3",
   "version": "3.8.5"
  }
 },
 "nbformat": 4,
 "nbformat_minor": 1
}
